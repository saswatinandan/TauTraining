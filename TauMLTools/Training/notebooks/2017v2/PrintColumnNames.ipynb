{
 "cells": [
  {
   "cell_type": "code",
   "execution_count": 1,
   "metadata": {},
   "outputs": [],
   "source": [
    "import pandas\n",
    "import tables"
   ]
  },
  {
   "cell_type": "code",
   "execution_count": 1,
   "metadata": {},
   "outputs": [
    {
     "ename": "ImportError",
     "evalue": "Traceback (most recent call last):\n  File \"C:\\Users\\konst\\AppData\\Roaming\\Python\\Python36\\site-packages\\tensorflow\\python\\pywrap_tensorflow.py\", line 58, in <module>\n    from tensorflow.python.pywrap_tensorflow_internal import *\n  File \"C:\\Users\\konst\\AppData\\Roaming\\Python\\Python36\\site-packages\\tensorflow\\python\\pywrap_tensorflow_internal.py\", line 28, in <module>\n    _pywrap_tensorflow_internal = swig_import_helper()\n  File \"C:\\Users\\konst\\AppData\\Roaming\\Python\\Python36\\site-packages\\tensorflow\\python\\pywrap_tensorflow_internal.py\", line 24, in swig_import_helper\n    _mod = imp.load_module('_pywrap_tensorflow_internal', fp, pathname, description)\n  File \"c:\\program files (x86)\\microsoft visual studio\\shared\\python36_64\\lib\\imp.py\", line 243, in load_module\n    return load_dynamic(name, filename, file)\n  File \"c:\\program files (x86)\\microsoft visual studio\\shared\\python36_64\\lib\\imp.py\", line 343, in load_dynamic\n    return _load(spec)\nImportError: DLL load failed: The specified module could not be found.\n\n\nFailed to load the native TensorFlow runtime.\n\nSee https://www.tensorflow.org/install/errors\n\nfor some common reasons and solutions.  Include the entire stack trace\nabove this error message when asking for help.",
     "output_type": "error",
     "traceback": [
      "\u001b[1;31m---------------------------------------------------------------------------\u001b[0m",
      "\u001b[1;31mImportError\u001b[0m                               Traceback (most recent call last)",
      "\u001b[1;32m~\\AppData\\Roaming\\Python\\Python36\\site-packages\\tensorflow\\python\\pywrap_tensorflow.py\u001b[0m in \u001b[0;36m<module>\u001b[1;34m\u001b[0m\n\u001b[0;32m     57\u001b[0m \u001b[1;33m\u001b[0m\u001b[0m\n\u001b[1;32m---> 58\u001b[1;33m   \u001b[1;32mfrom\u001b[0m \u001b[0mtensorflow\u001b[0m\u001b[1;33m.\u001b[0m\u001b[0mpython\u001b[0m\u001b[1;33m.\u001b[0m\u001b[0mpywrap_tensorflow_internal\u001b[0m \u001b[1;32mimport\u001b[0m \u001b[1;33m*\u001b[0m\u001b[1;33m\u001b[0m\u001b[0m\n\u001b[0m\u001b[0;32m     59\u001b[0m   \u001b[1;32mfrom\u001b[0m \u001b[0mtensorflow\u001b[0m\u001b[1;33m.\u001b[0m\u001b[0mpython\u001b[0m\u001b[1;33m.\u001b[0m\u001b[0mpywrap_tensorflow_internal\u001b[0m \u001b[1;32mimport\u001b[0m \u001b[0m__version__\u001b[0m\u001b[1;33m\u001b[0m\u001b[0m\n",
      "\u001b[1;32m~\\AppData\\Roaming\\Python\\Python36\\site-packages\\tensorflow\\python\\pywrap_tensorflow_internal.py\u001b[0m in \u001b[0;36m<module>\u001b[1;34m\u001b[0m\n\u001b[0;32m     27\u001b[0m             \u001b[1;32mreturn\u001b[0m \u001b[0m_mod\u001b[0m\u001b[1;33m\u001b[0m\u001b[0m\n\u001b[1;32m---> 28\u001b[1;33m     \u001b[0m_pywrap_tensorflow_internal\u001b[0m \u001b[1;33m=\u001b[0m \u001b[0mswig_import_helper\u001b[0m\u001b[1;33m(\u001b[0m\u001b[1;33m)\u001b[0m\u001b[1;33m\u001b[0m\u001b[0m\n\u001b[0m\u001b[0;32m     29\u001b[0m     \u001b[1;32mdel\u001b[0m \u001b[0mswig_import_helper\u001b[0m\u001b[1;33m\u001b[0m\u001b[0m\n",
      "\u001b[1;32m~\\AppData\\Roaming\\Python\\Python36\\site-packages\\tensorflow\\python\\pywrap_tensorflow_internal.py\u001b[0m in \u001b[0;36mswig_import_helper\u001b[1;34m()\u001b[0m\n\u001b[0;32m     23\u001b[0m             \u001b[1;32mtry\u001b[0m\u001b[1;33m:\u001b[0m\u001b[1;33m\u001b[0m\u001b[0m\n\u001b[1;32m---> 24\u001b[1;33m                 \u001b[0m_mod\u001b[0m \u001b[1;33m=\u001b[0m \u001b[0mimp\u001b[0m\u001b[1;33m.\u001b[0m\u001b[0mload_module\u001b[0m\u001b[1;33m(\u001b[0m\u001b[1;34m'_pywrap_tensorflow_internal'\u001b[0m\u001b[1;33m,\u001b[0m \u001b[0mfp\u001b[0m\u001b[1;33m,\u001b[0m \u001b[0mpathname\u001b[0m\u001b[1;33m,\u001b[0m \u001b[0mdescription\u001b[0m\u001b[1;33m)\u001b[0m\u001b[1;33m\u001b[0m\u001b[0m\n\u001b[0m\u001b[0;32m     25\u001b[0m             \u001b[1;32mfinally\u001b[0m\u001b[1;33m:\u001b[0m\u001b[1;33m\u001b[0m\u001b[0m\n",
      "\u001b[1;32mc:\\program files (x86)\\microsoft visual studio\\shared\\python36_64\\lib\\imp.py\u001b[0m in \u001b[0;36mload_module\u001b[1;34m(name, file, filename, details)\u001b[0m\n\u001b[0;32m    242\u001b[0m         \u001b[1;32melse\u001b[0m\u001b[1;33m:\u001b[0m\u001b[1;33m\u001b[0m\u001b[0m\n\u001b[1;32m--> 243\u001b[1;33m             \u001b[1;32mreturn\u001b[0m \u001b[0mload_dynamic\u001b[0m\u001b[1;33m(\u001b[0m\u001b[0mname\u001b[0m\u001b[1;33m,\u001b[0m \u001b[0mfilename\u001b[0m\u001b[1;33m,\u001b[0m \u001b[0mfile\u001b[0m\u001b[1;33m)\u001b[0m\u001b[1;33m\u001b[0m\u001b[0m\n\u001b[0m\u001b[0;32m    244\u001b[0m     \u001b[1;32melif\u001b[0m \u001b[0mtype_\u001b[0m \u001b[1;33m==\u001b[0m \u001b[0mPKG_DIRECTORY\u001b[0m\u001b[1;33m:\u001b[0m\u001b[1;33m\u001b[0m\u001b[0m\n",
      "\u001b[1;32mc:\\program files (x86)\\microsoft visual studio\\shared\\python36_64\\lib\\imp.py\u001b[0m in \u001b[0;36mload_dynamic\u001b[1;34m(name, path, file)\u001b[0m\n\u001b[0;32m    342\u001b[0m             name=name, loader=loader, origin=path)\n\u001b[1;32m--> 343\u001b[1;33m         \u001b[1;32mreturn\u001b[0m \u001b[0m_load\u001b[0m\u001b[1;33m(\u001b[0m\u001b[0mspec\u001b[0m\u001b[1;33m)\u001b[0m\u001b[1;33m\u001b[0m\u001b[0m\n\u001b[0m\u001b[0;32m    344\u001b[0m \u001b[1;33m\u001b[0m\u001b[0m\n",
      "\u001b[1;31mImportError\u001b[0m: DLL load failed: The specified module could not be found.",
      "\nDuring handling of the above exception, another exception occurred:\n",
      "\u001b[1;31mImportError\u001b[0m                               Traceback (most recent call last)",
      "\u001b[1;32m<ipython-input-1-64156d691fe5>\u001b[0m in \u001b[0;36m<module>\u001b[1;34m\u001b[0m\n\u001b[1;32m----> 1\u001b[1;33m \u001b[1;32mimport\u001b[0m \u001b[0mtensorflow\u001b[0m \u001b[1;32mas\u001b[0m \u001b[0mtf\u001b[0m\u001b[1;33m\u001b[0m\u001b[0m\n\u001b[0m",
      "\u001b[1;32m~\\AppData\\Roaming\\Python\\Python36\\site-packages\\tensorflow\\__init__.py\u001b[0m in \u001b[0;36m<module>\u001b[1;34m\u001b[0m\n\u001b[0;32m     22\u001b[0m \u001b[1;33m\u001b[0m\u001b[0m\n\u001b[0;32m     23\u001b[0m \u001b[1;31m# pylint: disable=g-bad-import-order\u001b[0m\u001b[1;33m\u001b[0m\u001b[1;33m\u001b[0m\u001b[0m\n\u001b[1;32m---> 24\u001b[1;33m \u001b[1;32mfrom\u001b[0m \u001b[0mtensorflow\u001b[0m\u001b[1;33m.\u001b[0m\u001b[0mpython\u001b[0m \u001b[1;32mimport\u001b[0m \u001b[0mpywrap_tensorflow\u001b[0m  \u001b[1;31m# pylint: disable=unused-import\u001b[0m\u001b[1;33m\u001b[0m\u001b[0m\n\u001b[0m\u001b[0;32m     25\u001b[0m \u001b[1;33m\u001b[0m\u001b[0m\n\u001b[0;32m     26\u001b[0m \u001b[1;32mfrom\u001b[0m \u001b[0mtensorflow\u001b[0m\u001b[1;33m.\u001b[0m\u001b[0m_api\u001b[0m\u001b[1;33m.\u001b[0m\u001b[0mv1\u001b[0m \u001b[1;32mimport\u001b[0m \u001b[0mapp\u001b[0m\u001b[1;33m\u001b[0m\u001b[0m\n",
      "\u001b[1;32m~\\AppData\\Roaming\\Python\\Python36\\site-packages\\tensorflow\\python\\__init__.py\u001b[0m in \u001b[0;36m<module>\u001b[1;34m\u001b[0m\n\u001b[0;32m     47\u001b[0m \u001b[1;32mimport\u001b[0m \u001b[0mnumpy\u001b[0m \u001b[1;32mas\u001b[0m \u001b[0mnp\u001b[0m\u001b[1;33m\u001b[0m\u001b[0m\n\u001b[0;32m     48\u001b[0m \u001b[1;33m\u001b[0m\u001b[0m\n\u001b[1;32m---> 49\u001b[1;33m \u001b[1;32mfrom\u001b[0m \u001b[0mtensorflow\u001b[0m\u001b[1;33m.\u001b[0m\u001b[0mpython\u001b[0m \u001b[1;32mimport\u001b[0m \u001b[0mpywrap_tensorflow\u001b[0m\u001b[1;33m\u001b[0m\u001b[0m\n\u001b[0m\u001b[0;32m     50\u001b[0m \u001b[1;33m\u001b[0m\u001b[0m\n\u001b[0;32m     51\u001b[0m \u001b[1;31m# Protocol buffers\u001b[0m\u001b[1;33m\u001b[0m\u001b[1;33m\u001b[0m\u001b[0m\n",
      "\u001b[1;32m~\\AppData\\Roaming\\Python\\Python36\\site-packages\\tensorflow\\python\\pywrap_tensorflow.py\u001b[0m in \u001b[0;36m<module>\u001b[1;34m\u001b[0m\n\u001b[0;32m     72\u001b[0m \u001b[1;32mfor\u001b[0m \u001b[0msome\u001b[0m \u001b[0mcommon\u001b[0m \u001b[0mreasons\u001b[0m \u001b[1;32mand\u001b[0m \u001b[0msolutions\u001b[0m\u001b[1;33m.\u001b[0m  \u001b[0mInclude\u001b[0m \u001b[0mthe\u001b[0m \u001b[0mentire\u001b[0m \u001b[0mstack\u001b[0m \u001b[0mtrace\u001b[0m\u001b[1;33m\u001b[0m\u001b[0m\n\u001b[0;32m     73\u001b[0m above this error message when asking for help.\"\"\" % traceback.format_exc()\n\u001b[1;32m---> 74\u001b[1;33m   \u001b[1;32mraise\u001b[0m \u001b[0mImportError\u001b[0m\u001b[1;33m(\u001b[0m\u001b[0mmsg\u001b[0m\u001b[1;33m)\u001b[0m\u001b[1;33m\u001b[0m\u001b[0m\n\u001b[0m\u001b[0;32m     75\u001b[0m \u001b[1;33m\u001b[0m\u001b[0m\n\u001b[0;32m     76\u001b[0m \u001b[1;31m# pylint: enable=wildcard-import,g-import-not-at-top,unused-import,line-too-long\u001b[0m\u001b[1;33m\u001b[0m\u001b[1;33m\u001b[0m\u001b[0m\n",
      "\u001b[1;31mImportError\u001b[0m: Traceback (most recent call last):\n  File \"C:\\Users\\konst\\AppData\\Roaming\\Python\\Python36\\site-packages\\tensorflow\\python\\pywrap_tensorflow.py\", line 58, in <module>\n    from tensorflow.python.pywrap_tensorflow_internal import *\n  File \"C:\\Users\\konst\\AppData\\Roaming\\Python\\Python36\\site-packages\\tensorflow\\python\\pywrap_tensorflow_internal.py\", line 28, in <module>\n    _pywrap_tensorflow_internal = swig_import_helper()\n  File \"C:\\Users\\konst\\AppData\\Roaming\\Python\\Python36\\site-packages\\tensorflow\\python\\pywrap_tensorflow_internal.py\", line 24, in swig_import_helper\n    _mod = imp.load_module('_pywrap_tensorflow_internal', fp, pathname, description)\n  File \"c:\\program files (x86)\\microsoft visual studio\\shared\\python36_64\\lib\\imp.py\", line 243, in load_module\n    return load_dynamic(name, filename, file)\n  File \"c:\\program files (x86)\\microsoft visual studio\\shared\\python36_64\\lib\\imp.py\", line 343, in load_dynamic\n    return _load(spec)\nImportError: DLL load failed: The specified module could not be found.\n\n\nFailed to load the native TensorFlow runtime.\n\nSee https://www.tensorflow.org/install/errors\n\nfor some common reasons and solutions.  Include the entire stack trace\nabove this error message when asking for help."
     ]
    }
   ],
   "source": [
    "import tensorflow as tf"
   ]
  },
  {
   "cell_type": "code",
   "execution_count": 2,
   "metadata": {},
   "outputs": [
    {
     "data": {
      "text/plain": [
       "'0.24.2'"
      ]
     },
     "execution_count": 2,
     "metadata": {},
     "output_type": "execute_result"
    }
   ],
   "source": [
    "pandas.__version__"
   ]
  },
  {
   "cell_type": "code",
   "execution_count": 2,
   "metadata": {},
   "outputs": [],
   "source": [
    "def PrintColumns(columns):\n",
    "    column_str = '[ '\n",
    "    for col in columns:\n",
    "        column_str += \"'{}', \".format(col)\n",
    "    column_str += ']'\n",
    "    print(column_str)"
   ]
  },
  {
   "cell_type": "code",
   "execution_count": 7,
   "metadata": {},
   "outputs": [],
   "source": [
    "file_name = 'N:\\\\tau-ml\\\\tuples-v2-t3\\\\training\\\\part_0.h5'\n",
    "df_taus = pandas.read_hdf(file_name, 'taus', start=0, stop=10)"
   ]
  },
  {
   "cell_type": "code",
   "execution_count": 8,
   "metadata": {},
   "outputs": [
    {
     "name": "stdout",
     "output_type": "stream",
     "text": [
      "[ 'run', 'lumi', 'evt', 'npv', 'rho', 'genEventWeight', 'trainingWeight', 'npu', 'pv_x', 'pv_y', 'pv_z', 'pv_chi2', 'pv_ndof', 'jet_index', 'jet_pt', 'jet_eta', 'jet_phi', 'jet_mass', 'jet_neutralHadronEnergyFraction', 'jet_neutralEmEnergyFraction', 'jet_nConstituents', 'jet_chargedMultiplicity', 'jet_neutralMultiplicity', 'jet_partonFlavour', 'jet_hadronFlavour', 'jet_has_gen_match', 'jet_gen_pt', 'jet_gen_eta', 'jet_gen_phi', 'jet_gen_mass', 'jet_gen_n_b', 'jet_gen_n_c', 'jetTauMatch', 'tau_index', 'tau_pt', 'tau_eta', 'tau_phi', 'tau_mass', 'tau_E_over_pt', 'tau_charge', 'gen_e', 'gen_mu', 'gen_tau', 'gen_jet', 'lepton_gen_match', 'lepton_gen_charge', 'lepton_gen_pt', 'lepton_gen_eta', 'lepton_gen_phi', 'lepton_gen_mass', 'lepton_gen_vis_pt', 'lepton_gen_vis_eta', 'lepton_gen_vis_phi', 'lepton_gen_vis_mass', 'qcd_gen_match', 'qcd_gen_charge', 'qcd_gen_pt', 'qcd_gen_eta', 'qcd_gen_phi', 'qcd_gen_mass', 'tau_n_charged_prongs', 'tau_n_neutral_prongs', 'tau_decayMode', 'tau_decayModeFinding', 'tau_decayModeFindingNewDMs', 'chargedIsoPtSum', 'chargedIsoPtSumdR03_over_dR05', 'footprintCorrection', 'neutralIsoPtSum', 'neutralIsoPtSumWeight_over_neutralIsoPtSum', 'neutralIsoPtSumWeightdR03_over_neutralIsoPtSum', 'neutralIsoPtSumdR03_over_dR05', 'photonPtSumOutsideSignalCone', 'puCorrPtSum', 'againstElectronMVA6', 'againstElectronMVA6raw', 'againstElectronMVA62018', 'againstElectronMVA62018raw', 'againstMuon3', 'againstMuon3raw', 'byCombinedIsolationDeltaBetaCorr3Hits', 'byCombinedIsolationDeltaBetaCorr3Hitsraw', 'byIsolationMVArun2v1DBoldDMwLT2016', 'byIsolationMVArun2v1DBoldDMwLT2016raw', 'byIsolationMVArun2v1DBnewDMwLT2016', 'byIsolationMVArun2v1DBnewDMwLT2016raw', 'byIsolationMVArun2017v2DBoldDMwLT2017', 'byIsolationMVArun2017v2DBoldDMwLT2017raw', 'byIsolationMVArun2017v2DBoldDMdR0p3wLT2017', 'byIsolationMVArun2017v2DBoldDMdR0p3wLT2017raw', 'byIsolationMVArun2017v2DBnewDMwLT2017', 'byIsolationMVArun2017v2DBnewDMwLT2017raw', 'byDeepTau2017v1VSe', 'byDeepTau2017v1VSeraw', 'byDeepTau2017v1VSmu', 'byDeepTau2017v1VSmuraw', 'byDeepTau2017v1VSjet', 'byDeepTau2017v1VSjetraw', 'byDpfTau2016v0VSall', 'byDpfTau2016v0VSallraw', 'tau_dxy_pca_x', 'tau_dxy_pca_y', 'tau_dxy_pca_z', 'tau_dxy_valid', 'tau_dxy', 'tau_dxy_sig', 'tau_ip3d_valid', 'tau_ip3d', 'tau_ip3d_sig', 'tau_dz', 'tau_dz_sig_valid', 'tau_dz_sig', 'tau_flightLength_x', 'tau_flightLength_y', 'tau_flightLength_z', 'tau_flightLength_sig', 'tau_pt_weighted_deta_strip', 'tau_pt_weighted_dphi_strip', 'tau_pt_weighted_dr_signal', 'tau_pt_weighted_dr_iso', 'tau_leadingTrackNormChi2', 'tau_e_ratio_valid', 'tau_e_ratio', 'tau_gj_angle_diff_valid', 'tau_gj_angle_diff', 'tau_n_photons', 'tau_emFraction', 'tau_inside_ecal_crack', 'leadChargedCand_etaAtEcalEntrance_minus_tau_eta', 'innerCells_begin', 'innerCells_end', 'outerCells_begin', 'outerCells_end', ]\n"
     ]
    }
   ],
   "source": [
    "PrintColumns(df_taus)"
   ]
  },
  {
   "cell_type": "code",
   "execution_count": 10,
   "metadata": {},
   "outputs": [],
   "source": [
    "df_cells = pandas.read_hdf(file_name, 'inner_cells', start=0, stop=10)"
   ]
  },
  {
   "cell_type": "code",
   "execution_count": 11,
   "metadata": {},
   "outputs": [
    {
     "name": "stdout",
     "output_type": "stream",
     "text": [
      "[ 'eta_index', 'phi_index', 'tau_pt', 'rho', 'pfCand_ele_n_total', 'pfCand_ele_valid', 'pfCand_ele_rel_pt', 'pfCand_ele_deta', 'pfCand_ele_dphi', 'pfCand_ele_tauSignal', 'pfCand_ele_tauIso', 'pfCand_ele_pvAssociationQuality', 'pfCand_ele_puppiWeight', 'pfCand_ele_charge', 'pfCand_ele_lostInnerHits', 'pfCand_ele_numberOfPixelHits', 'pfCand_ele_vertex_dx', 'pfCand_ele_vertex_dy', 'pfCand_ele_vertex_dz', 'pfCand_ele_vertex_dx_tauFL', 'pfCand_ele_vertex_dy_tauFL', 'pfCand_ele_vertex_dz_tauFL', 'pfCand_ele_hasTrackDetails', 'pfCand_ele_dxy', 'pfCand_ele_dxy_sig', 'pfCand_ele_dz', 'pfCand_ele_dz_sig', 'pfCand_ele_track_chi2_ndof', 'pfCand_ele_track_ndof', 'pfCand_muon_n_total', 'pfCand_muon_valid', 'pfCand_muon_rel_pt', 'pfCand_muon_deta', 'pfCand_muon_dphi', 'pfCand_muon_tauSignal', 'pfCand_muon_tauIso', 'pfCand_muon_pvAssociationQuality', 'pfCand_muon_fromPV', 'pfCand_muon_puppiWeight', 'pfCand_muon_charge', 'pfCand_muon_lostInnerHits', 'pfCand_muon_numberOfPixelHits', 'pfCand_muon_vertex_dx', 'pfCand_muon_vertex_dy', 'pfCand_muon_vertex_dz', 'pfCand_muon_vertex_dx_tauFL', 'pfCand_muon_vertex_dy_tauFL', 'pfCand_muon_vertex_dz_tauFL', 'pfCand_muon_hasTrackDetails', 'pfCand_muon_dxy', 'pfCand_muon_dxy_sig', 'pfCand_muon_dz', 'pfCand_muon_dz_sig', 'pfCand_muon_track_chi2_ndof', 'pfCand_muon_track_ndof', 'pfCand_chHad_n_total', 'pfCand_chHad_valid', 'pfCand_chHad_rel_pt', 'pfCand_chHad_deta', 'pfCand_chHad_dphi', 'pfCand_chHad_tauSignal', 'pfCand_chHad_leadChargedHadrCand', 'pfCand_chHad_tauIso', 'pfCand_chHad_pvAssociationQuality', 'pfCand_chHad_fromPV', 'pfCand_chHad_puppiWeight', 'pfCand_chHad_puppiWeightNoLep', 'pfCand_chHad_charge', 'pfCand_chHad_lostInnerHits', 'pfCand_chHad_numberOfPixelHits', 'pfCand_chHad_vertex_dx', 'pfCand_chHad_vertex_dy', 'pfCand_chHad_vertex_dz', 'pfCand_chHad_vertex_dx_tauFL', 'pfCand_chHad_vertex_dy_tauFL', 'pfCand_chHad_vertex_dz_tauFL', 'pfCand_chHad_hasTrackDetails', 'pfCand_chHad_dxy', 'pfCand_chHad_dxy_sig', 'pfCand_chHad_dz', 'pfCand_chHad_dz_sig', 'pfCand_chHad_track_chi2_ndof', 'pfCand_chHad_track_ndof', 'pfCand_chHad_hcalFraction', 'pfCand_chHad_rawCaloFraction', 'pfCand_nHad_n_total', 'pfCand_nHad_valid', 'pfCand_nHad_rel_pt', 'pfCand_nHad_deta', 'pfCand_nHad_dphi', 'pfCand_nHad_tauSignal', 'pfCand_nHad_tauIso', 'pfCand_nHad_puppiWeight', 'pfCand_nHad_puppiWeightNoLep', 'pfCand_nHad_hcalFraction', 'pfCand_gamma_n_total', 'pfCand_gamma_valid', 'pfCand_gamma_rel_pt', 'pfCand_gamma_deta', 'pfCand_gamma_dphi', 'pfCand_gamma_tauSignal', 'pfCand_gamma_tauIso', 'pfCand_gamma_pvAssociationQuality', 'pfCand_gamma_fromPV', 'pfCand_gamma_puppiWeight', 'pfCand_gamma_puppiWeightNoLep', 'pfCand_gamma_lostInnerHits', 'pfCand_gamma_numberOfPixelHits', 'pfCand_gamma_vertex_dx', 'pfCand_gamma_vertex_dy', 'pfCand_gamma_vertex_dz', 'pfCand_gamma_vertex_dx_tauFL', 'pfCand_gamma_vertex_dy_tauFL', 'pfCand_gamma_vertex_dz_tauFL', 'pfCand_gamma_hasTrackDetails', 'pfCand_gamma_dxy', 'pfCand_gamma_dxy_sig', 'pfCand_gamma_dz', 'pfCand_gamma_dz_sig', 'pfCand_gamma_track_chi2_ndof', 'pfCand_gamma_track_ndof', 'ele_n_total', 'ele_valid', 'ele_rel_pt', 'ele_deta', 'ele_dphi', 'ele_cc_valid', 'ele_cc_ele_rel_energy', 'ele_cc_gamma_rel_energy', 'ele_cc_n_gamma', 'ele_rel_trackMomentumAtVtx', 'ele_rel_trackMomentumAtCalo', 'ele_rel_trackMomentumOut', 'ele_rel_trackMomentumAtEleClus', 'ele_rel_trackMomentumAtVtxWithConstraint', 'ele_rel_ecalEnergy', 'ele_ecalEnergy_sig', 'ele_eSuperClusterOverP', 'ele_eSeedClusterOverP', 'ele_eSeedClusterOverPout', 'ele_eEleClusterOverPout', 'ele_deltaEtaSuperClusterTrackAtVtx', 'ele_deltaEtaSeedClusterTrackAtCalo', 'ele_deltaEtaEleClusterTrackAtCalo', 'ele_deltaPhiEleClusterTrackAtCalo', 'ele_deltaPhiSuperClusterTrackAtVtx', 'ele_deltaPhiSeedClusterTrackAtCalo', 'ele_mvaInput_earlyBrem', 'ele_mvaInput_lateBrem', 'ele_mvaInput_sigmaEtaEta', 'ele_mvaInput_hadEnergy', 'ele_mvaInput_deltaEta', 'ele_gsfTrack_normalizedChi2', 'ele_gsfTrack_numberOfValidHits', 'ele_rel_gsfTrack_pt', 'ele_gsfTrack_pt_sig', 'ele_has_closestCtfTrack', 'ele_closestCtfTrack_normalizedChi2', 'ele_closestCtfTrack_numberOfValidHits', 'muon_n_total', 'muon_valid', 'muon_rel_pt', 'muon_deta', 'muon_dphi', 'muon_dxy', 'muon_dxy_sig', 'muon_normalizedChi2_valid', 'muon_normalizedChi2', 'muon_numberOfValidHits', 'muon_segmentCompatibility', 'muon_caloCompatibility', 'muon_pfEcalEnergy_valid', 'muon_rel_pfEcalEnergy', 'muon_n_matches_DT_1', 'muon_n_matches_DT_2', 'muon_n_matches_DT_3', 'muon_n_matches_DT_4', 'muon_n_matches_CSC_1', 'muon_n_matches_CSC_2', 'muon_n_matches_CSC_3', 'muon_n_matches_CSC_4', 'muon_n_matches_RPC_1', 'muon_n_matches_RPC_2', 'muon_n_matches_RPC_3', 'muon_n_matches_RPC_4', 'muon_n_hits_DT_1', 'muon_n_hits_DT_2', 'muon_n_hits_DT_3', 'muon_n_hits_DT_4', 'muon_n_hits_CSC_1', 'muon_n_hits_CSC_2', 'muon_n_hits_CSC_3', 'muon_n_hits_CSC_4', 'muon_n_hits_RPC_1', 'muon_n_hits_RPC_2', 'muon_n_hits_RPC_3', 'muon_n_hits_RPC_4', ]\n"
     ]
    }
   ],
   "source": [
    "PrintColumns(df_cells)"
   ]
  },
  {
   "cell_type": "code",
   "execution_count": 12,
   "metadata": {},
   "outputs": [
    {
     "data": {
      "text/plain": [
       "Index(['eta_index', 'phi_index', 'tau_pt', 'rho', 'pfCand_ele_n_total',\n",
       "       'pfCand_ele_valid', 'pfCand_ele_rel_pt', 'pfCand_ele_deta',\n",
       "       'pfCand_ele_dphi', 'pfCand_ele_tauSignal',\n",
       "       ...\n",
       "       'muon_n_hits_DT_3', 'muon_n_hits_DT_4', 'muon_n_hits_CSC_1',\n",
       "       'muon_n_hits_CSC_2', 'muon_n_hits_CSC_3', 'muon_n_hits_CSC_4',\n",
       "       'muon_n_hits_RPC_1', 'muon_n_hits_RPC_2', 'muon_n_hits_RPC_3',\n",
       "       'muon_n_hits_RPC_4'],\n",
       "      dtype='object', length=197)"
      ]
     },
     "execution_count": 12,
     "metadata": {},
     "output_type": "execute_result"
    }
   ],
   "source": [
    "df_cells.columns"
   ]
  },
  {
   "cell_type": "code",
   "execution_count": null,
   "metadata": {},
   "outputs": [],
   "source": []
  }
 ],
 "metadata": {
  "kernelspec": {
   "display_name": "Python 3",
   "language": "python",
   "name": "python3"
  },
  "language_info": {
   "codemirror_mode": {
    "name": "ipython",
    "version": 3
   },
   "file_extension": ".py",
   "mimetype": "text/x-python",
   "name": "python",
   "nbconvert_exporter": "python",
   "pygments_lexer": "ipython3",
   "version": "3.6.5"
  }
 },
 "nbformat": 4,
 "nbformat_minor": 2
}
