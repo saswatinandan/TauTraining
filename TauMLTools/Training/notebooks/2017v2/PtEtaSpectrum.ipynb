{
 "cells": [
  {
   "cell_type": "code",
   "execution_count": 1,
   "metadata": {},
   "outputs": [
    {
     "name": "stdout",
     "output_type": "stream",
     "text": [
      "Welcome to JupyROOT 6.16/00\n"
     ]
    }
   ],
   "source": [
    "import ROOT\n",
    "from array import array"
   ]
  },
  {
   "cell_type": "code",
   "execution_count": 2,
   "metadata": {},
   "outputs": [],
   "source": [
    "def DivideByBinWidth(histogram):\n",
    "    for n in range(1, histogram.GetNbinsX() + 1):\n",
    "        new_value = histogram.GetBinContent(n) / histogram.GetBinWidth(n)\n",
    "        new_bin_error = histogram.GetBinError(n) / histogram.GetBinWidth(n)\n",
    "        histogram.SetBinContent(n, new_value)\n",
    "        histogram.SetBinError(n, new_bin_error)"
   ]
  },
  {
   "cell_type": "code",
   "execution_count": 4,
   "metadata": {},
   "outputs": [],
   "source": [
    "ROOT.gROOT.ProcessLine('ROOT::EnableImplicitMT();')\n",
    "df = ROOT.RDataFrame(\"taus\", \"/Volumes/Y2/tau-ml/tuples-v2-training-v2-t1-root/training/part*.root\")\n",
    "df = df.Define('pt', 'tau_pt *(1000. - 20.) + 20.').Define('eta', 'tau_eta * 2.3')"
   ]
  },
  {
   "cell_type": "code",
   "execution_count": 5,
   "metadata": {},
   "outputs": [],
   "source": [
    "pt_bins = array('d', [20, 25, 30, 35, 40, 45, 50, 55, 60, 70, 80, 90, 100, 120, 140, 160, 180, 200,\n",
    "                    225, 250, 275, 300, 350, 400, 450, 500, 600, 700, 800, 900, 1000])\n",
    "eta_bins = array('d', [-2.3, -1.725, -1.15, -0.575, 0., 0.575, 1.15, 1.725, 2.3])\n",
    "obj_name = [ 'e', 'mu', 'tau', 'jet' ]\n",
    "obj_desc = { 'e': ROOT.kRed, 'mu': ROOT.kGreen, 'tau': ROOT.kBlue, 'jet': ROOT.kOrange }"
   ]
  },
  {
   "cell_type": "code",
   "execution_count": 6,
   "metadata": {},
   "outputs": [],
   "source": [
    "hists = {}\n",
    "for obj in obj_name:\n",
    "    hists[obj] = {}\n",
    "    hists[obj]['pt'] = df.Filter('gen_{} == 1'.format(obj)) \\\n",
    "                         .Histo1D(('', '', len(pt_bins)-1, pt_bins), \"pt\")\n",
    "    hists[obj]['pt_weighted'] = df.Filter('gen_{} == 1'.format(obj)) \\\n",
    "                                  .Histo1D(('', '', len(pt_bins)-1, pt_bins), \"pt\", \"trainingWeight\")\n",
    "    hists[obj]['eta'] = df.Filter('gen_{} == 1'.format(obj)) \\\n",
    "                          .Histo1D(('', '', len(eta_bins)-1, eta_bins), \"eta\")\n",
    "    hists[obj]['eta_weighted'] = df.Filter('gen_{} == 1'.format(obj)) \\\n",
    "                                   .Histo1D(('', '', len(eta_bins)-1, eta_bins), \"eta\", \"trainingWeight\")"
   ]
  },
  {
   "cell_type": "code",
   "execution_count": 7,
   "metadata": {},
   "outputs": [],
   "source": [
    "for obj in obj_name:\n",
    "    for key, hist in hists[obj].items():\n",
    "        DivideByBinWidth(hist.GetPtr())"
   ]
  },
  {
   "cell_type": "code",
   "execution_count": 28,
   "metadata": {},
   "outputs": [],
   "source": [
    "def Draw(name, x_title, y_title, log_x, ymin, ymax):\n",
    "    hist = hists[obj_name[0]][name]\n",
    "    ROOT.gStyle.SetOptStat(0)\n",
    "    c = ROOT.TCanvas('', '', 600, 300)\n",
    "    c.SetLogx(log_x)\n",
    "    c.SetLogy()\n",
    "    c.SetTopMargin(0.01)\n",
    "    c.SetRightMargin(0.04)\n",
    "    c.SetBottomMargin(0.21)\n",
    "    c.SetLeftMargin(0.13)\n",
    "    hist.Draw()\n",
    "    hist.SetLineColor(obj_desc[obj_name[0]])\n",
    "    hist.SetLineWidth(2)\n",
    "\n",
    "    hist.GetXaxis().SetTitle(x_title)\n",
    "    hist.GetXaxis().SetTitleSize(0.1)\n",
    "    hist.GetYaxis().SetTitleSize(0.1)\n",
    "    hist.GetXaxis().SetNoExponent(True)\n",
    "    hist.GetXaxis().SetMoreLogLabels(True)\n",
    "    \n",
    "    hist.GetXaxis().SetTitleOffset(0.85)\n",
    "    hist.GetYaxis().SetTitleOffset(0.6)\n",
    "    \n",
    "    hist.GetXaxis().SetLabelSize(0.07)\n",
    "    hist.GetYaxis().SetLabelSize(0.07)\n",
    "    hist.GetYaxis().SetTitle(y_title)\n",
    "    \n",
    "    hist.GetYaxis().SetRangeUser(ymin, ymax)\n",
    "    for obj in obj_name[1:]:    \n",
    "        hists[obj][name].Draw('SAME')\n",
    "        hists[obj][name].SetLineColor(obj_desc[obj])\n",
    "        hists[obj][name].SetLineWidth(2)\n",
    "\n",
    "    c.Draw()\n",
    "    c.Print(name + \".pdf\")\n",
    "    return c"
   ]
  },
  {
   "cell_type": "code",
   "execution_count": 29,
   "metadata": {},
   "outputs": [
    {
     "data": {
      "text/plain": [
       "<ROOT.TCanvas object at 0x7fe8c9eb6fa0>"
      ]
     },
     "execution_count": 29,
     "metadata": {},
     "output_type": "execute_result"
    },
    {
     "data": {
      "image/png": "[encoded data removed]",
      "text/plain": [
       "<IPython.core.display.Image object>"
      ]
     },
     "metadata": {},
     "output_type": "display_data"
    }
   ],
   "source": [
    "Draw('pt', 'p_{T} (GeV)', 'dN/dp_{T} (1/GeV)', True, 2e2, 7e5)"
   ]
  },
  {
   "cell_type": "code",
   "execution_count": 30,
   "metadata": {},
   "outputs": [
    {
     "data": {
      "text/plain": [
       "<ROOT.TCanvas object at 0x7fe8cbf55850>"
      ]
     },
     "execution_count": 30,
     "metadata": {},
     "output_type": "execute_result"
    },
    {
     "data": {
      "image/png": "[encoded data removed]",
      "text/plain": [
       "<IPython.core.display.Image object>"
      ]
     },
     "metadata": {},
     "output_type": "display_data"
    }
   ],
   "source": [
    "Draw('pt_weighted', 'p_{T} (GeV)', 'dN/dp_{T} (1/GeV)', True, 2e2, 7e5)"
   ]
  },
  {
   "cell_type": "code",
   "execution_count": 31,
   "metadata": {},
   "outputs": [
    {
     "data": {
      "text/plain": [
       "<ROOT.TCanvas object at 0x7fe8cca1f940>"
      ]
     },
     "execution_count": 31,
     "metadata": {},
     "output_type": "execute_result"
    },
    {
     "data": {
      "image/png": "[encoded data removed]",
      "text/plain": [
       "<IPython.core.display.Image object>"
      ]
     },
     "metadata": {},
     "output_type": "display_data"
    }
   ],
   "source": [
    "Draw('eta', '#eta', 'dN/d#eta', False, 2e6, 2e7)"
   ]
  },
  {
   "cell_type": "code",
   "execution_count": 32,
   "metadata": {},
   "outputs": [
    {
     "data": {
      "text/plain": [
       "<ROOT.TCanvas object at 0x7fe8cb828b80>"
      ]
     },
     "execution_count": 32,
     "metadata": {},
     "output_type": "execute_result"
    },
    {
     "data": {
      "image/png": "[encoded data removed]",
      "text/plain": [
       "<IPython.core.display.Image object>"
      ]
     },
     "metadata": {},
     "output_type": "display_data"
    }
   ],
   "source": [
    "Draw('eta_weighted', '#eta', 'dN/d#eta', False, 2e6, 2e7)"
   ]
  },
  {
   "cell_type": "code",
   "execution_count": 26,
   "metadata": {},
   "outputs": [
    {
     "data": {
      "text/plain": [
       "8649003.478260871"
      ]
     },
     "execution_count": 26,
     "metadata": {},
     "output_type": "execute_result"
    }
   ],
   "source": [
    "hists['e']['eta'].GetBinContent(4)"
   ]
  },
  {
   "cell_type": "code",
   "execution_count": null,
   "metadata": {},
   "outputs": [],
   "source": [
    "    pt = obj_pt[obj_name[0]]\n",
    "    ROOT.gStyle.SetOptStat(0)\n",
    "    c = ROOT.TCanvas()\n",
    "    c.SetLogx()\n",
    "    c.SetLogy()\n",
    "    c.SetBottomMargin(0.2)\n",
    "    c.SetLeftMargin(0.2)\n",
    "    pt.Draw()\n",
    "    pt.SetLineColor(obj_desc[obj_name[0]])\n",
    "    pt.SetLineWidth(2)\n",
    "\n",
    "    pt.GetXaxis().SetTitle('p_{T} (GeV)')\n",
    "    pt.GetXaxis().SetTitleSize(0.05)\n",
    "    pt.GetXaxis().SetNoExponent(True)\n",
    "    pt.GetXaxis().SetMoreLogLabels(True)\n",
    "    pt.GetXaxis().SetTitleOffset(1)\n",
    "    pt.GetXaxis().SetLabelSize(0.04)\n",
    "    pt.GetYaxis().SetLabelSize(0.04)\n",
    "    pt.GetYaxis().SetTitle('dN/dp_{T} (1/GeV)')\n",
    "    pt.GetYaxis().SetTitleSize(0.05)\n",
    "    pt.GetYaxis().SetRangeUser(2e2, 7e5)\n",
    "    for obj in obj_name[1:]:    \n",
    "        obj_pt[obj].Draw('SAME')\n",
    "        obj_pt[obj].SetLineColor(obj_desc[obj])\n",
    "        obj_pt[obj].SetLineWidth(2)\n",
    "\n",
    "    c.Draw()\n",
    "    c.Print(\"unweighed_pt.pdf\")"
   ]
  },
  {
   "cell_type": "code",
   "execution_count": 21,
   "metadata": {},
   "outputs": [
    {
     "data": {
      "text/plain": [
       "639.2525634765625"
      ]
     },
     "execution_count": 21,
     "metadata": {},
     "output_type": "execute_result"
    }
   ],
   "source": [
    "df.Max(\"trainingWeight\").GetValue()"
   ]
  },
  {
   "cell_type": "code",
   "execution_count": 22,
   "metadata": {},
   "outputs": [
    {
     "data": {
      "text/plain": [
       "0.6366955637931824"
      ]
     },
     "execution_count": 22,
     "metadata": {},
     "output_type": "execute_result"
    }
   ],
   "source": [
    "df.Min(\"trainingWeight\").GetValue()"
   ]
  },
  {
   "cell_type": "code",
   "execution_count": 23,
   "metadata": {},
   "outputs": [
    {
     "data": {
      "text/plain": [
       "1004.0160475881856"
      ]
     },
     "execution_count": 23,
     "metadata": {},
     "output_type": "execute_result"
    }
   ],
   "source": [
    "639.2525634765625 / 0.6366955637931824"
   ]
  },
  {
   "cell_type": "code",
   "execution_count": null,
   "metadata": {},
   "outputs": [],
   "source": []
  }
 ],
 "metadata": {
  "kernelspec": {
   "display_name": "Python 3",
   "language": "python",
   "name": "python3"
  },
  "language_info": {
   "codemirror_mode": {
    "name": "ipython",
    "version": 3
   },
   "file_extension": ".py",
   "mimetype": "text/x-python",
   "name": "python",
   "nbconvert_exporter": "python",
   "pygments_lexer": "ipython3",
   "version": "3.6.8"
  }
 },
 "nbformat": 4,
 "nbformat_minor": 2
}
