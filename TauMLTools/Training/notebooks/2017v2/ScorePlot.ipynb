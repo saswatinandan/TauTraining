{
 "cells": [
  {
   "cell_type": "code",
   "execution_count": 1,
   "metadata": {},
   "outputs": [],
   "source": [
    "import sys\n",
    "import os\n",
    "import pandas\n",
    "import numpy as np\n",
    "import uproot\n",
    "import math\n",
    "from sklearn import metrics\n",
    "import matplotlib.pyplot as plt\n",
    "from matplotlib.backends.backend_pdf import PdfPages\n",
    "from statsmodels.stats.proportion import proportion_confint\n",
    "from scipy import interpolate\n",
    "sys.path.insert(0, \"../../python\")\n",
    "from common import *"
   ]
  },
  {
   "cell_type": "code",
   "execution_count": 19,
   "metadata": {},
   "outputs": [],
   "source": [
    "class DiscriminatorWP:\n",
    "    VVVLoose = 0\n",
    "    VVLoose = 1\n",
    "    VLoose = 2\n",
    "    Loose = 3\n",
    "    Medium = 4\n",
    "    Tight = 5\n",
    "    VTight = 6\n",
    "    VVTight = 7\n",
    "    VVVTight = 8\n",
    "    \n",
    "    @staticmethod\n",
    "    def GetName(wp):\n",
    "        names = [ \"VVVLoose\", \"VVLoose\", \"VLoose\", \"Loose\", \"Medium\", \"Tight\", \"VTight\", \"VVTight\", \"VVVTight\" ]\n",
    "        return names[wp]\n",
    "\n",
    "class RocCurve:\n",
    "    def __init__(self, n_points, color, has_errors):\n",
    "        self.pr = np.zeros((2, n_points))\n",
    "        self.color = color\n",
    "        if has_errors:\n",
    "            self.pr_err = np.zeros((2, 2, n_points))\n",
    "        else:\n",
    "            self.pr_err = None\n",
    "        self.ratio = None\n",
    "        self.thresholds = None\n",
    "        self.auc_score = None\n",
    "\n",
    "    def Draw(self, ax, ax_ratio = None):\n",
    "        if self.pr_err is not None:\n",
    "            ax.errorbar(self.pr[1], self.pr[0], xerr=self.pr_err[1], yerr=self.pr_err[0], color=self.color,\n",
    "                        fmt='--o', markersize='3', linewidth=1)\n",
    "        else:\n",
    "            ax.errorbar(self.pr[1], self.pr[0], color=self.color)\n",
    "        if self.ratio is not None and ax_ratio is not None:\n",
    "            ax_ratio.plot(self.ratio[1], self.ratio[0], color=self.color, linewidth=1)\n",
    "\n",
    "class PlotSetup:\n",
    "    def __init__(self, xlim = None, ylim = None, ratio_ylim = None, ylabel = None):\n",
    "        self.xlim = xlim\n",
    "        self.ylim = ylim\n",
    "        self.ratio_ylim = ratio_ylim\n",
    "        self.ylabel = ylabel\n",
    "\n",
    "    def Apply(self, names, ax, ax_ratio = None):\n",
    "        if self.xlim is not None:\n",
    "            ax.set_xlim(self.xlim)\n",
    "        if self.ylim is not None:\n",
    "            ax.set_ylim(self.ylim)\n",
    "\n",
    "        ax.set_yscale('log')\n",
    "        ax.set_ylabel(self.ylabel, fontsize=16)\n",
    "        ax.tick_params(labelsize=14)\n",
    "        ax.grid(True)\n",
    "        ax.legend(names, fontsize=14, loc='upper left')\n",
    "\n",
    "        if ax_ratio is not None:\n",
    "            if self.ratio_ylim is not None:\n",
    "                ax_ratio.set_ylim(self.ratio_ylim)\n",
    "\n",
    "            ax_ratio.set_xlabel('Tau ID efficiency', fontsize=16)\n",
    "            ax_ratio.set_ylabel('id/deepId', fontsize=14)\n",
    "            ax_ratio.tick_params(labelsize=10)\n",
    "\n",
    "            ax_ratio.grid(True)\n",
    "\n",
    "def find_threshold(pr, thresholds, target_pr):\n",
    "    min_delta_index = 0\n",
    "    min_delta = abs(pr[0] - target_pr)\n",
    "    for n in range(len(pr)):\n",
    "        delta = abs(pr[n] - target_pr)\n",
    "        if delta < min_delta:\n",
    "            min_delta = delta\n",
    "            min_delta_index = n\n",
    "    if min_delta > 0.01:\n",
    "        return None\n",
    "    return thresholds[min_delta_index]\n",
    "\n",
    "class Discriminator:\n",
    "    def __init__(self, name, column, raw, from_tuple, color, working_points = []):\n",
    "        self.name = name\n",
    "        self.column = column\n",
    "        self.raw = raw\n",
    "        self.from_tuple = from_tuple\n",
    "        self.color = color\n",
    "        self.working_points = working_points\n",
    "\n",
    "    def CountPassed(self, df, wp):\n",
    "        flag = 1 << wp\n",
    "        return np.count_nonzero(np.bitwise_and(df[self.column], flag))\n",
    "\n",
    "    def CreateRocCurve(self, df, ref_roc = None):\n",
    "        if self.raw:\n",
    "            fpr, tpr, thresholds = metrics.roc_curve(df['gen_tau'].values, df[self.column].values)\n",
    "            roc = RocCurve(len(fpr), self.color, False)\n",
    "            roc.pr[0, :] = fpr\n",
    "            roc.pr[1, :] = tpr\n",
    "            roc.thresholds = thresholds\n",
    "            roc.auc_score = metrics.roc_auc_score(df['gen_tau'].values, df[self.column].values)\n",
    "        else:\n",
    "            n_wp = len(self.working_points)\n",
    "            roc = RocCurve(n_wp, self.color, True)\n",
    "            for n in range(n_wp):\n",
    "                for kind in [0, 1]:\n",
    "                    df_x = df[df['gen_tau'] == kind]\n",
    "                    n_passed = self.CountPassed(df_x, self.working_points[n])\n",
    "                    n_total = df_x.shape[0]\n",
    "                    ci_low, ci_upp = proportion_confint(n_passed, n_total, alpha=1-0.68, method='beta')\n",
    "                    eff = float(n_passed) / n_total\n",
    "                    roc.pr[kind, n_wp - n - 1] = eff\n",
    "                    roc.pr_err[kind, 1, n_wp - n - 1] = ci_upp - eff\n",
    "                    roc.pr_err[kind, 0, n_wp - n - 1] = eff - ci_low\n",
    "        if ref_roc is not None:\n",
    "            roc.ratio = create_roc_ratio(roc.pr[1], roc.pr[0], ref_roc.pr[1], ref_roc.pr[0])\n",
    "\n",
    "        return roc\n",
    "\n",
    "def ReadBrancesToDataFrame(file_name, tree_name, branches):\n",
    "    if file_name.endswith('.root'):\n",
    "        with uproot.open(file_name) as file:\n",
    "            tree = file[tree_name]\n",
    "            df = tree.arrays(branches, outputtype=pandas.DataFrame)\n",
    "        return df\n",
    "    elif file_name.endswith('.h5') or file_name.endswith('.hdf5'):\n",
    "        return pandas.read_hdf(file_name, tree_name, columns=branches)\n",
    "    raise RuntimeError(\"Unsupported file type.\")\n",
    "\n",
    "core_branches = [ 'tau_pt', 'tau_decayModeFinding', 'tau_decayMode', 'gen_tau', 'againstElectronMVA6',\n",
    "                  'againstMuon3', 'byIsolationMVArun2017v2DBoldDMwLT2017' ]\n",
    "\n",
    "all_discriminators = {\n",
    "    'e': [\n",
    "        Discriminator('MVA6', 'againstElectronMVA6', False, True, 'green',\n",
    "                      [ DiscriminatorWP.VLoose, DiscriminatorWP.Loose, DiscriminatorWP.Medium, DiscriminatorWP.Tight,\n",
    "                        DiscriminatorWP.VTight ] ),\n",
    "        Discriminator('MVA6 2018', 'againstElectronMVA62018', False, True, 'red',\n",
    "                      [ DiscriminatorWP.VLoose, DiscriminatorWP.Loose, DiscriminatorWP.Medium, DiscriminatorWP.Tight,\n",
    "                        DiscriminatorWP.VTight ] ),\n",
    "        Discriminator('deepTau 2017v1', 'byDeepTau2017v1VSeraw', True, True, 'blue'),\n",
    "        Discriminator('new deepTau', 'deepId_vs_e', True, False, 'yellow')\n",
    "    ],\n",
    "    'mu': [\n",
    "        Discriminator('againstMuon3', 'againstMuon3', False, True, 'green',\n",
    "                      [ DiscriminatorWP.Loose, DiscriminatorWP.Tight] ),\n",
    "        Discriminator('deepTau 2017v1', 'byDeepTau2017v1VSmuraw', True, True, 'blue'),\n",
    "        Discriminator('new deepTau', 'deepId_vs_mu', True, False, 'yellow')\n",
    "    ],\n",
    "    'jet': [\n",
    "        Discriminator('MVA 2017v2', 'byIsolationMVArun2017v2DBoldDMwLT2017raw', True, True, 'green'),\n",
    "        Discriminator('MVA 2017v2 newDM', 'byIsolationMVArun2017v2DBnewDMwLT2017raw', True, True, 'red'),\n",
    "        Discriminator('DPF 2016v0', 'byDpfTau2016v0VSallraw', True, True, 'magenta'),\n",
    "        Discriminator('deepTau 2017v1', 'byDeepTau2017v1VSjetraw', True, True, 'blue'),\n",
    "        Discriminator('new deepTau', 'deepId_vs_jet', True, False, 'yellow')\n",
    "    ]\n",
    "}\n",
    "\n",
    "plot_setups = {\n",
    "    'e': PlotSetup(xlim=[0.4, 1], ratio_ylim=[0, 2], ylabel='Electron mis-id probability'),\n",
    "    'mu': PlotSetup(xlim=[0.9, 1], ratio_ylim=[0, 2], ylabel='Muon mis-id probability'),\n",
    "    'jet': PlotSetup(xlim=[0.2, 1], ratio_ylim=[0, 2], ylabel='Jet mis-id probability')\n",
    "}"
   ]
  },
  {
   "cell_type": "code",
   "execution_count": 16,
   "metadata": {},
   "outputs": [],
   "source": [
    "input_taus = '../../../../output/tuples-v2-t2/testing/tau_HTT.h5'\n",
    "#input_other = '../../../../output/tuples-v2-t2/testing/e_DY.h5'\n",
    "#input_other = '../../../../output/tuples-v2-t2/testing/mu_DY.h5'\n",
    "#input_other = '../../../../output/tuples-v2-t2/testing/jet_QCD.h5'\n",
    "input_other = '../../../../output/tuples-v2-t2/testing/jet_TT.h5'\n",
    "deep_results = '../../../../output/predictions/2017v2p5/step1_epoch0'\n",
    "other_type = 'jet'"
   ]
  },
  {
   "cell_type": "code",
   "execution_count": 17,
   "metadata": {},
   "outputs": [],
   "source": [
    "discriminators = all_discriminators[other_type]\n",
    "all_branches = core_branches + [ disc.column for disc in discriminators if disc.from_tuple == True ]"
   ]
  },
  {
   "cell_type": "code",
   "execution_count": 18,
   "metadata": {},
   "outputs": [],
   "source": [
    "df_jets = ReadBrancesToDataFrame(input_other, 'taus', all_branches)"
   ]
  },
  {
   "cell_type": "code",
   "execution_count": 5,
   "metadata": {},
   "outputs": [],
   "source": [
    "def CreateDF(file_name):\n",
    "    df = ReadBrancesToDataFrame(file_name, 'taus', all_branches)\n",
    "    base_name = os.path.basename(file_name)\n",
    "    pred_file_name = os.path.splitext(base_name)[0] + '_pred.h5'\n",
    "    df_pred = pandas.read_hdf(os.path.join(deep_results, pred_file_name))\n",
    "    #tau_vs_other = - df_pred['deepId_' + args.other_type].values\n",
    "    #tau_vs_other = df_pred['deepId_tau'].values / (df_pred['deepId_tau'].values \\\n",
    "    #                                               + df_pred['deepId_' + other_type].values + TauLosses.epsilon)\n",
    "    #tau_vs_other = TauLosses.tau_vs_other(df_pred['deepId_tau'].values, df_pred['deepId_' + other_type].values)\n",
    "    #tau_vs_other = df_pred['deepId_tau'].values\n",
    "    #tau_vs_other = -df_pred['deepId_' + args.other_type].values\n",
    "    #tau_vs_other = tau_vs_other * (df_pred['deepId_tau'].values > 0.15) + \\\n",
    "    #                df_pred['deepId_tau'].values * (df_pred['deepId_tau'].values <= 0.15)\n",
    "    #df['deepId_vs_' + other_type] = pandas.Series(tau_vs_other, index=df.index)\n",
    "    #df['deepId_tau'] = pandas.Series(df_pred['deepId_tau'].values, index=df.index)\n",
    "    #df['deepId_' + other_type] = pandas.Series(df_pred['deepId_' + other_type].values, index=df.index)\n",
    "    #df['tau_pt'] = pandas.Series(df.tau_pt *(1000 - 20) + 20, index=df.index)\n",
    "    for out in match_suffixes:\n",
    "        if out != 'tau':\n",
    "            tau_vs_other = TauLosses.tau_vs_other(df_pred['deepId_tau'].values, df_pred['deepId_' + out].values)\n",
    "            df['deepId_vs_' + out] = pandas.Series(tau_vs_other, index=df.index)\n",
    "        df['deepId_' + out] = pandas.Series(df_pred['deepId_' + out].values, index=df.index)\n",
    "\n",
    "    return df\n",
    "\n",
    "df_taus = CreateDF(input_taus)\n",
    "#df_other = CreateDF(input_other)\n",
    "#df_all = df_taus.append(df_other)"
   ]
  },
  {
   "cell_type": "code",
   "execution_count": 6,
   "metadata": {},
   "outputs": [],
   "source": [
    "if other_type == 'e':\n",
    "    df_all = df_all[ \\\n",
    "        (np.bitwise_and(df_all['byIsolationMVArun2017v2DBoldDMwLT2017'], 1 << DiscriminatorWP.VVLoose) > 0) \\\n",
    "        & (np.bitwise_and(df_all['againstMuon3'], 1 << DiscriminatorWP.Loose) > 0) \\\n",
    "        & (df_all['tau_decayMode'] != 5) & (df_all['tau_decayMode'] != 6) ]\n",
    "    # df_all = df_all[ \\\n",
    "    #     (np.bitwise_and(df_all['byIsolationMVArun2017v2DBoldDMwLT2017'], 1 << DiscriminatorWP.Medium) > 0) \\\n",
    "    #     & (np.bitwise_and(df_all['againstMuon3'], 1 << DiscriminatorWP.Loose) > 0) \\\n",
    "    #     & (df_all['tau_decayMode'] != 5) & (df_all['tau_decayMode'] != 6) ]\n",
    "\n",
    "    #df_all = df_all[(df_all['tau_decayMode'] != 5) & (df_all['tau_decayMode'] != 6) ]\n",
    "elif other_type == 'mu':\n",
    "    df_all = df_all[ \\\n",
    "        (np.bitwise_and(df_all['byIsolationMVArun2017v2DBoldDMwLT2017'], 1 << DiscriminatorWP.VVLoose) > 0) \\\n",
    "        & (np.bitwise_and(df_all['againstElectronMVA6'], 1 << DiscriminatorWP.VLoose) > 0) \\\n",
    "        & (df_all['tau_decayMode'] != 5) & (df_all['tau_decayMode'] != 6) ]\n",
    "elif other_type == 'jet':\n",
    "    df_all = df_all[ (np.bitwise_and(df_all['againstElectronMVA6'], 1 << DiscriminatorWP.VLoose) > 0) \\\n",
    "                     & (np.bitwise_and(df_all['againstMuon3'], 1 << DiscriminatorWP.Loose) > 0) \\\n",
    "                     & (df_all['tau_decayMode'] != 5) & (df_all['tau_decayMode'] != 6) ]"
   ]
  },
  {
   "cell_type": "code",
   "execution_count": 16,
   "metadata": {},
   "outputs": [
    {
     "data": {
      "image/png": "[encoded data removed]",
      "text/plain": [
       "<Figure size 432x288 with 1 Axes>"
      ]
     },
     "metadata": {
      "needs_background": "light"
     },
     "output_type": "display_data"
    }
   ],
   "source": [
    "plt.hist(df_all[(df_all.gen_tau == 1) & (df_all.tau_pt < 30)].deepId_tau)\n",
    "plt.yscale('log')\n",
    "plt.savefig('deepId_tau.pdf')"
   ]
  },
  {
   "cell_type": "code",
   "execution_count": 14,
   "metadata": {},
   "outputs": [
    {
     "data": {
      "text/plain": [
       "0.9930674059829895"
      ]
     },
     "execution_count": 14,
     "metadata": {},
     "output_type": "execute_result"
    }
   ],
   "source": [
    "df_all[(df_all.gen_tau == 1) & (df_all.deepId_tau > 0.10)].shape[0] / \\\n",
    "    df_all[(df_all.gen_tau == 1)].shape[0]"
   ]
  },
  {
   "cell_type": "code",
   "execution_count": 26,
   "metadata": {},
   "outputs": [
    {
     "data": {
      "text/plain": [
       "(160000, 14)"
      ]
     },
     "execution_count": 26,
     "metadata": {},
     "output_type": "execute_result"
    }
   ],
   "source": [
    "df_all[(df_all.gen_tau == 0) & (df_all.tau_pt < 30)].shape"
   ]
  },
  {
   "cell_type": "code",
   "execution_count": 27,
   "metadata": {},
   "outputs": [
    {
     "data": {
      "text/plain": [
       "0.08919375"
      ]
     },
     "execution_count": 27,
     "metadata": {},
     "output_type": "execute_result"
    }
   ],
   "source": [
    "14271 / 160000"
   ]
  },
  {
   "cell_type": "code",
   "execution_count": 21,
   "metadata": {},
   "outputs": [
    {
     "data": {
      "text/plain": [
       "0.18015593"
      ]
     },
     "execution_count": 21,
     "metadata": {},
     "output_type": "execute_result"
    }
   ],
   "source": [
    "np.average(-np.log(df_all[(df_all.gen_tau == 1) & (df_all.tau_pt > 100) & (df_all.tau_pt < 300) \\\n",
    "               & (df_all.deepId_tau < 1)].deepId_tau))"
   ]
  },
  {
   "cell_type": "code",
   "execution_count": 26,
   "metadata": {},
   "outputs": [],
   "source": [
    "df_taus = CreateDF(input_taus)"
   ]
  },
  {
   "cell_type": "code",
   "execution_count": 27,
   "metadata": {},
   "outputs": [
    {
     "data": {
      "text/plain": [
       "0.40663317"
      ]
     },
     "execution_count": 27,
     "metadata": {},
     "output_type": "execute_result"
    }
   ],
   "source": [
    "np.average(-np.log(df_taus[df_taus.tau_pt < 30].deepId_tau))"
   ]
  },
  {
   "cell_type": "code",
   "execution_count": 28,
   "metadata": {},
   "outputs": [
    {
     "data": {
      "text/plain": [
       "0.01074368178686682"
      ]
     },
     "execution_count": 28,
     "metadata": {},
     "output_type": "execute_result"
    }
   ],
   "source": [
    "df_taus[df_taus.deepId_tau < 0.1].shape[0] / df_taus.shape[0]"
   ]
  },
  {
   "cell_type": "code",
   "execution_count": 30,
   "metadata": {},
   "outputs": [
    {
     "data": {
      "text/plain": [
       "0.6703200460356393"
      ]
     },
     "execution_count": 30,
     "metadata": {},
     "output_type": "execute_result"
    }
   ],
   "source": [
    "math.exp(-0.40)"
   ]
  },
  {
   "cell_type": "code",
   "execution_count": 11,
   "metadata": {},
   "outputs": [
    {
     "data": {
      "text/plain": [
       "4.5749817"
      ]
     },
     "execution_count": 11,
     "metadata": {},
     "output_type": "execute_result"
    }
   ],
   "source": [
    "-np.average(np.log(df_all[(df_all.gen_tau == 1) & (df_all.tau_pt < 30)].deepId_vs_e)) \\\n",
    "-np.average(np.log(1 - df_all[(df_all.gen_tau == 0) & (df_all.tau_pt < 30)].deepId_vs_e))"
   ]
  },
  {
   "cell_type": "code",
   "execution_count": 12,
   "metadata": {},
   "outputs": [
    {
     "data": {
      "text/plain": [
       "5.267838"
      ]
     },
     "execution_count": 12,
     "metadata": {},
     "output_type": "execute_result"
    }
   ],
   "source": [
    "-np.average(np.log(df_all[(df_all.gen_tau == 1) & (df_all.tau_pt < 30)].byDeepTau2017v1VSeraw)) \\\n",
    "-np.average(np.log(1 - df_all[(df_all.gen_tau == 0) & (df_all.tau_pt < 30)].byDeepTau2017v1VSeraw))"
   ]
  },
  {
   "cell_type": "code",
   "execution_count": 15,
   "metadata": {},
   "outputs": [
    {
     "name": "stdout",
     "output_type": "stream",
     "text": [
      "0 204470 204470\n",
      "1 336995 336995\n",
      "2 0 0\n",
      "5 41632 0\n",
      "6 17389 0\n",
      "10 161137 138740\n",
      "11 65747 0\n"
     ]
    }
   ],
   "source": [
    "for dm in [0, 1, 2, 5, 6, 10, 11]:\n",
    "    print(dm, df_taus[df_taus.tau_decayMode == dm].shape[0], \\\n",
    "          df_taus[(df_taus.tau_decayModeFinding == 1) & (df_taus.tau_decayMode == dm)].shape[0])"
   ]
  },
  {
   "cell_type": "code",
   "execution_count": 14,
   "metadata": {},
   "outputs": [
    {
     "data": {
      "text/plain": [
       "1.1614314545192446"
      ]
     },
     "execution_count": 14,
     "metadata": {},
     "output_type": "execute_result"
    }
   ],
   "source": [
    "161137/138740"
   ]
  },
  {
   "cell_type": "code",
   "execution_count": 32,
   "metadata": {},
   "outputs": [
    {
     "name": "stdout",
     "output_type": "stream",
     "text": [
      "wp        n_jets (old DM)  n_jets (new DM)  n_taus (old DM)  n_taus (new DM)  \n",
      "None      495904           537093           138740           161137           \n",
      "VLoose    8839             10837            119833           137821           \n",
      "Loose     3752             4671             106014           120535           \n",
      "Medium    2058             2514             92778            103989           \n",
      "Tight     1184             1438             80288            88881            \n",
      "VTight    696              845              68291            74808            \n"
     ]
    }
   ],
   "source": [
    "dm = 10\n",
    "df = df_jets\n",
    "print(\"{:<10}{:<17}{:<17}{:<17}{:<17}\".format('wp', 'n_jets (old DM)', 'n_jets (new DM)',\n",
    "                                              'n_taus (old DM)', 'n_taus (new DM)'))\n",
    "for wp in [ None, DiscriminatorWP.VLoose, DiscriminatorWP.Loose, DiscriminatorWP.Medium, DiscriminatorWP.Tight,\n",
    "                        DiscriminatorWP.VTight ]:\n",
    "    if wp is not None:\n",
    "        pre_sel_jet = (df_jets.tau_decayMode == dm) & \\\n",
    "                  (np.bitwise_and(df_jets['byIsolationMVArun2017v2DBoldDMwLT2017'], 1 << wp) > 0)\n",
    "        pre_sel_tau = (df_taus.tau_decayMode == dm) & \\\n",
    "          (np.bitwise_and(df_taus['byIsolationMVArun2017v2DBoldDMwLT2017'], 1 << wp) > 0)\n",
    "        wp_name = DiscriminatorWP.GetName(wp)\n",
    "    else:\n",
    "        pre_sel_jet = (df_jets.tau_decayMode == dm)\n",
    "        pre_sel_tau = (df_taus.tau_decayMode == dm)\n",
    "        wp_name = \"None\"\n",
    "    n_jet_new = df_jets[pre_sel_jet].shape[0]\n",
    "    n_jet_old = df_jets[pre_sel_jet & (df_jets.tau_decayModeFinding == 1)].shape[0]\n",
    "    n_tau_new = df_taus[pre_sel_tau].shape[0]\n",
    "    n_tau_old = df_taus[pre_sel_tau & (df_taus.tau_decayModeFinding == 1)].shape[0]\n",
    "    print(\"{:<10}{:<17}{:<17}{:<17}{:<17}\".format(wp_name, n_jet_old, n_jet_new, n_tau_old, n_tau_new))"
   ]
  },
  {
   "cell_type": "code",
   "execution_count": null,
   "metadata": {},
   "outputs": [],
   "source": []
  }
 ],
 "metadata": {
  "kernelspec": {
   "display_name": "Python 3",
   "language": "python",
   "name": "python3"
  },
  "language_info": {
   "codemirror_mode": {
    "name": "ipython",
    "version": 3
   },
   "file_extension": ".py",
   "mimetype": "text/x-python",
   "name": "python",
   "nbconvert_exporter": "python",
   "pygments_lexer": "ipython3",
   "version": "3.6.8"
  }
 },
 "nbformat": 4,
 "nbformat_minor": 2
}
