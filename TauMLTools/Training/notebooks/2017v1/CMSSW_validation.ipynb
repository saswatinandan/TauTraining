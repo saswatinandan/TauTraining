{
 "cells": [
  {
   "cell_type": "code",
   "execution_count": 1,
   "metadata": {},
   "outputs": [],
   "source": [
    "import pandas\n",
    "import numpy as np\n",
    "import uproot\n",
    "%matplotlib inline\n",
    "import matplotlib.pyplot as plt"
   ]
  },
  {
   "cell_type": "code",
   "execution_count": 2,
   "metadata": {},
   "outputs": [],
   "source": [
    "file_name = '../../tuples/cmssw_validation/DY_nv.hdf5'\n",
    "df = pandas.read_hdf(file_name)"
   ]
  },
  {
   "cell_type": "code",
   "execution_count": 14,
   "metadata": {},
   "outputs": [],
   "source": [
    "def ProcessDF(df):\n",
    "    df['deepId_tau_vs_jet'] = pandas.Series(df['deepId_tau'] / (df['deepId_tau'] + df['deepId_jet']), index=df.index)\n",
    "    df['deepId_tau_vs_mu'] = pandas.Series(df['deepId_tau'] / (df['deepId_tau'] + df['deepId_mu']), index=df.index)\n",
    "    df['deepId_tau_vs_e'] = pandas.Series(df['deepId_tau'] / (df['deepId_tau'] + df['deepId_e']), index=df.index)\n",
    "    df['deepId_tau_vs_all'] = pandas.Series(df['deepId_tau']\n",
    "                                     / (df['deepId_tau'] + df['deepId_e'] + df['deepId_mu'] + df['deepId_jet']), index=df.index)"
   ]
  },
  {
   "cell_type": "code",
   "execution_count": 15,
   "metadata": {},
   "outputs": [],
   "source": [
    "ProcessDF(df)"
   ]
  },
  {
   "cell_type": "code",
   "execution_count": 5,
   "metadata": {},
   "outputs": [],
   "source": [
    "def ReadBrancesToDataFrame(file_name, tree_name):\n",
    "    with uproot.open(file_name) as file:\n",
    "        tree = file[tree_name]\n",
    "        df = tree.arrays(outputtype=pandas.DataFrame)\n",
    "        df.columns = [ c.decode('utf-8') for c in df.columns ]\n",
    "    return df"
   ]
  },
  {
   "cell_type": "code",
   "execution_count": 7,
   "metadata": {},
   "outputs": [],
   "source": [
    "cmssw_file_name = '../../tuples/cmssw_validation/DY_cmssw.root'\n",
    "df_cmssw = ReadBrancesToDataFrame(cmssw_file_name, 'taus')"
   ]
  },
  {
   "cell_type": "code",
   "execution_count": 8,
   "metadata": {},
   "outputs": [
    {
     "data": {
      "text/plain": [
       "(28862, 24)"
      ]
     },
     "execution_count": 8,
     "metadata": {},
     "output_type": "execute_result"
    }
   ],
   "source": [
    "df.shape"
   ]
  },
  {
   "cell_type": "code",
   "execution_count": 9,
   "metadata": {},
   "outputs": [
    {
     "data": {
      "text/plain": [
       "(28862, 21)"
      ]
     },
     "execution_count": 9,
     "metadata": {},
     "output_type": "execute_result"
    }
   ],
   "source": [
    "df_cmssw.shape"
   ]
  },
  {
   "cell_type": "code",
   "execution_count": 34,
   "metadata": {},
   "outputs": [
    {
     "name": "stdout",
     "output_type": "stream",
     "text": [
      "max:  0.009469139562070183\n",
      "within acc: 0.9908183771048438\n"
     ]
    },
    {
     "data": {
      "image/png": "[encoded data removed]",
      "text/plain": [
       "<Figure size 432x288 with 1 Axes>"
      ]
     },
     "metadata": {},
     "output_type": "display_data"
    }
   ],
   "source": [
    "acc = 1e-4\n",
    "bins = np.linspace(-acc, acc, num=100)\n",
    "var = 'deepId_tau_vs_jet'\n",
    "x = df_cmssw[var] - df[var]\n",
    "print('max: ', np.abs(x).max())\n",
    "print('within acc:', np.count_nonzero(np.abs(x) < acc)/x.shape[0])\n",
    "plt.hist(x, bins=bins)\n",
    "plt.xlim([bins[0], bins[-1]]);"
   ]
  },
  {
   "cell_type": "code",
   "execution_count": 13,
   "metadata": {},
   "outputs": [
    {
     "data": {
      "text/plain": [
       "Index(['run', 'lumi', 'evt', 'genEventWeight', 'tau_index', 'pt', 'eta', 'phi',\n",
       "       'decayMode', 'gen_e', 'gen_mu', 'gen_tau', 'gen_jet', 'deepId_tau_vs_e',\n",
       "       'deepId_tau_vs_mu', 'deepId_tau_vs_jet', 'deepId_tau_vs_all', 'refId_e',\n",
       "       'refId_mu_loose', 'refId_mu_tight', 'refId_jet'],\n",
       "      dtype='object')"
      ]
     },
     "execution_count": 13,
     "metadata": {},
     "output_type": "execute_result"
    }
   ],
   "source": [
    "df_cmssw.columns"
   ]
  },
  {
   "cell_type": "code",
   "execution_count": null,
   "metadata": {},
   "outputs": [],
   "source": []
  }
 ],
 "metadata": {
  "kernelspec": {
   "display_name": "Python 3",
   "language": "python",
   "name": "python3"
  },
  "language_info": {
   "codemirror_mode": {
    "name": "ipython",
    "version": 3
   },
   "file_extension": ".py",
   "mimetype": "text/x-python",
   "name": "python",
   "nbconvert_exporter": "python",
   "pygments_lexer": "ipython3",
   "version": "3.6.5"
  }
 },
 "nbformat": 4,
 "nbformat_minor": 2
}
