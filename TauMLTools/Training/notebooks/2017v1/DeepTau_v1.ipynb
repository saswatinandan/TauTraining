{
 "cells": [
  {
   "cell_type": "code",
   "execution_count": 1,
   "metadata": {},
   "outputs": [
    {
     "name": "stderr",
     "output_type": "stream",
     "text": [
      "C:\\Users\\konst\\AppData\\Roaming\\Python\\Python36\\site-packages\\h5py\\__init__.py:36: FutureWarning: Conversion of the second argument of issubdtype from `float` to `np.floating` is deprecated. In future, it will be treated as `np.float64 == np.dtype(float).type`.\n",
      "  from ._conv import register_converters as _register_converters\n",
      "Using TensorFlow backend.\n"
     ]
    }
   ],
   "source": [
    "import uproot\n",
    "import pandas\n",
    "import numpy as np\n",
    "from sklearn import metrics\n",
    "import matplotlib.pyplot as plt\n",
    "%matplotlib inline\n",
    "from keras.models import Sequential\n",
    "from keras.models import load_model\n",
    "from keras.layers import Dense, Dropout, Activation, Flatten, BatchNormalization\n",
    "from keras.layers import Convolution2D, MaxPooling2D\n",
    "from keras.utils import np_utils\n",
    "from keras.callbacks import ModelCheckpoint\n",
    "import gc\n",
    "from sklearn.model_selection import train_test_split"
   ]
  },
  {
   "cell_type": "code",
   "execution_count": 2,
   "metadata": {
    "scrolled": true
   },
   "outputs": [],
   "source": [
    "central_tau_id_branches = ['againstElectronMVA6Raw', 'byCombinedIsolationDeltaBetaCorrRaw3Hits',\n",
    "    'byIsolationMVArun2v1DBoldDMwLTraw', 'byIsolationMVArun2v1DBdR03oldDMwLTraw',\n",
    "    'byIsolationMVArun2v1DBoldDMwLTraw2016', 'byIsolationMVArun2017v2DBoldDMwLTraw2017',\n",
    "    'byIsolationMVArun2017v2DBoldDMdR0p3wLTraw2017', 'id_flags']\n",
    "truth_branches = ['gen_match']\n",
    "input_branches = ['pt', 'eta', 'phi', 'mass', 'decayMode', 'dxy', 'dxy_sig', 'dz', 'ip3d', 'ip3d_sig',\n",
    "                  'hasSecondaryVertex', 'flightLength_r', 'flightLength_eta', 'flightLength_phi',\n",
    "                  'flightLength_sig', 'leadChargedHadrCand_pt', 'leadChargedHadrCand_eta',\n",
    "                  'leadChargedHadrCand_phi', 'leadChargedHadrCand_mass', 'pt_weighted_deta_strip',\n",
    "                  'pt_weighted_dphi_strip', 'pt_weighted_dr_signal', 'pt_weighted_dr_iso',\n",
    "                  'leadingTrackNormChi2', 'e_ratio', 'gj_angle_diff', 'n_photons', 'emFraction', 'etaAtEcalEntrance',\n",
    "                  'phiAtEcalEntrance', 'has_gsf_track', 'inside_ecal_crack', 'ecal_crack_dPhi', 'ecal_crack_dEta',\n",
    "                  'gsf_ele_matched', 'gsf_ele_pt', 'gsf_ele_eta', 'gsf_ele_phi', 'gsf_ele_mass', 'gsf_ele_Ee',\n",
    "                  'gsf_ele_Egamma', 'gsf_ele_Pin', 'gsf_ele_Pout', 'gsf_ele_EtotOverPin', 'gsf_ele_Eecal',\n",
    "                  'gsf_ele_deta', 'gsf_ele_dphi', 'gsf_ele_mvaIn_sigmaEtaEta', 'gsf_ele_mvaIn_hadEnergy',\n",
    "                  'gsf_ele_mvaIn_deltaEta', 'gsf_ele_Chi2NormGSF', 'gsf_ele_GSFNumHits', 'gsf_ele_GSFTrackResol',\n",
    "                  'gsf_ele_GSFTracklnPt', 'gsf_ele_Chi2NormKF', 'gsf_ele_KFNumHits',\n",
    "                  'leadChargedCand_etaAtEcalEntrance', 'leadChargedCand_pt', 'leadChargedHadrCand_HoP',\n",
    "                  'leadChargedHadrCand_EoP', 'tau_visMass_innerSigCone', 'has_matched_muon',\n",
    "                  'muon_n_stations_with_matches_03', 'muon_n_stations_with_hits_23', 'energy_ECAL', 'energy_HCAL',\n",
    "                  'leadTrack_p', 'chargedIsoPtSum', 'chargedIsoPtSumdR03', 'footprintCorrection',\n",
    "                  'footprintCorrectiondR03', 'neutralIsoPtSum', 'neutralIsoPtSumWeight', 'neutralIsoPtSumWeightdR03',\n",
    "                  'neutralIsoPtSumdR03', 'photonPtSumOutsideSignalCone', 'photonPtSumOutsideSignalConedR03',\n",
    "                  'puCorrPtSum'\n",
    "                 ]\n",
    "all_branches = truth_branches + input_branches + central_tau_id_branches\n",
    "match_suffixes = [ 'e', 'mu', 'tau', 'jet' ]\n",
    "gen_match_ex_branches = [ 'gen_match_{}'.format(suff) for suff in match_suffixes ]"
   ]
  },
  {
   "cell_type": "code",
   "execution_count": 3,
   "metadata": {},
   "outputs": [],
   "source": [
    "def ReadBranches(file_name_pattern, tree_name, branches):\n",
    "    df = None\n",
    "    z = None\n",
    "    n = 1\n",
    "    max_gen_match = 6\n",
    "    for br in branches:\n",
    "        arr = None\n",
    "        #for gen_match in range(1, max_gen_match + 1):\n",
    "        for gen_match in [1, 2, 5, 6]:\n",
    "            file = uproot.open(file_name_pattern.format(gen_match))\n",
    "            tree = file[tree_name]\n",
    "            \n",
    "            new_arr = tree[br].array()\n",
    "            if arr is None:\n",
    "                arr = new_arr\n",
    "            else:\n",
    "                arr = np.append(arr, new_arr)\n",
    "        if df is None:\n",
    "            df = pandas.DataFrame({br: arr})\n",
    "            z = np.ones(df[br].shape)\n",
    "            z *= -999\n",
    "        else:\n",
    "            df[br] = pandas.Series(arr, df.index)\n",
    "        df[br] = np.maximum(df[br], z)\n",
    "\n",
    "        print(\"branch '{}' loaded. {}/{}\".format(br, n, len(branches)))\n",
    "        n += 1\n",
    "        gc.collect()\n",
    "    return df"
   ]
  },
  {
   "cell_type": "code",
   "execution_count": 8,
   "metadata": {},
   "outputs": [],
   "source": [
    "def ReadBranch(file_name_pattern, tree_name, br, df):\n",
    "    arr = None\n",
    "    for gen_match in [1, 2, 5, 6]:\n",
    "        file = uproot.open(file_name_pattern.format(gen_match))\n",
    "        tree = file[tree_name]\n",
    "        #print(tree.keys())\n",
    "\n",
    "        new_arr = tree[br].array()\n",
    "        if arr is None:\n",
    "            arr = new_arr\n",
    "        else:\n",
    "            arr = np.append(arr, new_arr)\n",
    "    df[br] = pandas.Series(arr, df.index)\n",
    "\n",
    "    print(\"branch '{}' loaded.\".format(br))\n",
    "    gc.collect()"
   ]
  },
  {
   "cell_type": "code",
   "execution_count": 9,
   "metadata": {},
   "outputs": [
    {
     "name": "stdout",
     "output_type": "stream",
     "text": [
      "branch 'id_flags' loaded.\n"
     ]
    }
   ],
   "source": [
    "ReadBranch('../../tuples/tau_5e5_{}.root', 'taus', 'id_flags', data)"
   ]
  },
  {
   "cell_type": "code",
   "execution_count": 10,
   "metadata": {},
   "outputs": [],
   "source": [
    "data['againstMuonLoose3'] = pandas.Series(np.bitwise_and(np.right_shift(data['id_flags'], 5), 1), data.index)\n",
    "data['againstMuonTight3'] = pandas.Series(np.bitwise_and(np.right_shift(data['id_flags'], 6), 1), data.index)"
   ]
  },
  {
   "cell_type": "code",
   "execution_count": 4,
   "metadata": {},
   "outputs": [],
   "source": [
    "def VectorizeGenMatch(data):\n",
    "    e = (data[\"gen_match\"] == 1) | (data[\"gen_match\"] == 3)\n",
    "    data['gen_match_e'] = pandas.Series(e.astype(int), data.index)\n",
    "    mu = (data[\"gen_match\"] == 2) | (data[\"gen_match\"] == 4)\n",
    "    data['gen_match_mu'] = pandas.Series(mu.astype(int), data.index)\n",
    "    tau = data[\"gen_match\"] == 5\n",
    "    data['gen_match_tau'] = pandas.Series(tau.astype(int), data.index)\n",
    "    jet = data[\"gen_match\"] == 6\n",
    "    data['gen_match_jet'] = pandas.Series(jet.astype(int), data.index)"
   ]
  },
  {
   "cell_type": "code",
   "execution_count": 5,
   "metadata": {},
   "outputs": [
    {
     "name": "stdout",
     "output_type": "stream",
     "text": [
      "branch 'gen_match' loaded. 1/87\n",
      "branch 'pt' loaded. 2/87\n",
      "branch 'eta' loaded. 3/87\n",
      "branch 'phi' loaded. 4/87\n",
      "branch 'mass' loaded. 5/87\n",
      "branch 'decayMode' loaded. 6/87\n",
      "branch 'dxy' loaded. 7/87\n",
      "branch 'dxy_sig' loaded. 8/87\n",
      "branch 'dz' loaded. 9/87\n",
      "branch 'ip3d' loaded. 10/87\n",
      "branch 'ip3d_sig' loaded. 11/87\n",
      "branch 'hasSecondaryVertex' loaded. 12/87\n",
      "branch 'flightLength_r' loaded. 13/87\n",
      "branch 'flightLength_eta' loaded. 14/87\n",
      "branch 'flightLength_phi' loaded. 15/87\n",
      "branch 'flightLength_sig' loaded. 16/87\n",
      "branch 'leadChargedHadrCand_pt' loaded. 17/87\n",
      "branch 'leadChargedHadrCand_eta' loaded. 18/87\n",
      "branch 'leadChargedHadrCand_phi' loaded. 19/87\n",
      "branch 'leadChargedHadrCand_mass' loaded. 20/87\n",
      "branch 'pt_weighted_deta_strip' loaded. 21/87\n",
      "branch 'pt_weighted_dphi_strip' loaded. 22/87\n",
      "branch 'pt_weighted_dr_signal' loaded. 23/87\n",
      "branch 'pt_weighted_dr_iso' loaded. 24/87\n",
      "branch 'leadingTrackNormChi2' loaded. 25/87\n",
      "branch 'e_ratio' loaded. 26/87\n",
      "branch 'gj_angle_diff' loaded. 27/87\n",
      "branch 'n_photons' loaded. 28/87\n",
      "branch 'emFraction' loaded. 29/87\n",
      "branch 'etaAtEcalEntrance' loaded. 30/87\n",
      "branch 'phiAtEcalEntrance' loaded. 31/87\n",
      "branch 'has_gsf_track' loaded. 32/87\n",
      "branch 'inside_ecal_crack' loaded. 33/87\n",
      "branch 'ecal_crack_dPhi' loaded. 34/87\n",
      "branch 'ecal_crack_dEta' loaded. 35/87\n",
      "branch 'gsf_ele_matched' loaded. 36/87\n",
      "branch 'gsf_ele_pt' loaded. 37/87\n",
      "branch 'gsf_ele_eta' loaded. 38/87\n",
      "branch 'gsf_ele_phi' loaded. 39/87\n",
      "branch 'gsf_ele_mass' loaded. 40/87\n",
      "branch 'gsf_ele_Ee' loaded. 41/87\n",
      "branch 'gsf_ele_Egamma' loaded. 42/87\n",
      "branch 'gsf_ele_Pin' loaded. 43/87\n",
      "branch 'gsf_ele_Pout' loaded. 44/87\n",
      "branch 'gsf_ele_EtotOverPin' loaded. 45/87\n",
      "branch 'gsf_ele_Eecal' loaded. 46/87\n",
      "branch 'gsf_ele_deta' loaded. 47/87\n",
      "branch 'gsf_ele_dphi' loaded. 48/87\n",
      "branch 'gsf_ele_mvaIn_sigmaEtaEta' loaded. 49/87\n",
      "branch 'gsf_ele_mvaIn_hadEnergy' loaded. 50/87\n",
      "branch 'gsf_ele_mvaIn_deltaEta' loaded. 51/87\n",
      "branch 'gsf_ele_Chi2NormGSF' loaded. 52/87\n",
      "branch 'gsf_ele_GSFNumHits' loaded. 53/87\n",
      "branch 'gsf_ele_GSFTrackResol' loaded. 54/87\n",
      "branch 'gsf_ele_GSFTracklnPt' loaded. 55/87\n",
      "branch 'gsf_ele_Chi2NormKF' loaded. 56/87\n",
      "branch 'gsf_ele_KFNumHits' loaded. 57/87\n",
      "branch 'leadChargedCand_etaAtEcalEntrance' loaded. 58/87\n",
      "branch 'leadChargedCand_pt' loaded. 59/87\n",
      "branch 'leadChargedHadrCand_HoP' loaded. 60/87\n",
      "branch 'leadChargedHadrCand_EoP' loaded. 61/87\n",
      "branch 'tau_visMass_innerSigCone' loaded. 62/87\n",
      "branch 'has_matched_muon' loaded. 63/87\n",
      "branch 'muon_n_stations_with_matches_03' loaded. 64/87\n",
      "branch 'muon_n_stations_with_hits_23' loaded. 65/87\n",
      "branch 'energy_ECAL' loaded. 66/87\n",
      "branch 'energy_HCAL' loaded. 67/87\n",
      "branch 'leadTrack_p' loaded. 68/87\n",
      "branch 'chargedIsoPtSum' loaded. 69/87\n",
      "branch 'chargedIsoPtSumdR03' loaded. 70/87\n",
      "branch 'footprintCorrection' loaded. 71/87\n",
      "branch 'footprintCorrectiondR03' loaded. 72/87\n",
      "branch 'neutralIsoPtSum' loaded. 73/87\n",
      "branch 'neutralIsoPtSumWeight' loaded. 74/87\n",
      "branch 'neutralIsoPtSumWeightdR03' loaded. 75/87\n",
      "branch 'neutralIsoPtSumdR03' loaded. 76/87\n",
      "branch 'photonPtSumOutsideSignalCone' loaded. 77/87\n",
      "branch 'photonPtSumOutsideSignalConedR03' loaded. 78/87\n",
      "branch 'puCorrPtSum' loaded. 79/87\n",
      "branch 'againstElectronMVA6Raw' loaded. 80/87\n",
      "branch 'byCombinedIsolationDeltaBetaCorrRaw3Hits' loaded. 81/87\n",
      "branch 'byIsolationMVArun2v1DBoldDMwLTraw' loaded. 82/87\n",
      "branch 'byIsolationMVArun2v1DBdR03oldDMwLTraw' loaded. 83/87\n",
      "branch 'byIsolationMVArun2v1DBoldDMwLTraw2016' loaded. 84/87\n",
      "branch 'byIsolationMVArun2017v2DBoldDMwLTraw2017' loaded. 85/87\n",
      "branch 'byIsolationMVArun2017v2DBoldDMdR0p3wLTraw2017' loaded. 86/87\n",
      "branch 'id_flags' loaded. 87/87\n"
     ]
    }
   ],
   "source": [
    "data = ReadBranches('../../tuples/tau_5e5_{}.root', 'taus', all_branches)"
   ]
  },
  {
   "cell_type": "code",
   "execution_count": 6,
   "metadata": {},
   "outputs": [
    {
     "data": {
      "text/plain": [
       "(2000000, 91)"
      ]
     },
     "execution_count": 6,
     "metadata": {},
     "output_type": "execute_result"
    }
   ],
   "source": [
    "VectorizeGenMatch(data)\n",
    "data.shape"
   ]
  },
  {
   "cell_type": "code",
   "execution_count": 11,
   "metadata": {},
   "outputs": [],
   "source": [
    "#data_tj = data[((data['gen_match_tau'] == 1) | (data['gen_match_jet'] == 1)) & (data['pt'] > 20) & (data['pt'] < 100)]\n",
    "data_train, data_test = train_test_split(data.sample(frac=1.), test_size=0.2)\n",
    "X_train = data_train[input_branches]\n",
    "Y_train = data_train[gen_match_ex_branches]\n",
    "#Y_train = data_train['gen_match_tau']\n",
    "input_shape = (len(input_branches), )\n",
    "n_outputs = len(gen_match_ex_branches)"
   ]
  },
  {
   "cell_type": "code",
   "execution_count": 17,
   "metadata": {},
   "outputs": [],
   "source": [
    "n_hidden_layers = 10\n",
    "n_neurons = 1024\n",
    "model_name = \"{}L{}N\".format(n_hidden_layers, n_neurons)\n",
    "model = Sequential()\n",
    "model.add(Dense(n_neurons, input_shape=input_shape, kernel_initializer='he_uniform'))\n",
    "model.add(BatchNormalization())\n",
    "model.add(Activation(\"relu\"))\n",
    "model.add(Dropout(0.5))\n",
    "for n in range(n_hidden_layers):\n",
    "    model.add(Dense(n_neurons, kernel_initializer='he_uniform'))\n",
    "    model.add(BatchNormalization())\n",
    "    model.add(Activation(\"relu\"))\n",
    "    model.add(Dropout(0.5))\n",
    "model.add(Dense(n_outputs))\n",
    "model.add(Activation(\"softmax\"))"
   ]
  },
  {
   "cell_type": "code",
   "execution_count": null,
   "metadata": {},
   "outputs": [],
   "source": [
    "model.compile(loss=\"categorical_crossentropy\", optimizer=\"adam\", metrics=[\"accuracy\"],)"
   ]
  },
  {
   "cell_type": "code",
   "execution_count": 38,
   "metadata": {},
   "outputs": [
    {
     "name": "stdout",
     "output_type": "stream",
     "text": [
      "Train on 1440000 samples, validate on 160000 samples\n",
      "Epoch 1/100\n",
      "1440000/1440000 [==============================] - 42s 29us/step - loss: 0.2190 - acc: 0.9210 - val_loss: 1.1921 - val_acc: 0.5590\n",
      "Epoch 2/100\n",
      "1440000/1440000 [==============================] - 43s 30us/step - loss: 0.2207 - acc: 0.9203 - val_loss: 0.8560 - val_acc: 0.6789\n",
      "Epoch 3/100\n",
      "1440000/1440000 [==============================] - 43s 30us/step - loss: 0.2188 - acc: 0.9210 - val_loss: 0.8700 - val_acc: 0.6372\n",
      "Epoch 4/100\n",
      "1440000/1440000 [==============================] - 43s 30us/step - loss: 0.2183 - acc: 0.9215 - val_loss: 0.8619 - val_acc: 0.6481\n",
      "Epoch 5/100\n",
      "1440000/1440000 [==============================] - 43s 30us/step - loss: 0.2189 - acc: 0.9212 - val_loss: 0.7458 - val_acc: 0.7590\n",
      "Epoch 6/100\n",
      "1440000/1440000 [==============================] - 43s 30us/step - loss: 0.2184 - acc: 0.9212 - val_loss: 0.6191 - val_acc: 0.8289\n",
      "Epoch 7/100\n",
      "1440000/1440000 [==============================] - 43s 30us/step - loss: 0.2182 - acc: 0.9216 - val_loss: 0.6346 - val_acc: 0.7866\n",
      "Epoch 8/100\n",
      "1440000/1440000 [==============================] - 43s 30us/step - loss: 0.2193 - acc: 0.9212 - val_loss: 0.8008 - val_acc: 0.7811\n",
      "Epoch 9/100\n",
      "1440000/1440000 [==============================] - 43s 30us/step - loss: 0.2194 - acc: 0.9211 - val_loss: 0.6489 - val_acc: 0.8079\n",
      "Epoch 10/100\n",
      "1440000/1440000 [==============================] - 43s 30us/step - loss: 0.2185 - acc: 0.9212 - val_loss: 0.7174 - val_acc: 0.7691\n",
      "Epoch 11/100\n",
      "1440000/1440000 [==============================] - 43s 30us/step - loss: 0.2172 - acc: 0.9217 - val_loss: 0.9428 - val_acc: 0.6189\n",
      "Epoch 12/100\n",
      "1440000/1440000 [==============================] - 43s 30us/step - loss: 0.2194 - acc: 0.9210 - val_loss: 0.8416 - val_acc: 0.6830\n",
      "Epoch 13/100\n",
      "1440000/1440000 [==============================] - 43s 30us/step - loss: 0.2182 - acc: 0.9213 - val_loss: 0.8252 - val_acc: 0.7103\n",
      "Epoch 14/100\n",
      "1440000/1440000 [==============================] - 43s 30us/step - loss: 0.2170 - acc: 0.9218 - val_loss: 0.8420 - val_acc: 0.6826\n",
      "Epoch 15/100\n",
      "1440000/1440000 [==============================] - 43s 30us/step - loss: 0.2178 - acc: 0.9214 - val_loss: 0.9619 - val_acc: 0.6245\n",
      "Epoch 16/100\n",
      "1440000/1440000 [==============================] - 43s 30us/step - loss: 0.2172 - acc: 0.9216 - val_loss: 0.7643 - val_acc: 0.7404\n",
      "Epoch 17/100\n",
      "1440000/1440000 [==============================] - 43s 30us/step - loss: 0.2165 - acc: 0.9218 - val_loss: 0.8275 - val_acc: 0.6915\n",
      "Epoch 18/100\n",
      "1440000/1440000 [==============================] - 43s 30us/step - loss: 0.2178 - acc: 0.9215 - val_loss: 0.8730 - val_acc: 0.6804\n",
      "Epoch 19/100\n",
      "1440000/1440000 [==============================] - 43s 30us/step - loss: 0.2180 - acc: 0.9213 - val_loss: 0.6678 - val_acc: 0.7892\n",
      "Epoch 20/100\n",
      "1440000/1440000 [==============================] - 43s 30us/step - loss: 0.2164 - acc: 0.9220 - val_loss: 0.7207 - val_acc: 0.7611\n",
      "Epoch 21/100\n",
      "1440000/1440000 [==============================] - 43s 30us/step - loss: 0.2166 - acc: 0.9220 - val_loss: 0.8632 - val_acc: 0.6603\n",
      "Epoch 22/100\n",
      "1440000/1440000 [==============================] - 43s 30us/step - loss: 0.2179 - acc: 0.9211 - val_loss: 0.8540 - val_acc: 0.6248\n",
      "Epoch 23/100\n",
      "1440000/1440000 [==============================] - 43s 30us/step - loss: 0.2175 - acc: 0.9218 - val_loss: 0.8841 - val_acc: 0.6363\n",
      "Epoch 24/100\n",
      "1440000/1440000 [==============================] - 43s 30us/step - loss: 0.2156 - acc: 0.9222 - val_loss: 0.7949 - val_acc: 0.6986\n",
      "Epoch 25/100\n",
      "1440000/1440000 [==============================] - 43s 30us/step - loss: 0.2147 - acc: 0.9223 - val_loss: 0.9199 - val_acc: 0.6612\n",
      "Epoch 26/100\n",
      "1440000/1440000 [==============================] - 43s 30us/step - loss: 0.2151 - acc: 0.9224 - val_loss: 1.3370 - val_acc: 0.6191\n",
      "Epoch 27/100\n",
      "1440000/1440000 [==============================] - 43s 30us/step - loss: 0.2144 - acc: 0.9226 - val_loss: 0.8539 - val_acc: 0.7132\n",
      "Epoch 28/100\n",
      "1440000/1440000 [==============================] - 43s 30us/step - loss: 0.2149 - acc: 0.9224 - val_loss: 0.8185 - val_acc: 0.6975\n",
      "Epoch 29/100\n",
      "1440000/1440000 [==============================] - 43s 30us/step - loss: 0.2138 - acc: 0.9227 - val_loss: 0.7363 - val_acc: 0.7654\n",
      "Epoch 30/100\n",
      "1440000/1440000 [==============================] - 43s 30us/step - loss: 0.2145 - acc: 0.9227 - val_loss: 0.8339 - val_acc: 0.6718\n",
      "Epoch 31/100\n",
      "1440000/1440000 [==============================] - 43s 30us/step - loss: 0.2164 - acc: 0.9220 - val_loss: 0.8917 - val_acc: 0.6616\n",
      "Epoch 32/100\n",
      "1440000/1440000 [==============================] - 43s 30us/step - loss: 0.2156 - acc: 0.9221 - val_loss: 0.7661 - val_acc: 0.7163\n",
      "Epoch 33/100\n",
      "1440000/1440000 [==============================] - 43s 30us/step - loss: 0.2142 - acc: 0.9227 - val_loss: 0.8199 - val_acc: 0.6403\n",
      "Epoch 34/100\n",
      "1440000/1440000 [==============================] - 43s 30us/step - loss: 0.2137 - acc: 0.9229 - val_loss: 0.7809 - val_acc: 0.7074\n",
      "Epoch 35/100\n",
      "1440000/1440000 [==============================] - 43s 30us/step - loss: 0.2141 - acc: 0.9228 - val_loss: 0.8243 - val_acc: 0.6846\n",
      "Epoch 36/100\n",
      "1440000/1440000 [==============================] - 43s 30us/step - loss: 0.2135 - acc: 0.9228 - val_loss: 0.7548 - val_acc: 0.7390\n",
      "Epoch 37/100\n",
      "1440000/1440000 [==============================] - 43s 30us/step - loss: 0.2141 - acc: 0.9225 - val_loss: 0.8023 - val_acc: 0.6913\n",
      "Epoch 38/100\n",
      "1440000/1440000 [==============================] - 43s 30us/step - loss: 0.2142 - acc: 0.9226 - val_loss: 0.6665 - val_acc: 0.7858\n",
      "Epoch 39/100\n",
      "1440000/1440000 [==============================] - 43s 30us/step - loss: 0.2134 - acc: 0.9229 - val_loss: 1.0378 - val_acc: 0.6013\n",
      "Epoch 40/100\n",
      "1440000/1440000 [==============================] - 43s 30us/step - loss: 0.2136 - acc: 0.9228 - val_loss: 0.7830 - val_acc: 0.7166\n",
      "Epoch 41/100\n",
      "1440000/1440000 [==============================] - 43s 30us/step - loss: 0.2150 - acc: 0.9229 - val_loss: 0.5731 - val_acc: 0.8165\n",
      "Epoch 42/100\n",
      "1440000/1440000 [==============================] - 43s 30us/step - loss: 0.2157 - acc: 0.9225 - val_loss: 0.6662 - val_acc: 0.7943\n",
      "Epoch 43/100\n",
      "1440000/1440000 [==============================] - 43s 30us/step - loss: 0.2125 - acc: 0.9232 - val_loss: 0.8279 - val_acc: 0.7122\n",
      "Epoch 44/100\n",
      "1440000/1440000 [==============================] - 43s 30us/step - loss: 0.2131 - acc: 0.9231 - val_loss: 0.6737 - val_acc: 0.7802\n",
      "Epoch 45/100\n",
      "1440000/1440000 [==============================] - 43s 30us/step - loss: 0.2128 - acc: 0.9231 - val_loss: 0.6058 - val_acc: 0.8185\n",
      "Epoch 46/100\n",
      "1440000/1440000 [==============================] - 43s 30us/step - loss: 0.2123 - acc: 0.9233 - val_loss: 0.7717 - val_acc: 0.7526\n",
      "Epoch 47/100\n",
      "1440000/1440000 [==============================] - 43s 30us/step - loss: 0.2130 - acc: 0.9230 - val_loss: 0.6220 - val_acc: 0.7804\n",
      "Epoch 48/100\n",
      "1440000/1440000 [==============================] - 43s 30us/step - loss: 0.2120 - acc: 0.9232 - val_loss: 0.6855 - val_acc: 0.7500\n",
      "Epoch 49/100\n",
      "1440000/1440000 [==============================] - 43s 30us/step - loss: 0.2121 - acc: 0.9234 - val_loss: 0.7964 - val_acc: 0.7122\n",
      "Epoch 50/100\n",
      "1440000/1440000 [==============================] - 43s 30us/step - loss: 0.2112 - acc: 0.9236 - val_loss: 0.7763 - val_acc: 0.6997\n",
      "Epoch 51/100\n",
      "1440000/1440000 [==============================] - 43s 30us/step - loss: 0.2113 - acc: 0.9238 - val_loss: 0.7118 - val_acc: 0.7685\n",
      "Epoch 52/100\n",
      "1440000/1440000 [==============================] - 43s 30us/step - loss: 0.2112 - acc: 0.9238 - val_loss: 0.8349 - val_acc: 0.6702\n",
      "Epoch 53/100\n",
      "1440000/1440000 [==============================] - 43s 30us/step - loss: 0.2119 - acc: 0.9234 - val_loss: 0.8041 - val_acc: 0.7006\n",
      "Epoch 54/100\n",
      "1440000/1440000 [==============================] - 43s 30us/step - loss: 0.2118 - acc: 0.9234 - val_loss: 0.7024 - val_acc: 0.7680\n",
      "Epoch 55/100\n",
      "1440000/1440000 [==============================] - 43s 30us/step - loss: 0.2120 - acc: 0.9235 - val_loss: 0.6345 - val_acc: 0.7947\n",
      "Epoch 56/100\n",
      "1440000/1440000 [==============================] - 43s 30us/step - loss: 0.2116 - acc: 0.9233 - val_loss: 0.6436 - val_acc: 0.7781\n",
      "Epoch 57/100\n",
      "1440000/1440000 [==============================] - 43s 30us/step - loss: 0.2114 - acc: 0.9236 - val_loss: 0.6904 - val_acc: 0.7563\n",
      "Epoch 58/100\n",
      "1440000/1440000 [==============================] - 43s 30us/step - loss: 0.2106 - acc: 0.9239 - val_loss: 0.6957 - val_acc: 0.7591\n",
      "Epoch 59/100\n",
      "1440000/1440000 [==============================] - 43s 30us/step - loss: 0.2108 - acc: 0.9238 - val_loss: 0.7296 - val_acc: 0.7336\n",
      "Epoch 60/100\n",
      "1440000/1440000 [==============================] - 43s 30us/step - loss: 0.2105 - acc: 0.9240 - val_loss: 0.7401 - val_acc: 0.7233\n",
      "Epoch 61/100\n",
      "1440000/1440000 [==============================] - 43s 30us/step - loss: 0.2105 - acc: 0.9239 - val_loss: 0.8817 - val_acc: 0.6056\n",
      "Epoch 62/100\n",
      "1440000/1440000 [==============================] - 43s 30us/step - loss: 0.2106 - acc: 0.9238 - val_loss: 0.8222 - val_acc: 0.6416\n",
      "Epoch 63/100\n",
      "1440000/1440000 [==============================] - 43s 30us/step - loss: 0.2114 - acc: 0.9236 - val_loss: 0.6970 - val_acc: 0.7602\n",
      "Epoch 64/100\n",
      "1440000/1440000 [==============================] - 43s 30us/step - loss: 0.2101 - acc: 0.9240 - val_loss: 0.7182 - val_acc: 0.7389\n",
      "Epoch 65/100\n",
      "1440000/1440000 [==============================] - 43s 30us/step - loss: 0.2106 - acc: 0.9237 - val_loss: 0.6191 - val_acc: 0.7886\n",
      "Epoch 66/100\n",
      "1440000/1440000 [==============================] - 43s 30us/step - loss: 0.2095 - acc: 0.9244 - val_loss: 0.7446 - val_acc: 0.7466\n",
      "Epoch 67/100\n",
      "1440000/1440000 [==============================] - 43s 30us/step - loss: 0.2091 - acc: 0.9244 - val_loss: 0.7528 - val_acc: 0.7190\n",
      "Epoch 68/100\n",
      "1440000/1440000 [==============================] - 43s 30us/step - loss: 0.2088 - acc: 0.9244 - val_loss: 0.8299 - val_acc: 0.6634\n",
      "Epoch 69/100\n",
      "1440000/1440000 [==============================] - 43s 30us/step - loss: 0.2108 - acc: 0.9240 - val_loss: 0.5886 - val_acc: 0.7933\n",
      "Epoch 70/100\n",
      "1440000/1440000 [==============================] - 43s 30us/step - loss: 0.2119 - acc: 0.9236 - val_loss: 0.4619 - val_acc: 0.8574\n",
      "Epoch 71/100\n",
      "1440000/1440000 [==============================] - 43s 30us/step - loss: 0.2102 - acc: 0.9242 - val_loss: 0.5851 - val_acc: 0.8138\n",
      "Epoch 72/100\n",
      "1440000/1440000 [==============================] - 43s 30us/step - loss: 0.2091 - acc: 0.9242 - val_loss: 0.5608 - val_acc: 0.8245\n",
      "Epoch 73/100\n",
      "1440000/1440000 [==============================] - 43s 30us/step - loss: 0.2094 - acc: 0.9244 - val_loss: 0.6288 - val_acc: 0.7827\n",
      "Epoch 74/100\n",
      "1440000/1440000 [==============================] - 43s 30us/step - loss: 0.2095 - acc: 0.9242 - val_loss: 0.5356 - val_acc: 0.8382\n",
      "Epoch 75/100\n",
      "1440000/1440000 [==============================] - 43s 30us/step - loss: 0.2086 - acc: 0.9245 - val_loss: 0.6028 - val_acc: 0.7986\n",
      "Epoch 76/100\n",
      "1440000/1440000 [==============================] - 43s 30us/step - loss: 0.2085 - acc: 0.9244 - val_loss: 0.6825 - val_acc: 0.7710\n",
      "Epoch 77/100\n",
      "1440000/1440000 [==============================] - 43s 30us/step - loss: 0.2097 - acc: 0.9242 - val_loss: 0.7678 - val_acc: 0.7326\n",
      "Epoch 78/100\n",
      "1440000/1440000 [==============================] - 43s 30us/step - loss: 0.2081 - acc: 0.9249 - val_loss: 0.7207 - val_acc: 0.7390\n",
      "Epoch 79/100\n",
      "1440000/1440000 [==============================] - 43s 30us/step - loss: 0.2082 - acc: 0.9248 - val_loss: 0.8572 - val_acc: 0.6593\n",
      "Epoch 80/100\n",
      "1440000/1440000 [==============================] - 43s 30us/step - loss: 0.2106 - acc: 0.9241 - val_loss: 0.7874 - val_acc: 0.7187\n",
      "Epoch 81/100\n",
      "1440000/1440000 [==============================] - 43s 30us/step - loss: 0.2087 - acc: 0.9243 - val_loss: 0.8070 - val_acc: 0.7106\n",
      "Epoch 82/100\n",
      "1440000/1440000 [==============================] - 43s 30us/step - loss: 0.2084 - acc: 0.9245 - val_loss: 0.6956 - val_acc: 0.7647\n",
      "Epoch 83/100\n",
      "1440000/1440000 [==============================] - 43s 30us/step - loss: 0.2079 - acc: 0.9250 - val_loss: 0.8373 - val_acc: 0.6625\n",
      "Epoch 84/100\n",
      "1440000/1440000 [==============================] - 43s 30us/step - loss: 0.2080 - acc: 0.9248 - val_loss: 0.7525 - val_acc: 0.7156\n",
      "Epoch 85/100\n",
      "1440000/1440000 [==============================] - 43s 30us/step - loss: 0.2079 - acc: 0.9249 - val_loss: 0.6162 - val_acc: 0.8097\n",
      "Epoch 86/100\n",
      "1440000/1440000 [==============================] - 43s 30us/step - loss: 0.2083 - acc: 0.9246 - val_loss: 0.6325 - val_acc: 0.7937\n",
      "Epoch 87/100\n",
      "1440000/1440000 [==============================] - 43s 30us/step - loss: 0.2075 - acc: 0.9248 - val_loss: 0.7693 - val_acc: 0.7175\n",
      "Epoch 88/100\n",
      "1440000/1440000 [==============================] - 43s 30us/step - loss: 0.2071 - acc: 0.9250 - val_loss: 0.7547 - val_acc: 0.7192\n",
      "Epoch 89/100\n",
      "1440000/1440000 [==============================] - 43s 30us/step - loss: 0.2067 - acc: 0.9251 - val_loss: 0.6773 - val_acc: 0.7632\n",
      "Epoch 90/100\n",
      "1440000/1440000 [==============================] - 43s 30us/step - loss: 0.2073 - acc: 0.9248 - val_loss: 0.5475 - val_acc: 0.8135\n",
      "Epoch 91/100\n",
      "1440000/1440000 [==============================] - 43s 30us/step - loss: 0.2070 - acc: 0.9252 - val_loss: 0.8642 - val_acc: 0.6611\n",
      "Epoch 92/100\n",
      "1440000/1440000 [==============================] - 43s 30us/step - loss: 0.2119 - acc: 0.9239 - val_loss: 0.4635 - val_acc: 0.8443\n",
      "Epoch 93/100\n",
      "1440000/1440000 [==============================] - 43s 30us/step - loss: 0.2080 - acc: 0.9248 - val_loss: 0.5820 - val_acc: 0.8190\n",
      "Epoch 94/100\n",
      "1440000/1440000 [==============================] - 43s 30us/step - loss: 0.2078 - acc: 0.9246 - val_loss: 0.5149 - val_acc: 0.8179\n",
      "Epoch 95/100\n",
      "1440000/1440000 [==============================] - 43s 30us/step - loss: 0.2079 - acc: 0.9250 - val_loss: 0.5448 - val_acc: 0.8274\n",
      "Epoch 96/100\n",
      "1440000/1440000 [==============================] - 43s 30us/step - loss: 0.2063 - acc: 0.9252 - val_loss: 0.6982 - val_acc: 0.7488\n",
      "Epoch 97/100\n",
      "1440000/1440000 [==============================] - 43s 30us/step - loss: 0.2071 - acc: 0.9249 - val_loss: 0.6416 - val_acc: 0.7781\n",
      "Epoch 98/100\n",
      "1440000/1440000 [==============================] - 43s 30us/step - loss: 0.2066 - acc: 0.9251 - val_loss: 0.7299 - val_acc: 0.7353\n",
      "Epoch 99/100\n",
      "1440000/1440000 [==============================] - 43s 30us/step - loss: 0.2063 - acc: 0.9253 - val_loss: 0.6411 - val_acc: 0.7880\n",
      "Epoch 100/100\n",
      "1440000/1440000 [==============================] - 43s 30us/step - loss: 0.2059 - acc: 0.9252 - val_loss: 0.6582 - val_acc: 0.7803\n"
     ]
    },
    {
     "data": {
      "text/plain": [
       "<keras.callbacks.History at 0x21603b14be0>"
      ]
     },
     "execution_count": 38,
     "metadata": {},
     "output_type": "execute_result"
    }
   ],
   "source": [
    "#model.fit(X_train, Y_train, batch_size=batch_size, epochs=10, verbose=1, validation_data=(X_test, Y_test))\n",
    "cb = ModelCheckpoint(\"{}_0503_step2.hdf5\".format(model_name), monitor=\"val_acc\", save_best_only=True, save_weights_only=False,\n",
    "                     mode=\"auto\")\n",
    "model.fit(X_train, Y_train, callbacks=[cb], validation_split=0.1, batch_size=10000, epochs=100, verbose=1,\n",
    "          class_weight={0: 1, 1: 1, 2: 1, 3:1 })\n",
    "#score = model.evaluate(X_test, Y_test, verbose=0)\n",
    "#print(\"Test: score {}, accuracy {}\".format(score[0], score[1]))"
   ]
  },
  {
   "cell_type": "code",
   "execution_count": 12,
   "metadata": {},
   "outputs": [],
   "source": [
    "#model = load_model(\"{}.hdf5\".format(model_name))\n",
    "#model = load_model(\"T2155.hdf5\")\n",
    "model = load_model(\"10L1024N_w_100epochs.hdf5\")"
   ]
  },
  {
   "cell_type": "code",
   "execution_count": 39,
   "metadata": {},
   "outputs": [],
   "source": [
    "pred = model.predict(data_test[input_branches])\n",
    "for n in range(len(match_suffixes)):\n",
    "    data_test[\"deepId_{}\".format(match_suffixes[n])] = pandas.Series(pred[:, n], data_test.index)\n",
    "#data_test[\"deepId_tau\"] = pandas.Series(pred[:,0], data_test.index)"
   ]
  },
  {
   "cell_type": "code",
   "execution_count": 146,
   "metadata": {},
   "outputs": [
    {
     "data": {
      "text/plain": [
       "array([[0.6544525 ],\n",
       "       [0.14560634],\n",
       "       [0.24894914],\n",
       "       ...,\n",
       "       [0.6918787 ],\n",
       "       [0.67491   ],\n",
       "       [0.3178241 ]], dtype=float32)"
      ]
     },
     "execution_count": 146,
     "metadata": {},
     "output_type": "execute_result"
    }
   ],
   "source": [
    "pred"
   ]
  },
  {
   "cell_type": "code",
   "execution_count": 67,
   "metadata": {},
   "outputs": [
    {
     "data": {
      "image/png": "[encoded data removed]",
      "text/plain": [
       "<Figure size 432x288 with 1 Axes>"
      ]
     },
     "metadata": {},
     "output_type": "display_data"
    }
   ],
   "source": [
    "data_tj_test = data_test[((data_test['gen_match_tau'] == 1) | (data_test['gen_match_jet'] == 1))\n",
    "                    & (data_test['pt'] > 20) & (data_test['pt'] < 100)]\n",
    "fpr_ref, tpr_ref, thresholds_ref = metrics.roc_curve(data_tj_test['gen_match_tau'],\n",
    "                                                     data_tj_test['byIsolationMVArun2017v2DBoldDMwLTraw2017'])\n",
    "best_guess = data_tj_test['deepId_tau']/(data_tj_test['deepId_jet'])\n",
    "#best_guess = data_tj_test['deepId_tau']\n",
    "fpr, tpr, thresholds = metrics.roc_curve(data_tj_test['gen_match_tau'], best_guess)\n",
    "plt.semilogy(tpr_ref[:-1], fpr_ref[:-1], 'magenta', tpr, fpr, 'red')\n",
    "#plt.ylim([0,0.2])\n",
    "#plt.xlim([.4, 0.8])\n",
    "plt.xlabel('Tau ID efficiency', fontsize=16)\n",
    "plt.ylabel('Jet mis-id probability', fontsize=16)\n",
    "plt.xticks(fontsize=14)\n",
    "plt.yticks(fontsize=14)\n",
    "plt.savefig('tau_vs_jet.pdf', bbox_inches='tight')"
   ]
  },
  {
   "cell_type": "code",
   "execution_count": 198,
   "metadata": {},
   "outputs": [],
   "source": [
    "#model.save(\"T2155.hdf5\")"
   ]
  },
  {
   "cell_type": "code",
   "execution_count": 231,
   "metadata": {},
   "outputs": [
    {
     "name": "stderr",
     "output_type": "stream",
     "text": [
      "C:\\Users\\konst\\AppData\\Roaming\\Python\\Python36\\site-packages\\matplotlib\\axes\\_axes.py:6462: UserWarning: The 'normed' kwarg is deprecated, and has been replaced by the 'density' kwarg.\n",
      "  warnings.warn(\"The 'normed' kwarg is deprecated, and has been \"\n"
     ]
    },
    {
     "data": {
      "image/png": "[encoded data removed]",
      "text/plain": [
       "<Figure size 432x288 with 1 Axes>"
      ]
     },
     "metadata": {},
     "output_type": "display_data"
    }
   ],
   "source": [
    "plt.hist(data_tj_test[data_tj_test['gen_match_jet'] == 1]['deepId_tau'], 50, normed=1, facecolor='green', alpha=0.75);"
   ]
  },
  {
   "cell_type": "code",
   "execution_count": 66,
   "metadata": {},
   "outputs": [
    {
     "data": {
      "image/png": "[encoded data removed]",
      "text/plain": [
       "<Figure size 432x288 with 1 Axes>"
      ]
     },
     "metadata": {},
     "output_type": "display_data"
    }
   ],
   "source": [
    "data_et_test = data_test[((data_test['gen_match_tau'] == 1) | (data_test['gen_match_e'] == 1))\n",
    "                    & (data_test['pt'] > 20) & (data_test['pt'] < 100)]\n",
    "fpr_ref, tpr_ref, thresholds_ref = metrics.roc_curve(data_et_test['gen_match_tau'],\n",
    "                                                     data_et_test['againstElectronMVA6Raw'])\n",
    "best_guess = data_et_test['deepId_tau']/(data_et_test['deepId_e'])\n",
    "#best_guess = data_et_test['deepId_tau']\n",
    "fpr, tpr, thresholds = metrics.roc_curve(data_et_test['gen_match_tau'], best_guess)\n",
    "plt.semilogy(tpr_ref[:-1], fpr_ref[:-1], 'magenta', tpr, fpr, 'red')\n",
    "#plt.ylim([0,0.2])\n",
    "#plt.xlim([.4, 0.8])\n",
    "plt.xlabel('Tau ID efficiency', fontsize=16)\n",
    "plt.ylabel('Electron mis-id probability', fontsize=16)\n",
    "plt.xticks(fontsize=14)\n",
    "plt.yticks(fontsize=14)\n",
    "plt.savefig('tau_vs_ele.pdf', bbox_inches='tight')"
   ]
  },
  {
   "cell_type": "code",
   "execution_count": 65,
   "metadata": {},
   "outputs": [
    {
     "name": "stderr",
     "output_type": "stream",
     "text": [
      "C:\\Users\\konst\\AppData\\Roaming\\Python\\Python36\\site-packages\\matplotlib\\axes\\_base.py:3449: UserWarning: Attempted to set non-positive ylimits for log-scale axis; invalid limits will be ignored.\n",
      "  'Attempted to set non-positive ylimits for log-scale axis; '\n"
     ]
    },
    {
     "data": {
      "image/png": "[encoded data removed]",
      "text/plain": [
       "<Figure size 432x288 with 1 Axes>"
      ]
     },
     "metadata": {},
     "output_type": "display_data"
    }
   ],
   "source": [
    "data_mt_test = data_test[((data_test['gen_match_tau'] == 1) | (data_test['gen_match_mu'] == 1))\n",
    "                    & (data_test['pt'] > 20) & (data_test['pt'] < 100)]\n",
    "fpr_ref, tpr_ref, thresholds_ref = metrics.roc_curve(data_mt_test['gen_match_tau'],\n",
    "                                                     data_mt_test['againstMuonLoose3'])\n",
    "fpr_ref_2, tpr_ref_2, thresholds_ref_2 = metrics.roc_curve(data_mt_test['gen_match_tau'],\n",
    "                                                     data_mt_test['againstMuonTight3'])\n",
    "\n",
    "best_guess = data_mt_test['deepId_tau']/data_mt_test['deepId_mu']\n",
    "#best_guess = data_et_test['deepId_tau']\n",
    "fpr, tpr, thresholds = metrics.roc_curve(data_mt_test['gen_match_tau'], best_guess)\n",
    "plt.semilogy(tpr_ref[1:2], fpr_ref[1:2], 'bo', tpr_ref_2[1:2], fpr_ref_2[1:2], 'mo', tpr, fpr, 'red')\n",
    "plt.ylim([0., 0.04])\n",
    "plt.xlim([.98, 1])\n",
    "plt.xlabel('Tau ID efficiency', fontsize=16)\n",
    "plt.ylabel('Muon mis-id probability', fontsize=16)\n",
    "plt.xticks(fontsize=14, rotation=45)\n",
    "plt.yticks(fontsize=14)\n",
    "plt.savefig('tau_vs_mu.pdf', bbox_inches='tight')"
   ]
  },
  {
   "cell_type": "code",
   "execution_count": 49,
   "metadata": {},
   "outputs": [],
   "source": [
    "#model.save('10L1024N_w_100epochs.hdf5')\n",
    "#model.save('10L1024N_w_500epochs.hdf5')\n",
    "#model.save('10L1024N_w_600epochs.hdf5')\n",
    "model.save('10L1024N_200epochs.hdf5')"
   ]
  },
  {
   "cell_type": "code",
   "execution_count": 48,
   "metadata": {},
   "outputs": [
    {
     "data": {
      "text/plain": [
       "'10L1024N'"
      ]
     },
     "execution_count": 48,
     "metadata": {},
     "output_type": "execute_result"
    }
   ],
   "source": [
    "model_name"
   ]
  },
  {
   "cell_type": "code",
   "execution_count": 292,
   "metadata": {},
   "outputs": [
    {
     "data": {
      "text/plain": [
       "array([0.00459036])"
      ]
     },
     "execution_count": 292,
     "metadata": {},
     "output_type": "execute_result"
    }
   ],
   "source": [
    "fpr_ref[1:2]"
   ]
  },
  {
   "cell_type": "code",
   "execution_count": 50,
   "metadata": {},
   "outputs": [],
   "source": [
    "import pickle"
   ]
  },
  {
   "cell_type": "code",
   "execution_count": 51,
   "metadata": {},
   "outputs": [],
   "source": [
    "data_train.to_pickle('data_train.pkl', 'bz2')"
   ]
  },
  {
   "cell_type": "code",
   "execution_count": 52,
   "metadata": {},
   "outputs": [],
   "source": [
    "data_test.to_pickle('data_test.pkl', 'bz2')"
   ]
  },
  {
   "cell_type": "code",
   "execution_count": null,
   "metadata": {},
   "outputs": [],
   "source": []
  }
 ],
 "metadata": {
  "kernelspec": {
   "display_name": "Python 3",
   "language": "python",
   "name": "python3"
  },
  "language_info": {
   "codemirror_mode": {
    "name": "ipython",
    "version": 3
   },
   "file_extension": ".py",
   "mimetype": "text/x-python",
   "name": "python",
   "nbconvert_exporter": "python",
   "pygments_lexer": "ipython3",
   "version": "3.6.5"
  }
 },
 "nbformat": 4,
 "nbformat_minor": 2
}
