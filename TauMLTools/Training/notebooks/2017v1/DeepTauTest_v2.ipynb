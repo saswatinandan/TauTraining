{
 "cells": [
  {
   "cell_type": "code",
   "execution_count": 48,
   "metadata": {},
   "outputs": [],
   "source": [
    "import uproot\n",
    "import pandas\n",
    "import numpy as np\n",
    "from sklearn import metrics\n",
    "import matplotlib.pyplot as plt\n",
    "%matplotlib inline\n",
    "from keras.models import Sequential\n",
    "from keras.models import load_model\n",
    "from keras.layers import Dense, Dropout, Activation, Flatten, BatchNormalization\n",
    "from keras.layers import Convolution2D, MaxPooling2D\n",
    "from keras.utils import np_utils\n",
    "from keras.callbacks import ModelCheckpoint\n",
    "import keras\n",
    "import tensorflow as tf\n",
    "import gc\n",
    "from sklearn.model_selection import train_test_split"
   ]
  },
  {
   "cell_type": "code",
   "execution_count": 2,
   "metadata": {},
   "outputs": [],
   "source": [
    "central_tau_id_branches = ['againstElectronMVA6Raw', 'byCombinedIsolationDeltaBetaCorrRaw3Hits',\n",
    "    'byIsolationMVArun2v1DBoldDMwLTraw', 'byIsolationMVArun2v1DBdR03oldDMwLTraw',\n",
    "    'byIsolationMVArun2v1DBoldDMwLTraw2016', 'byIsolationMVArun2017v2DBoldDMwLTraw2017',\n",
    "    'byIsolationMVArun2017v2DBoldDMdR0p3wLTraw2017', 'id_flags']\n",
    "truth_branches = ['gen_match']\n",
    "input_branches = ['pt', 'eta', 'mass', 'decayMode', 'chargedIsoPtSum', 'neutralIsoPtSum', 'neutralIsoPtSumWeight',\n",
    "                  'photonPtSumOutsideSignalCone', 'puCorrPtSum',\n",
    "                  'dxy', 'dxy_sig', 'dz', 'ip3d', 'ip3d_sig',\n",
    "                  'hasSecondaryVertex', 'flightLength_r', 'flightLength_dEta', 'flightLength_dPhi',\n",
    "                  'flightLength_sig', 'leadChargedHadrCand_pt', 'leadChargedHadrCand_dEta',\n",
    "                  'leadChargedHadrCand_dPhi', 'leadChargedHadrCand_mass', 'pt_weighted_deta_strip',\n",
    "                  'pt_weighted_dphi_strip', 'pt_weighted_dr_signal', 'pt_weighted_dr_iso',\n",
    "                  'leadingTrackNormChi2', 'e_ratio', 'gj_angle_diff', 'n_photons', 'emFraction',\n",
    "                  'has_gsf_track', 'inside_ecal_crack',\n",
    "                  'gsf_ele_matched', 'gsf_ele_pt', 'gsf_ele_dEta', 'gsf_ele_dPhi', 'gsf_ele_mass', 'gsf_ele_Ee',\n",
    "                  'gsf_ele_Egamma', 'gsf_ele_Pin', 'gsf_ele_Pout', 'gsf_ele_EtotOverPin', 'gsf_ele_Eecal',\n",
    "                  'gsf_ele_dEta_SeedClusterTrackAtCalo', 'gsf_ele_dPhi_SeedClusterTrackAtCalo', 'gsf_ele_mvaIn_sigmaEtaEta',\n",
    "                  'gsf_ele_mvaIn_hadEnergy',\n",
    "                  'gsf_ele_mvaIn_deltaEta', 'gsf_ele_Chi2NormGSF', 'gsf_ele_GSFNumHits', 'gsf_ele_GSFTrackResol',\n",
    "                  'gsf_ele_GSFTracklnPt', 'gsf_ele_Chi2NormKF', 'gsf_ele_KFNumHits',\n",
    "                  'leadChargedCand_etaAtEcalEntrance', 'leadChargedCand_pt', 'leadChargedHadrCand_HoP',\n",
    "                  'leadChargedHadrCand_EoP', 'tau_visMass_innerSigCone', 'n_matched_muons', 'muon_pt', 'muon_dEta', 'muon_dPhi',\n",
    "                  'muon_n_matches_DT_1', 'muon_n_matches_DT_2', 'muon_n_matches_DT_3', 'muon_n_matches_DT_4',\n",
    "                  'muon_n_matches_CSC_1', 'muon_n_matches_CSC_2', 'muon_n_matches_CSC_3', 'muon_n_matches_CSC_4',\n",
    "                  'muon_n_hits_DT_2', 'muon_n_hits_DT_3', 'muon_n_hits_DT_4',\n",
    "                  'muon_n_hits_CSC_2', 'muon_n_hits_CSC_3', 'muon_n_hits_CSC_4',\n",
    "                  'muon_n_hits_RPC_2', 'muon_n_hits_RPC_3', 'muon_n_hits_RPC_4',\n",
    "                  'muon_n_stations_with_matches_03', 'muon_n_stations_with_hits_23', \n",
    "                  'signalChargedHadrCands_sum_innerSigCone_pt', 'signalChargedHadrCands_sum_innerSigCone_dEta',\n",
    "                  'signalChargedHadrCands_sum_innerSigCone_dPhi', 'signalChargedHadrCands_sum_innerSigCone_mass',\n",
    "                  'signalChargedHadrCands_sum_outerSigCone_pt', 'signalChargedHadrCands_sum_outerSigCone_dEta',\n",
    "                  'signalChargedHadrCands_sum_outerSigCone_dPhi', 'signalChargedHadrCands_sum_outerSigCone_mass',\n",
    "                  'signalChargedHadrCands_nTotal_innerSigCone', 'signalChargedHadrCands_nTotal_outerSigCone',\n",
    "                  'signalNeutrHadrCands_sum_innerSigCone_pt', 'signalNeutrHadrCands_sum_innerSigCone_dEta',\n",
    "                  'signalNeutrHadrCands_sum_innerSigCone_dPhi', 'signalNeutrHadrCands_sum_innerSigCone_mass',\n",
    "                  'signalNeutrHadrCands_sum_outerSigCone_pt', 'signalNeutrHadrCands_sum_outerSigCone_dEta',\n",
    "                  'signalNeutrHadrCands_sum_outerSigCone_dPhi', 'signalNeutrHadrCands_sum_outerSigCone_mass',\n",
    "                  'signalNeutrHadrCands_nTotal_innerSigCone', 'signalNeutrHadrCands_nTotal_outerSigCone',\n",
    "                  'signalGammaCands_sum_innerSigCone_pt', 'signalGammaCands_sum_innerSigCone_dEta',\n",
    "                  'signalGammaCands_sum_innerSigCone_dPhi', 'signalGammaCands_sum_innerSigCone_mass',\n",
    "                  'signalGammaCands_sum_outerSigCone_pt', 'signalGammaCands_sum_outerSigCone_dEta',\n",
    "                  'signalGammaCands_sum_outerSigCone_dPhi', 'signalGammaCands_sum_outerSigCone_mass',\n",
    "                  'signalGammaCands_nTotal_innerSigCone', 'signalGammaCands_nTotal_outerSigCone',\n",
    "                  'isolationChargedHadrCands_sum_pt', 'isolationChargedHadrCands_sum_dEta',\n",
    "                  'isolationChargedHadrCands_sum_dPhi', 'isolationChargedHadrCands_sum_mass',\n",
    "                  'isolationChargedHadrCands_nTotal',\n",
    "                  'isolationNeutrHadrCands_sum_pt', 'isolationNeutrHadrCands_sum_dEta',\n",
    "                  'isolationNeutrHadrCands_sum_dPhi', 'isolationNeutrHadrCands_sum_mass',\n",
    "                  'isolationNeutrHadrCands_nTotal',\n",
    "                  'isolationGammaCands_sum_pt', 'isolationGammaCands_sum_dEta',\n",
    "                  'isolationGammaCands_sum_dPhi', 'isolationGammaCands_sum_mass',\n",
    "                  'isolationGammaCands_nTotal',\n",
    "                 ]\n",
    "all_branches = truth_branches + input_branches + central_tau_id_branches\n",
    "match_suffixes = [ 'e', 'mu', 'tau', 'jet' ]\n",
    "gen_match_ex_branches = [ 'gen_match_{}'.format(suff) for suff in match_suffixes ]\n",
    "e, mu, tau, jet = 0, 1, 2, 3\n",
    "input_shape = (len(input_branches), )\n",
    "n_outputs = len(gen_match_ex_branches)\n",
    "\n",
    "class GenMatch:\n",
    "    Electron = 1\n",
    "    Muon = 2\n",
    "    TauElectron = 3\n",
    "    TauMuon = 4\n",
    "    Tau = 5\n",
    "    NoMatch = 6 "
   ]
  },
  {
   "cell_type": "code",
   "execution_count": 3,
   "metadata": {},
   "outputs": [],
   "source": [
    "def ReadBranchesFromFile(file_name, tree_name, branches, dtype, chunk_size = 10, nentries=None):\n",
    "    data = None\n",
    "    n = 0\n",
    "    branch_chunks = [ branches[pos:pos+chunk_size] for pos in range(0, len(branches), chunk_size) ]\n",
    "    if nentries is None:\n",
    "        with uproot.open(file_name) as file:\n",
    "            tree = file[tree_name]\n",
    "            nentries = tree.numentries\n",
    "        gc.collect()\n",
    "    data = np.empty([nentries, len(branches)], dtype=dtype)\n",
    "    for chunk in branch_chunks:\n",
    "        with uproot.open(file_name) as file:\n",
    "            tree = file[tree_name]\n",
    "            arrays = tree.arrays(chunk, entrystop=nentries)\n",
    "            for br in chunk:\n",
    "                data[:, n] = arrays[br.encode()].astype(dtype)\n",
    "                print(\"branch '{}' loaded. {}/{}\".format(br, n + 1, len(branches)))\n",
    "                n += 1\n",
    "        gc.collect()\n",
    "    return data"
   ]
  },
  {
   "cell_type": "code",
   "execution_count": 4,
   "metadata": {},
   "outputs": [],
   "source": [
    "def VectorizeGenMatch(data, dtype):\n",
    "    if data.shape[1] != 1:\n",
    "        raise RuntimeError(\"Invalid input\")\n",
    "    v_data = np.zeros([data.shape[0], 4], dtype=dtype)\n",
    "    v_data[:, 0] = ((data[:, 0] == 1) | (data[:, 0] == 3)).astype(dtype)\n",
    "    v_data[:, 1] = ((data[:, 0] == 2) | (data[:, 0] == 4)).astype(dtype)\n",
    "    v_data[:, 2] = (data[:, 0] == 5).astype(dtype)\n",
    "    v_data[:, 3] = (data[:, 0] == 6).astype(dtype)\n",
    "    return v_data"
   ]
  },
  {
   "cell_type": "code",
   "execution_count": 5,
   "metadata": {},
   "outputs": [
    {
     "name": "stdout",
     "output_type": "stream",
     "text": [
      "branch 'pt' loaded. 1/129\n",
      "branch 'eta' loaded. 2/129\n",
      "branch 'mass' loaded. 3/129\n",
      "branch 'decayMode' loaded. 4/129\n",
      "branch 'chargedIsoPtSum' loaded. 5/129\n",
      "branch 'neutralIsoPtSum' loaded. 6/129\n",
      "branch 'neutralIsoPtSumWeight' loaded. 7/129\n",
      "branch 'photonPtSumOutsideSignalCone' loaded. 8/129\n",
      "branch 'puCorrPtSum' loaded. 9/129\n",
      "branch 'dxy' loaded. 10/129\n",
      "branch 'dxy_sig' loaded. 11/129\n",
      "branch 'dz' loaded. 12/129\n",
      "branch 'ip3d' loaded. 13/129\n",
      "branch 'ip3d_sig' loaded. 14/129\n",
      "branch 'hasSecondaryVertex' loaded. 15/129\n",
      "branch 'flightLength_r' loaded. 16/129\n",
      "branch 'flightLength_dEta' loaded. 17/129\n",
      "branch 'flightLength_dPhi' loaded. 18/129\n",
      "branch 'flightLength_sig' loaded. 19/129\n",
      "branch 'leadChargedHadrCand_pt' loaded. 20/129\n",
      "branch 'leadChargedHadrCand_dEta' loaded. 21/129\n",
      "branch 'leadChargedHadrCand_dPhi' loaded. 22/129\n",
      "branch 'leadChargedHadrCand_mass' loaded. 23/129\n",
      "branch 'pt_weighted_deta_strip' loaded. 24/129\n",
      "branch 'pt_weighted_dphi_strip' loaded. 25/129\n",
      "branch 'pt_weighted_dr_signal' loaded. 26/129\n",
      "branch 'pt_weighted_dr_iso' loaded. 27/129\n",
      "branch 'leadingTrackNormChi2' loaded. 28/129\n",
      "branch 'e_ratio' loaded. 29/129\n",
      "branch 'gj_angle_diff' loaded. 30/129\n",
      "branch 'n_photons' loaded. 31/129\n",
      "branch 'emFraction' loaded. 32/129\n",
      "branch 'has_gsf_track' loaded. 33/129\n",
      "branch 'inside_ecal_crack' loaded. 34/129\n",
      "branch 'gsf_ele_matched' loaded. 35/129\n",
      "branch 'gsf_ele_pt' loaded. 36/129\n",
      "branch 'gsf_ele_dEta' loaded. 37/129\n",
      "branch 'gsf_ele_dPhi' loaded. 38/129\n",
      "branch 'gsf_ele_mass' loaded. 39/129\n",
      "branch 'gsf_ele_Ee' loaded. 40/129\n",
      "branch 'gsf_ele_Egamma' loaded. 41/129\n",
      "branch 'gsf_ele_Pin' loaded. 42/129\n",
      "branch 'gsf_ele_Pout' loaded. 43/129\n",
      "branch 'gsf_ele_EtotOverPin' loaded. 44/129\n",
      "branch 'gsf_ele_Eecal' loaded. 45/129\n",
      "branch 'gsf_ele_dEta_SeedClusterTrackAtCalo' loaded. 46/129\n",
      "branch 'gsf_ele_dPhi_SeedClusterTrackAtCalo' loaded. 47/129\n",
      "branch 'gsf_ele_mvaIn_sigmaEtaEta' loaded. 48/129\n",
      "branch 'gsf_ele_mvaIn_hadEnergy' loaded. 49/129\n",
      "branch 'gsf_ele_mvaIn_deltaEta' loaded. 50/129\n",
      "branch 'gsf_ele_Chi2NormGSF' loaded. 51/129\n",
      "branch 'gsf_ele_GSFNumHits' loaded. 52/129\n",
      "branch 'gsf_ele_GSFTrackResol' loaded. 53/129\n",
      "branch 'gsf_ele_GSFTracklnPt' loaded. 54/129\n",
      "branch 'gsf_ele_Chi2NormKF' loaded. 55/129\n",
      "branch 'gsf_ele_KFNumHits' loaded. 56/129\n",
      "branch 'leadChargedCand_etaAtEcalEntrance' loaded. 57/129\n",
      "branch 'leadChargedCand_pt' loaded. 58/129\n",
      "branch 'leadChargedHadrCand_HoP' loaded. 59/129\n",
      "branch 'leadChargedHadrCand_EoP' loaded. 60/129\n",
      "branch 'tau_visMass_innerSigCone' loaded. 61/129\n",
      "branch 'n_matched_muons' loaded. 62/129\n",
      "branch 'muon_pt' loaded. 63/129\n",
      "branch 'muon_dEta' loaded. 64/129\n",
      "branch 'muon_dPhi' loaded. 65/129\n",
      "branch 'muon_n_matches_DT_1' loaded. 66/129\n",
      "branch 'muon_n_matches_DT_2' loaded. 67/129\n",
      "branch 'muon_n_matches_DT_3' loaded. 68/129\n",
      "branch 'muon_n_matches_DT_4' loaded. 69/129\n",
      "branch 'muon_n_matches_CSC_1' loaded. 70/129\n",
      "branch 'muon_n_matches_CSC_2' loaded. 71/129\n",
      "branch 'muon_n_matches_CSC_3' loaded. 72/129\n",
      "branch 'muon_n_matches_CSC_4' loaded. 73/129\n",
      "branch 'muon_n_hits_DT_2' loaded. 74/129\n",
      "branch 'muon_n_hits_DT_3' loaded. 75/129\n",
      "branch 'muon_n_hits_DT_4' loaded. 76/129\n",
      "branch 'muon_n_hits_CSC_2' loaded. 77/129\n",
      "branch 'muon_n_hits_CSC_3' loaded. 78/129\n",
      "branch 'muon_n_hits_CSC_4' loaded. 79/129\n",
      "branch 'muon_n_hits_RPC_2' loaded. 80/129\n",
      "branch 'muon_n_hits_RPC_3' loaded. 81/129\n",
      "branch 'muon_n_hits_RPC_4' loaded. 82/129\n",
      "branch 'muon_n_stations_with_matches_03' loaded. 83/129\n",
      "branch 'muon_n_stations_with_hits_23' loaded. 84/129\n",
      "branch 'signalChargedHadrCands_sum_innerSigCone_pt' loaded. 85/129\n",
      "branch 'signalChargedHadrCands_sum_innerSigCone_dEta' loaded. 86/129\n",
      "branch 'signalChargedHadrCands_sum_innerSigCone_dPhi' loaded. 87/129\n",
      "branch 'signalChargedHadrCands_sum_innerSigCone_mass' loaded. 88/129\n",
      "branch 'signalChargedHadrCands_sum_outerSigCone_pt' loaded. 89/129\n",
      "branch 'signalChargedHadrCands_sum_outerSigCone_dEta' loaded. 90/129\n",
      "branch 'signalChargedHadrCands_sum_outerSigCone_dPhi' loaded. 91/129\n",
      "branch 'signalChargedHadrCands_sum_outerSigCone_mass' loaded. 92/129\n",
      "branch 'signalChargedHadrCands_nTotal_innerSigCone' loaded. 93/129\n",
      "branch 'signalChargedHadrCands_nTotal_outerSigCone' loaded. 94/129\n",
      "branch 'signalNeutrHadrCands_sum_innerSigCone_pt' loaded. 95/129\n",
      "branch 'signalNeutrHadrCands_sum_innerSigCone_dEta' loaded. 96/129\n",
      "branch 'signalNeutrHadrCands_sum_innerSigCone_dPhi' loaded. 97/129\n",
      "branch 'signalNeutrHadrCands_sum_innerSigCone_mass' loaded. 98/129\n",
      "branch 'signalNeutrHadrCands_sum_outerSigCone_pt' loaded. 99/129\n",
      "branch 'signalNeutrHadrCands_sum_outerSigCone_dEta' loaded. 100/129\n",
      "branch 'signalNeutrHadrCands_sum_outerSigCone_dPhi' loaded. 101/129\n",
      "branch 'signalNeutrHadrCands_sum_outerSigCone_mass' loaded. 102/129\n",
      "branch 'signalNeutrHadrCands_nTotal_innerSigCone' loaded. 103/129\n",
      "branch 'signalNeutrHadrCands_nTotal_outerSigCone' loaded. 104/129\n",
      "branch 'signalGammaCands_sum_innerSigCone_pt' loaded. 105/129\n",
      "branch 'signalGammaCands_sum_innerSigCone_dEta' loaded. 106/129\n",
      "branch 'signalGammaCands_sum_innerSigCone_dPhi' loaded. 107/129\n",
      "branch 'signalGammaCands_sum_innerSigCone_mass' loaded. 108/129\n",
      "branch 'signalGammaCands_sum_outerSigCone_pt' loaded. 109/129\n",
      "branch 'signalGammaCands_sum_outerSigCone_dEta' loaded. 110/129\n",
      "branch 'signalGammaCands_sum_outerSigCone_dPhi' loaded. 111/129\n",
      "branch 'signalGammaCands_sum_outerSigCone_mass' loaded. 112/129\n",
      "branch 'signalGammaCands_nTotal_innerSigCone' loaded. 113/129\n",
      "branch 'signalGammaCands_nTotal_outerSigCone' loaded. 114/129\n",
      "branch 'isolationChargedHadrCands_sum_pt' loaded. 115/129\n",
      "branch 'isolationChargedHadrCands_sum_dEta' loaded. 116/129\n",
      "branch 'isolationChargedHadrCands_sum_dPhi' loaded. 117/129\n",
      "branch 'isolationChargedHadrCands_sum_mass' loaded. 118/129\n",
      "branch 'isolationChargedHadrCands_nTotal' loaded. 119/129\n",
      "branch 'isolationNeutrHadrCands_sum_pt' loaded. 120/129\n",
      "branch 'isolationNeutrHadrCands_sum_dEta' loaded. 121/129\n",
      "branch 'isolationNeutrHadrCands_sum_dPhi' loaded. 122/129\n",
      "branch 'isolationNeutrHadrCands_sum_mass' loaded. 123/129\n",
      "branch 'isolationNeutrHadrCands_nTotal' loaded. 124/129\n",
      "branch 'isolationGammaCands_sum_pt' loaded. 125/129\n",
      "branch 'isolationGammaCands_sum_dEta' loaded. 126/129\n",
      "branch 'isolationGammaCands_sum_dPhi' loaded. 127/129\n",
      "branch 'isolationGammaCands_sum_mass' loaded. 128/129\n",
      "branch 'isolationGammaCands_nTotal' loaded. 129/129\n"
     ]
    },
    {
     "data": {
      "text/plain": [
       "(15000000, 129)"
      ]
     },
     "execution_count": 5,
     "metadata": {},
     "output_type": "execute_result"
    }
   ],
   "source": [
    "X_jet = ReadBranchesFromFile('../../tuples/TTTo2L2Nu_TuneCP5_PSweights_13TeV-powheg-pythia8/testing/taus_jet.root',\n",
    "                         'taus', input_branches, np.float32, nentries=int(1.5e7))\n",
    "X_jet.shape"
   ]
  },
  {
   "cell_type": "code",
   "execution_count": 7,
   "metadata": {},
   "outputs": [
    {
     "name": "stdout",
     "output_type": "stream",
     "text": [
      "branch 'gen_match' loaded. 1/1\n"
     ]
    },
    {
     "data": {
      "text/plain": [
       "(15000000, 4)"
      ]
     },
     "execution_count": 7,
     "metadata": {},
     "output_type": "execute_result"
    }
   ],
   "source": [
    "Y_raw = ReadBranchesFromFile('../../tuples/TTTo2L2Nu_TuneCP5_PSweights_13TeV-powheg-pythia8/testing/taus_jet.root',\n",
    "                             'taus', truth_branches, int, nentries=int(1.5e7))\n",
    "Y_jet = VectorizeGenMatch(Y_raw, int)\n",
    "Y_jet.shape"
   ]
  },
  {
   "cell_type": "code",
   "execution_count": 8,
   "metadata": {},
   "outputs": [
    {
     "name": "stdout",
     "output_type": "stream",
     "text": [
      "branch 'byIsolationMVArun2017v2DBoldDMwLTraw2017' loaded. 1/1\n"
     ]
    }
   ],
   "source": [
    "pred_jet_pog = ReadBranchesFromFile('../../tuples/TTTo2L2Nu_TuneCP5_PSweights_13TeV-powheg-pythia8/testing/taus_jet.root',\n",
    "                             'taus', ['byIsolationMVArun2017v2DBoldDMwLTraw2017'], np.float32, nentries=int(1.5e7)) "
   ]
  },
  {
   "cell_type": "code",
   "execution_count": 9,
   "metadata": {},
   "outputs": [
    {
     "name": "stdout",
     "output_type": "stream",
     "text": [
      "branch 'pt' loaded. 1/129\n",
      "branch 'eta' loaded. 2/129\n",
      "branch 'mass' loaded. 3/129\n",
      "branch 'decayMode' loaded. 4/129\n",
      "branch 'chargedIsoPtSum' loaded. 5/129\n",
      "branch 'neutralIsoPtSum' loaded. 6/129\n",
      "branch 'neutralIsoPtSumWeight' loaded. 7/129\n",
      "branch 'photonPtSumOutsideSignalCone' loaded. 8/129\n",
      "branch 'puCorrPtSum' loaded. 9/129\n",
      "branch 'dxy' loaded. 10/129\n",
      "branch 'dxy_sig' loaded. 11/129\n",
      "branch 'dz' loaded. 12/129\n",
      "branch 'ip3d' loaded. 13/129\n",
      "branch 'ip3d_sig' loaded. 14/129\n",
      "branch 'hasSecondaryVertex' loaded. 15/129\n",
      "branch 'flightLength_r' loaded. 16/129\n",
      "branch 'flightLength_dEta' loaded. 17/129\n",
      "branch 'flightLength_dPhi' loaded. 18/129\n",
      "branch 'flightLength_sig' loaded. 19/129\n",
      "branch 'leadChargedHadrCand_pt' loaded. 20/129\n",
      "branch 'leadChargedHadrCand_dEta' loaded. 21/129\n",
      "branch 'leadChargedHadrCand_dPhi' loaded. 22/129\n",
      "branch 'leadChargedHadrCand_mass' loaded. 23/129\n",
      "branch 'pt_weighted_deta_strip' loaded. 24/129\n",
      "branch 'pt_weighted_dphi_strip' loaded. 25/129\n",
      "branch 'pt_weighted_dr_signal' loaded. 26/129\n",
      "branch 'pt_weighted_dr_iso' loaded. 27/129\n",
      "branch 'leadingTrackNormChi2' loaded. 28/129\n",
      "branch 'e_ratio' loaded. 29/129\n",
      "branch 'gj_angle_diff' loaded. 30/129\n",
      "branch 'n_photons' loaded. 31/129\n",
      "branch 'emFraction' loaded. 32/129\n",
      "branch 'has_gsf_track' loaded. 33/129\n",
      "branch 'inside_ecal_crack' loaded. 34/129\n",
      "branch 'gsf_ele_matched' loaded. 35/129\n",
      "branch 'gsf_ele_pt' loaded. 36/129\n",
      "branch 'gsf_ele_dEta' loaded. 37/129\n",
      "branch 'gsf_ele_dPhi' loaded. 38/129\n",
      "branch 'gsf_ele_mass' loaded. 39/129\n",
      "branch 'gsf_ele_Ee' loaded. 40/129\n",
      "branch 'gsf_ele_Egamma' loaded. 41/129\n",
      "branch 'gsf_ele_Pin' loaded. 42/129\n",
      "branch 'gsf_ele_Pout' loaded. 43/129\n",
      "branch 'gsf_ele_EtotOverPin' loaded. 44/129\n",
      "branch 'gsf_ele_Eecal' loaded. 45/129\n",
      "branch 'gsf_ele_dEta_SeedClusterTrackAtCalo' loaded. 46/129\n",
      "branch 'gsf_ele_dPhi_SeedClusterTrackAtCalo' loaded. 47/129\n",
      "branch 'gsf_ele_mvaIn_sigmaEtaEta' loaded. 48/129\n",
      "branch 'gsf_ele_mvaIn_hadEnergy' loaded. 49/129\n",
      "branch 'gsf_ele_mvaIn_deltaEta' loaded. 50/129\n",
      "branch 'gsf_ele_Chi2NormGSF' loaded. 51/129\n",
      "branch 'gsf_ele_GSFNumHits' loaded. 52/129\n",
      "branch 'gsf_ele_GSFTrackResol' loaded. 53/129\n",
      "branch 'gsf_ele_GSFTracklnPt' loaded. 54/129\n",
      "branch 'gsf_ele_Chi2NormKF' loaded. 55/129\n",
      "branch 'gsf_ele_KFNumHits' loaded. 56/129\n",
      "branch 'leadChargedCand_etaAtEcalEntrance' loaded. 57/129\n",
      "branch 'leadChargedCand_pt' loaded. 58/129\n",
      "branch 'leadChargedHadrCand_HoP' loaded. 59/129\n",
      "branch 'leadChargedHadrCand_EoP' loaded. 60/129\n",
      "branch 'tau_visMass_innerSigCone' loaded. 61/129\n",
      "branch 'n_matched_muons' loaded. 62/129\n",
      "branch 'muon_pt' loaded. 63/129\n",
      "branch 'muon_dEta' loaded. 64/129\n",
      "branch 'muon_dPhi' loaded. 65/129\n",
      "branch 'muon_n_matches_DT_1' loaded. 66/129\n",
      "branch 'muon_n_matches_DT_2' loaded. 67/129\n",
      "branch 'muon_n_matches_DT_3' loaded. 68/129\n",
      "branch 'muon_n_matches_DT_4' loaded. 69/129\n",
      "branch 'muon_n_matches_CSC_1' loaded. 70/129\n",
      "branch 'muon_n_matches_CSC_2' loaded. 71/129\n",
      "branch 'muon_n_matches_CSC_3' loaded. 72/129\n",
      "branch 'muon_n_matches_CSC_4' loaded. 73/129\n",
      "branch 'muon_n_hits_DT_2' loaded. 74/129\n",
      "branch 'muon_n_hits_DT_3' loaded. 75/129\n",
      "branch 'muon_n_hits_DT_4' loaded. 76/129\n",
      "branch 'muon_n_hits_CSC_2' loaded. 77/129\n",
      "branch 'muon_n_hits_CSC_3' loaded. 78/129\n",
      "branch 'muon_n_hits_CSC_4' loaded. 79/129\n",
      "branch 'muon_n_hits_RPC_2' loaded. 80/129\n",
      "branch 'muon_n_hits_RPC_3' loaded. 81/129\n",
      "branch 'muon_n_hits_RPC_4' loaded. 82/129\n",
      "branch 'muon_n_stations_with_matches_03' loaded. 83/129\n",
      "branch 'muon_n_stations_with_hits_23' loaded. 84/129\n",
      "branch 'signalChargedHadrCands_sum_innerSigCone_pt' loaded. 85/129\n",
      "branch 'signalChargedHadrCands_sum_innerSigCone_dEta' loaded. 86/129\n",
      "branch 'signalChargedHadrCands_sum_innerSigCone_dPhi' loaded. 87/129\n",
      "branch 'signalChargedHadrCands_sum_innerSigCone_mass' loaded. 88/129\n",
      "branch 'signalChargedHadrCands_sum_outerSigCone_pt' loaded. 89/129\n",
      "branch 'signalChargedHadrCands_sum_outerSigCone_dEta' loaded. 90/129\n",
      "branch 'signalChargedHadrCands_sum_outerSigCone_dPhi' loaded. 91/129\n",
      "branch 'signalChargedHadrCands_sum_outerSigCone_mass' loaded. 92/129\n",
      "branch 'signalChargedHadrCands_nTotal_innerSigCone' loaded. 93/129\n",
      "branch 'signalChargedHadrCands_nTotal_outerSigCone' loaded. 94/129\n",
      "branch 'signalNeutrHadrCands_sum_innerSigCone_pt' loaded. 95/129\n",
      "branch 'signalNeutrHadrCands_sum_innerSigCone_dEta' loaded. 96/129\n",
      "branch 'signalNeutrHadrCands_sum_innerSigCone_dPhi' loaded. 97/129\n",
      "branch 'signalNeutrHadrCands_sum_innerSigCone_mass' loaded. 98/129\n",
      "branch 'signalNeutrHadrCands_sum_outerSigCone_pt' loaded. 99/129\n",
      "branch 'signalNeutrHadrCands_sum_outerSigCone_dEta' loaded. 100/129\n",
      "branch 'signalNeutrHadrCands_sum_outerSigCone_dPhi' loaded. 101/129\n",
      "branch 'signalNeutrHadrCands_sum_outerSigCone_mass' loaded. 102/129\n",
      "branch 'signalNeutrHadrCands_nTotal_innerSigCone' loaded. 103/129\n",
      "branch 'signalNeutrHadrCands_nTotal_outerSigCone' loaded. 104/129\n",
      "branch 'signalGammaCands_sum_innerSigCone_pt' loaded. 105/129\n",
      "branch 'signalGammaCands_sum_innerSigCone_dEta' loaded. 106/129\n",
      "branch 'signalGammaCands_sum_innerSigCone_dPhi' loaded. 107/129\n",
      "branch 'signalGammaCands_sum_innerSigCone_mass' loaded. 108/129\n",
      "branch 'signalGammaCands_sum_outerSigCone_pt' loaded. 109/129\n",
      "branch 'signalGammaCands_sum_outerSigCone_dEta' loaded. 110/129\n",
      "branch 'signalGammaCands_sum_outerSigCone_dPhi' loaded. 111/129\n",
      "branch 'signalGammaCands_sum_outerSigCone_mass' loaded. 112/129\n",
      "branch 'signalGammaCands_nTotal_innerSigCone' loaded. 113/129\n",
      "branch 'signalGammaCands_nTotal_outerSigCone' loaded. 114/129\n",
      "branch 'isolationChargedHadrCands_sum_pt' loaded. 115/129\n",
      "branch 'isolationChargedHadrCands_sum_dEta' loaded. 116/129\n",
      "branch 'isolationChargedHadrCands_sum_dPhi' loaded. 117/129\n",
      "branch 'isolationChargedHadrCands_sum_mass' loaded. 118/129\n",
      "branch 'isolationChargedHadrCands_nTotal' loaded. 119/129\n",
      "branch 'isolationNeutrHadrCands_sum_pt' loaded. 120/129\n",
      "branch 'isolationNeutrHadrCands_sum_dEta' loaded. 121/129\n",
      "branch 'isolationNeutrHadrCands_sum_dPhi' loaded. 122/129\n",
      "branch 'isolationNeutrHadrCands_sum_mass' loaded. 123/129\n",
      "branch 'isolationNeutrHadrCands_nTotal' loaded. 124/129\n",
      "branch 'isolationGammaCands_sum_pt' loaded. 125/129\n",
      "branch 'isolationGammaCands_sum_dEta' loaded. 126/129\n",
      "branch 'isolationGammaCands_sum_dPhi' loaded. 127/129\n",
      "branch 'isolationGammaCands_sum_mass' loaded. 128/129\n",
      "branch 'isolationGammaCands_nTotal' loaded. 129/129\n"
     ]
    },
    {
     "data": {
      "text/plain": [
       "(5466964, 129)"
      ]
     },
     "execution_count": 9,
     "metadata": {},
     "output_type": "execute_result"
    }
   ],
   "source": [
    "X_tau_jet = ReadBranchesFromFile('../../tuples/TTTo2L2Nu_TuneCP5_PSweights_13TeV-powheg-pythia8/testing/taus_tau.root',\n",
    "                         'taus', input_branches, np.float32)\n",
    "X_tau_jet.shape"
   ]
  },
  {
   "cell_type": "code",
   "execution_count": 10,
   "metadata": {},
   "outputs": [
    {
     "name": "stdout",
     "output_type": "stream",
     "text": [
      "branch 'gen_match' loaded. 1/1\n"
     ]
    },
    {
     "data": {
      "text/plain": [
       "(5466964, 4)"
      ]
     },
     "execution_count": 10,
     "metadata": {},
     "output_type": "execute_result"
    }
   ],
   "source": [
    "Y_raw = ReadBranchesFromFile('../../tuples/TTTo2L2Nu_TuneCP5_PSweights_13TeV-powheg-pythia8/testing/taus_tau.root',\n",
    "                             'taus', truth_branches, int)\n",
    "Y_tau_jet = VectorizeGenMatch(Y_raw, int)\n",
    "Y_tau_jet.shape"
   ]
  },
  {
   "cell_type": "code",
   "execution_count": 27,
   "metadata": {},
   "outputs": [],
   "source": [
    "Y_tau = Y_tau_jet"
   ]
  },
  {
   "cell_type": "code",
   "execution_count": 11,
   "metadata": {},
   "outputs": [
    {
     "name": "stdout",
     "output_type": "stream",
     "text": [
      "branch 'byIsolationMVArun2017v2DBoldDMwLTraw2017' loaded. 1/1\n"
     ]
    }
   ],
   "source": [
    "pred_tau_jet_pog = ReadBranchesFromFile('../../tuples/TTTo2L2Nu_TuneCP5_PSweights_13TeV-powheg-pythia8/testing/taus_tau.root',\n",
    "                                        'taus', ['byIsolationMVArun2017v2DBoldDMwLTraw2017'], np.float32) "
   ]
  },
  {
   "cell_type": "code",
   "execution_count": 12,
   "metadata": {},
   "outputs": [],
   "source": [
    "#model = load_model(\"10L1024N_0603.hdf5\")\n",
    "model = load_model('10L1024N_0604_v3_s2_acc.hdf5')"
   ]
  },
  {
   "cell_type": "code",
   "execution_count": 13,
   "metadata": {},
   "outputs": [
    {
     "name": "stdout",
     "output_type": "stream",
     "text": [
      "15000000/15000000 [==============================] - 120s 8us/step\n"
     ]
    }
   ],
   "source": [
    "pred_jet = model.predict(X_jet, batch_size = 250000, verbose=1)"
   ]
  },
  {
   "cell_type": "code",
   "execution_count": 14,
   "metadata": {},
   "outputs": [
    {
     "name": "stdout",
     "output_type": "stream",
     "text": [
      "5466964/5466964 [==============================] - 43s 8us/step\n"
     ]
    }
   ],
   "source": [
    "pred_tau_jet = model.predict(X_tau_jet, batch_size = 250000, verbose=1)"
   ]
  },
  {
   "cell_type": "code",
   "execution_count": 25,
   "metadata": {},
   "outputs": [],
   "source": [
    "pred_tau = pred_tau_jet"
   ]
  },
  {
   "cell_type": "code",
   "execution_count": 16,
   "metadata": {},
   "outputs": [
    {
     "name": "stdout",
     "output_type": "stream",
     "text": [
      "(20466964,) (20466964,) (20466964,)\n"
     ]
    }
   ],
   "source": [
    "Y = np.append(Y_tau_jet[:, 2], Y_jet[:, 2])\n",
    "#pred = np.append(pred_tau[:, 2]/(pred_tau[:, 0] + pred_tau[:, 1] + pred_tau[:, 3]),\n",
    "#                 pred_jet[:, 2]/(pred_jet[:, 0] + pred_jet[:, 1] + pred_jet[:, 3]))\n",
    "pred = np.append(pred_tau_jet[:, 2]/(pred_tau_jet[:, 2] + pred_tau_jet[:, 3]),\n",
    "                 pred_jet[:, 2]/(pred_jet[:, 2] + pred_jet[:, 3]))\n",
    "\n",
    "#pred = np.append(pred_tau[:, 2], pred_jet[:, 2])\n",
    "pred_pog = np.append(pred_tau_jet_pog, pred_jet_pog)\n",
    "print(Y.shape, pred.shape, pred_pog.shape)"
   ]
  },
  {
   "cell_type": "code",
   "execution_count": 17,
   "metadata": {},
   "outputs": [
    {
     "data": {
      "image/png": "[encoded data removed]",
      "text/plain": [
       "<Figure size 432x288 with 1 Axes>"
      ]
     },
     "metadata": {},
     "output_type": "display_data"
    }
   ],
   "source": [
    "fpr_ref, tpr_ref, thresholds_ref = metrics.roc_curve(Y, pred_pog)\n",
    "fpr, tpr, thresholds = metrics.roc_curve(Y, pred)\n",
    "plt.semilogy(tpr_ref[:-1], fpr_ref[:-1], 'magenta', tpr, fpr, 'red')\n",
    "#plt.ylim([0,0.2])\n",
    "#plt.xlim([.4, 0.8])\n",
    "plt.xlabel('Tau ID efficiency', fontsize=16)\n",
    "plt.ylabel('Jet mis-id probability', fontsize=16)\n",
    "plt.xticks(fontsize=14)\n",
    "plt.yticks(fontsize=14)\n",
    "plt.savefig('tau_vs_jet.pdf', bbox_inches='tight')"
   ]
  },
  {
   "cell_type": "code",
   "execution_count": 18,
   "metadata": {},
   "outputs": [
    {
     "data": {
      "text/plain": [
       "0.856661527993014"
      ]
     },
     "execution_count": 18,
     "metadata": {},
     "output_type": "execute_result"
    }
   ],
   "source": [
    "metrics.roc_auc_score(Y, pred_pog)"
   ]
  },
  {
   "cell_type": "code",
   "execution_count": 19,
   "metadata": {},
   "outputs": [
    {
     "data": {
      "text/plain": [
       "0.9731299546939333"
      ]
     },
     "execution_count": 19,
     "metadata": {},
     "output_type": "execute_result"
    }
   ],
   "source": [
    "metrics.roc_auc_score(Y, pred)"
   ]
  },
  {
   "cell_type": "code",
   "execution_count": 20,
   "metadata": {},
   "outputs": [
    {
     "name": "stdout",
     "output_type": "stream",
     "text": [
      "branch 'pt' loaded. 1/129\n",
      "branch 'eta' loaded. 2/129\n",
      "branch 'mass' loaded. 3/129\n",
      "branch 'decayMode' loaded. 4/129\n",
      "branch 'chargedIsoPtSum' loaded. 5/129\n",
      "branch 'neutralIsoPtSum' loaded. 6/129\n",
      "branch 'neutralIsoPtSumWeight' loaded. 7/129\n",
      "branch 'photonPtSumOutsideSignalCone' loaded. 8/129\n",
      "branch 'puCorrPtSum' loaded. 9/129\n",
      "branch 'dxy' loaded. 10/129\n",
      "branch 'dxy_sig' loaded. 11/129\n",
      "branch 'dz' loaded. 12/129\n",
      "branch 'ip3d' loaded. 13/129\n",
      "branch 'ip3d_sig' loaded. 14/129\n",
      "branch 'hasSecondaryVertex' loaded. 15/129\n",
      "branch 'flightLength_r' loaded. 16/129\n",
      "branch 'flightLength_dEta' loaded. 17/129\n",
      "branch 'flightLength_dPhi' loaded. 18/129\n",
      "branch 'flightLength_sig' loaded. 19/129\n",
      "branch 'leadChargedHadrCand_pt' loaded. 20/129\n",
      "branch 'leadChargedHadrCand_dEta' loaded. 21/129\n",
      "branch 'leadChargedHadrCand_dPhi' loaded. 22/129\n",
      "branch 'leadChargedHadrCand_mass' loaded. 23/129\n",
      "branch 'pt_weighted_deta_strip' loaded. 24/129\n",
      "branch 'pt_weighted_dphi_strip' loaded. 25/129\n",
      "branch 'pt_weighted_dr_signal' loaded. 26/129\n",
      "branch 'pt_weighted_dr_iso' loaded. 27/129\n",
      "branch 'leadingTrackNormChi2' loaded. 28/129\n",
      "branch 'e_ratio' loaded. 29/129\n",
      "branch 'gj_angle_diff' loaded. 30/129\n",
      "branch 'n_photons' loaded. 31/129\n",
      "branch 'emFraction' loaded. 32/129\n",
      "branch 'has_gsf_track' loaded. 33/129\n",
      "branch 'inside_ecal_crack' loaded. 34/129\n",
      "branch 'gsf_ele_matched' loaded. 35/129\n",
      "branch 'gsf_ele_pt' loaded. 36/129\n",
      "branch 'gsf_ele_dEta' loaded. 37/129\n",
      "branch 'gsf_ele_dPhi' loaded. 38/129\n",
      "branch 'gsf_ele_mass' loaded. 39/129\n",
      "branch 'gsf_ele_Ee' loaded. 40/129\n",
      "branch 'gsf_ele_Egamma' loaded. 41/129\n",
      "branch 'gsf_ele_Pin' loaded. 42/129\n",
      "branch 'gsf_ele_Pout' loaded. 43/129\n",
      "branch 'gsf_ele_EtotOverPin' loaded. 44/129\n",
      "branch 'gsf_ele_Eecal' loaded. 45/129\n",
      "branch 'gsf_ele_dEta_SeedClusterTrackAtCalo' loaded. 46/129\n",
      "branch 'gsf_ele_dPhi_SeedClusterTrackAtCalo' loaded. 47/129\n",
      "branch 'gsf_ele_mvaIn_sigmaEtaEta' loaded. 48/129\n",
      "branch 'gsf_ele_mvaIn_hadEnergy' loaded. 49/129\n",
      "branch 'gsf_ele_mvaIn_deltaEta' loaded. 50/129\n",
      "branch 'gsf_ele_Chi2NormGSF' loaded. 51/129\n",
      "branch 'gsf_ele_GSFNumHits' loaded. 52/129\n",
      "branch 'gsf_ele_GSFTrackResol' loaded. 53/129\n",
      "branch 'gsf_ele_GSFTracklnPt' loaded. 54/129\n",
      "branch 'gsf_ele_Chi2NormKF' loaded. 55/129\n",
      "branch 'gsf_ele_KFNumHits' loaded. 56/129\n",
      "branch 'leadChargedCand_etaAtEcalEntrance' loaded. 57/129\n",
      "branch 'leadChargedCand_pt' loaded. 58/129\n",
      "branch 'leadChargedHadrCand_HoP' loaded. 59/129\n",
      "branch 'leadChargedHadrCand_EoP' loaded. 60/129\n",
      "branch 'tau_visMass_innerSigCone' loaded. 61/129\n",
      "branch 'n_matched_muons' loaded. 62/129\n",
      "branch 'muon_pt' loaded. 63/129\n",
      "branch 'muon_dEta' loaded. 64/129\n",
      "branch 'muon_dPhi' loaded. 65/129\n",
      "branch 'muon_n_matches_DT_1' loaded. 66/129\n",
      "branch 'muon_n_matches_DT_2' loaded. 67/129\n",
      "branch 'muon_n_matches_DT_3' loaded. 68/129\n",
      "branch 'muon_n_matches_DT_4' loaded. 69/129\n",
      "branch 'muon_n_matches_CSC_1' loaded. 70/129\n",
      "branch 'muon_n_matches_CSC_2' loaded. 71/129\n",
      "branch 'muon_n_matches_CSC_3' loaded. 72/129\n",
      "branch 'muon_n_matches_CSC_4' loaded. 73/129\n",
      "branch 'muon_n_hits_DT_2' loaded. 74/129\n",
      "branch 'muon_n_hits_DT_3' loaded. 75/129\n",
      "branch 'muon_n_hits_DT_4' loaded. 76/129\n",
      "branch 'muon_n_hits_CSC_2' loaded. 77/129\n",
      "branch 'muon_n_hits_CSC_3' loaded. 78/129\n",
      "branch 'muon_n_hits_CSC_4' loaded. 79/129\n",
      "branch 'muon_n_hits_RPC_2' loaded. 80/129\n",
      "branch 'muon_n_hits_RPC_3' loaded. 81/129\n",
      "branch 'muon_n_hits_RPC_4' loaded. 82/129\n",
      "branch 'muon_n_stations_with_matches_03' loaded. 83/129\n",
      "branch 'muon_n_stations_with_hits_23' loaded. 84/129\n",
      "branch 'signalChargedHadrCands_sum_innerSigCone_pt' loaded. 85/129\n",
      "branch 'signalChargedHadrCands_sum_innerSigCone_dEta' loaded. 86/129\n",
      "branch 'signalChargedHadrCands_sum_innerSigCone_dPhi' loaded. 87/129\n",
      "branch 'signalChargedHadrCands_sum_innerSigCone_mass' loaded. 88/129\n",
      "branch 'signalChargedHadrCands_sum_outerSigCone_pt' loaded. 89/129\n",
      "branch 'signalChargedHadrCands_sum_outerSigCone_dEta' loaded. 90/129\n",
      "branch 'signalChargedHadrCands_sum_outerSigCone_dPhi' loaded. 91/129\n",
      "branch 'signalChargedHadrCands_sum_outerSigCone_mass' loaded. 92/129\n",
      "branch 'signalChargedHadrCands_nTotal_innerSigCone' loaded. 93/129\n",
      "branch 'signalChargedHadrCands_nTotal_outerSigCone' loaded. 94/129\n",
      "branch 'signalNeutrHadrCands_sum_innerSigCone_pt' loaded. 95/129\n",
      "branch 'signalNeutrHadrCands_sum_innerSigCone_dEta' loaded. 96/129\n",
      "branch 'signalNeutrHadrCands_sum_innerSigCone_dPhi' loaded. 97/129\n",
      "branch 'signalNeutrHadrCands_sum_innerSigCone_mass' loaded. 98/129\n",
      "branch 'signalNeutrHadrCands_sum_outerSigCone_pt' loaded. 99/129\n",
      "branch 'signalNeutrHadrCands_sum_outerSigCone_dEta' loaded. 100/129\n",
      "branch 'signalNeutrHadrCands_sum_outerSigCone_dPhi' loaded. 101/129\n",
      "branch 'signalNeutrHadrCands_sum_outerSigCone_mass' loaded. 102/129\n",
      "branch 'signalNeutrHadrCands_nTotal_innerSigCone' loaded. 103/129\n",
      "branch 'signalNeutrHadrCands_nTotal_outerSigCone' loaded. 104/129\n",
      "branch 'signalGammaCands_sum_innerSigCone_pt' loaded. 105/129\n",
      "branch 'signalGammaCands_sum_innerSigCone_dEta' loaded. 106/129\n",
      "branch 'signalGammaCands_sum_innerSigCone_dPhi' loaded. 107/129\n",
      "branch 'signalGammaCands_sum_innerSigCone_mass' loaded. 108/129\n",
      "branch 'signalGammaCands_sum_outerSigCone_pt' loaded. 109/129\n",
      "branch 'signalGammaCands_sum_outerSigCone_dEta' loaded. 110/129\n",
      "branch 'signalGammaCands_sum_outerSigCone_dPhi' loaded. 111/129\n",
      "branch 'signalGammaCands_sum_outerSigCone_mass' loaded. 112/129\n",
      "branch 'signalGammaCands_nTotal_innerSigCone' loaded. 113/129\n",
      "branch 'signalGammaCands_nTotal_outerSigCone' loaded. 114/129\n",
      "branch 'isolationChargedHadrCands_sum_pt' loaded. 115/129\n",
      "branch 'isolationChargedHadrCands_sum_dEta' loaded. 116/129\n",
      "branch 'isolationChargedHadrCands_sum_dPhi' loaded. 117/129\n",
      "branch 'isolationChargedHadrCands_sum_mass' loaded. 118/129\n",
      "branch 'isolationChargedHadrCands_nTotal' loaded. 119/129\n",
      "branch 'isolationNeutrHadrCands_sum_pt' loaded. 120/129\n",
      "branch 'isolationNeutrHadrCands_sum_dEta' loaded. 121/129\n",
      "branch 'isolationNeutrHadrCands_sum_dPhi' loaded. 122/129\n",
      "branch 'isolationNeutrHadrCands_sum_mass' loaded. 123/129\n",
      "branch 'isolationNeutrHadrCands_nTotal' loaded. 124/129\n",
      "branch 'isolationGammaCands_sum_pt' loaded. 125/129\n",
      "branch 'isolationGammaCands_sum_dEta' loaded. 126/129\n",
      "branch 'isolationGammaCands_sum_dPhi' loaded. 127/129\n",
      "branch 'isolationGammaCands_sum_mass' loaded. 128/129\n",
      "branch 'isolationGammaCands_nTotal' loaded. 129/129\n"
     ]
    },
    {
     "data": {
      "text/plain": [
       "(15759701, 129)"
      ]
     },
     "execution_count": 20,
     "metadata": {},
     "output_type": "execute_result"
    }
   ],
   "source": [
    "X_e = ReadBranchesFromFile('../../tuples/TTTo2L2Nu_TuneCP5_PSweights_13TeV-powheg-pythia8/testing/taus_e.root',\n",
    "                           'taus', input_branches, np.float32)\n",
    "X_e.shape"
   ]
  },
  {
   "cell_type": "code",
   "execution_count": 21,
   "metadata": {},
   "outputs": [
    {
     "name": "stdout",
     "output_type": "stream",
     "text": [
      "branch 'gen_match' loaded. 1/1\n"
     ]
    },
    {
     "data": {
      "text/plain": [
       "(15759701, 4)"
      ]
     },
     "execution_count": 21,
     "metadata": {},
     "output_type": "execute_result"
    }
   ],
   "source": [
    "Y_raw = ReadBranchesFromFile('../../tuples/TTTo2L2Nu_TuneCP5_PSweights_13TeV-powheg-pythia8/testing/taus_e.root',\n",
    "                             'taus', truth_branches, int)\n",
    "Y_e = VectorizeGenMatch(Y_raw, int)\n",
    "Y_e.shape"
   ]
  },
  {
   "cell_type": "code",
   "execution_count": 22,
   "metadata": {},
   "outputs": [
    {
     "name": "stdout",
     "output_type": "stream",
     "text": [
      "branch 'againstElectronMVA6Raw' loaded. 1/1\n"
     ]
    },
    {
     "data": {
      "text/plain": [
       "(15759701, 1)"
      ]
     },
     "execution_count": 22,
     "metadata": {},
     "output_type": "execute_result"
    }
   ],
   "source": [
    "pred_e_pog = ReadBranchesFromFile('../../tuples/TTTo2L2Nu_TuneCP5_PSweights_13TeV-powheg-pythia8/testing/taus_e.root',\n",
    "                                  'taus', ['againstElectronMVA6Raw'], np.float32)\n",
    "pred_e_pog.shape"
   ]
  },
  {
   "cell_type": "code",
   "execution_count": 23,
   "metadata": {},
   "outputs": [
    {
     "name": "stdout",
     "output_type": "stream",
     "text": [
      "branch 'againstElectronMVA6Raw' loaded. 1/1\n"
     ]
    },
    {
     "data": {
      "text/plain": [
       "(5466964, 1)"
      ]
     },
     "execution_count": 23,
     "metadata": {},
     "output_type": "execute_result"
    }
   ],
   "source": [
    "pred_tau_e_pog = ReadBranchesFromFile('../../tuples/TTTo2L2Nu_TuneCP5_PSweights_13TeV-powheg-pythia8/testing/taus_tau.root',\n",
    "                                  'taus', ['againstElectronMVA6Raw'], np.float32)\n",
    "pred_tau_e_pog.shape"
   ]
  },
  {
   "cell_type": "code",
   "execution_count": 24,
   "metadata": {},
   "outputs": [
    {
     "name": "stdout",
     "output_type": "stream",
     "text": [
      "15759701/15759701 [==============================] - 126s 8us/step\n"
     ]
    }
   ],
   "source": [
    "pred_e = model.predict(X_e, batch_size = 250000, verbose=1)"
   ]
  },
  {
   "cell_type": "code",
   "execution_count": 28,
   "metadata": {},
   "outputs": [
    {
     "name": "stdout",
     "output_type": "stream",
     "text": [
      "(21226665,) (21226665,) (21226665,)\n"
     ]
    }
   ],
   "source": [
    "Y = np.append(Y_tau[:, 2], Y_e[:, 2])\n",
    "pred = np.append(pred_tau[:, 2]/(pred_tau[:, 2] + pred_tau[:, 0]),\n",
    "                 pred_e[:, 2]/(pred_e[:, 2]+pred_e[:, 0]))\n",
    "pred_pog = np.append(pred_tau_e_pog, pred_e_pog)\n",
    "print(Y.shape, pred.shape, pred_pog.shape)"
   ]
  },
  {
   "cell_type": "code",
   "execution_count": 29,
   "metadata": {},
   "outputs": [
    {
     "data": {
      "image/png": "[encoded data removed]",
      "text/plain": [
       "<Figure size 432x288 with 1 Axes>"
      ]
     },
     "metadata": {},
     "output_type": "display_data"
    }
   ],
   "source": [
    "fpr_ref, tpr_ref, thresholds_ref = metrics.roc_curve(Y, pred_pog)\n",
    "fpr, tpr, thresholds = metrics.roc_curve(Y, pred)\n",
    "plt.semilogy(tpr_ref[:-1], fpr_ref[:-1], 'magenta', tpr, fpr, 'red')\n",
    "#plt.ylim([0,0.2])\n",
    "#plt.xlim([.4, 0.8])\n",
    "plt.xlabel('Tau ID efficiency', fontsize=16)\n",
    "plt.ylabel('Electron mis-id probability', fontsize=16)\n",
    "plt.xticks(fontsize=14)\n",
    "plt.yticks(fontsize=14)\n",
    "plt.savefig('tau_vs_ele.pdf', bbox_inches='tight')"
   ]
  },
  {
   "cell_type": "code",
   "execution_count": 30,
   "metadata": {},
   "outputs": [
    {
     "name": "stdout",
     "output_type": "stream",
     "text": [
      "branch 'pt' loaded. 1/129\n",
      "branch 'eta' loaded. 2/129\n",
      "branch 'mass' loaded. 3/129\n",
      "branch 'decayMode' loaded. 4/129\n",
      "branch 'chargedIsoPtSum' loaded. 5/129\n",
      "branch 'neutralIsoPtSum' loaded. 6/129\n",
      "branch 'neutralIsoPtSumWeight' loaded. 7/129\n",
      "branch 'photonPtSumOutsideSignalCone' loaded. 8/129\n",
      "branch 'puCorrPtSum' loaded. 9/129\n",
      "branch 'dxy' loaded. 10/129\n",
      "branch 'dxy_sig' loaded. 11/129\n",
      "branch 'dz' loaded. 12/129\n",
      "branch 'ip3d' loaded. 13/129\n",
      "branch 'ip3d_sig' loaded. 14/129\n",
      "branch 'hasSecondaryVertex' loaded. 15/129\n",
      "branch 'flightLength_r' loaded. 16/129\n",
      "branch 'flightLength_dEta' loaded. 17/129\n",
      "branch 'flightLength_dPhi' loaded. 18/129\n",
      "branch 'flightLength_sig' loaded. 19/129\n",
      "branch 'leadChargedHadrCand_pt' loaded. 20/129\n",
      "branch 'leadChargedHadrCand_dEta' loaded. 21/129\n",
      "branch 'leadChargedHadrCand_dPhi' loaded. 22/129\n",
      "branch 'leadChargedHadrCand_mass' loaded. 23/129\n",
      "branch 'pt_weighted_deta_strip' loaded. 24/129\n",
      "branch 'pt_weighted_dphi_strip' loaded. 25/129\n",
      "branch 'pt_weighted_dr_signal' loaded. 26/129\n",
      "branch 'pt_weighted_dr_iso' loaded. 27/129\n",
      "branch 'leadingTrackNormChi2' loaded. 28/129\n",
      "branch 'e_ratio' loaded. 29/129\n",
      "branch 'gj_angle_diff' loaded. 30/129\n",
      "branch 'n_photons' loaded. 31/129\n",
      "branch 'emFraction' loaded. 32/129\n",
      "branch 'has_gsf_track' loaded. 33/129\n",
      "branch 'inside_ecal_crack' loaded. 34/129\n",
      "branch 'gsf_ele_matched' loaded. 35/129\n",
      "branch 'gsf_ele_pt' loaded. 36/129\n",
      "branch 'gsf_ele_dEta' loaded. 37/129\n",
      "branch 'gsf_ele_dPhi' loaded. 38/129\n",
      "branch 'gsf_ele_mass' loaded. 39/129\n",
      "branch 'gsf_ele_Ee' loaded. 40/129\n",
      "branch 'gsf_ele_Egamma' loaded. 41/129\n",
      "branch 'gsf_ele_Pin' loaded. 42/129\n",
      "branch 'gsf_ele_Pout' loaded. 43/129\n",
      "branch 'gsf_ele_EtotOverPin' loaded. 44/129\n",
      "branch 'gsf_ele_Eecal' loaded. 45/129\n",
      "branch 'gsf_ele_dEta_SeedClusterTrackAtCalo' loaded. 46/129\n",
      "branch 'gsf_ele_dPhi_SeedClusterTrackAtCalo' loaded. 47/129\n",
      "branch 'gsf_ele_mvaIn_sigmaEtaEta' loaded. 48/129\n",
      "branch 'gsf_ele_mvaIn_hadEnergy' loaded. 49/129\n",
      "branch 'gsf_ele_mvaIn_deltaEta' loaded. 50/129\n",
      "branch 'gsf_ele_Chi2NormGSF' loaded. 51/129\n",
      "branch 'gsf_ele_GSFNumHits' loaded. 52/129\n",
      "branch 'gsf_ele_GSFTrackResol' loaded. 53/129\n",
      "branch 'gsf_ele_GSFTracklnPt' loaded. 54/129\n",
      "branch 'gsf_ele_Chi2NormKF' loaded. 55/129\n",
      "branch 'gsf_ele_KFNumHits' loaded. 56/129\n",
      "branch 'leadChargedCand_etaAtEcalEntrance' loaded. 57/129\n",
      "branch 'leadChargedCand_pt' loaded. 58/129\n",
      "branch 'leadChargedHadrCand_HoP' loaded. 59/129\n",
      "branch 'leadChargedHadrCand_EoP' loaded. 60/129\n",
      "branch 'tau_visMass_innerSigCone' loaded. 61/129\n",
      "branch 'n_matched_muons' loaded. 62/129\n",
      "branch 'muon_pt' loaded. 63/129\n",
      "branch 'muon_dEta' loaded. 64/129\n",
      "branch 'muon_dPhi' loaded. 65/129\n",
      "branch 'muon_n_matches_DT_1' loaded. 66/129\n",
      "branch 'muon_n_matches_DT_2' loaded. 67/129\n",
      "branch 'muon_n_matches_DT_3' loaded. 68/129\n",
      "branch 'muon_n_matches_DT_4' loaded. 69/129\n",
      "branch 'muon_n_matches_CSC_1' loaded. 70/129\n",
      "branch 'muon_n_matches_CSC_2' loaded. 71/129\n",
      "branch 'muon_n_matches_CSC_3' loaded. 72/129\n",
      "branch 'muon_n_matches_CSC_4' loaded. 73/129\n",
      "branch 'muon_n_hits_DT_2' loaded. 74/129\n",
      "branch 'muon_n_hits_DT_3' loaded. 75/129\n",
      "branch 'muon_n_hits_DT_4' loaded. 76/129\n",
      "branch 'muon_n_hits_CSC_2' loaded. 77/129\n",
      "branch 'muon_n_hits_CSC_3' loaded. 78/129\n",
      "branch 'muon_n_hits_CSC_4' loaded. 79/129\n",
      "branch 'muon_n_hits_RPC_2' loaded. 80/129\n",
      "branch 'muon_n_hits_RPC_3' loaded. 81/129\n",
      "branch 'muon_n_hits_RPC_4' loaded. 82/129\n",
      "branch 'muon_n_stations_with_matches_03' loaded. 83/129\n",
      "branch 'muon_n_stations_with_hits_23' loaded. 84/129\n",
      "branch 'signalChargedHadrCands_sum_innerSigCone_pt' loaded. 85/129\n",
      "branch 'signalChargedHadrCands_sum_innerSigCone_dEta' loaded. 86/129\n",
      "branch 'signalChargedHadrCands_sum_innerSigCone_dPhi' loaded. 87/129\n",
      "branch 'signalChargedHadrCands_sum_innerSigCone_mass' loaded. 88/129\n",
      "branch 'signalChargedHadrCands_sum_outerSigCone_pt' loaded. 89/129\n",
      "branch 'signalChargedHadrCands_sum_outerSigCone_dEta' loaded. 90/129\n",
      "branch 'signalChargedHadrCands_sum_outerSigCone_dPhi' loaded. 91/129\n",
      "branch 'signalChargedHadrCands_sum_outerSigCone_mass' loaded. 92/129\n",
      "branch 'signalChargedHadrCands_nTotal_innerSigCone' loaded. 93/129\n",
      "branch 'signalChargedHadrCands_nTotal_outerSigCone' loaded. 94/129\n",
      "branch 'signalNeutrHadrCands_sum_innerSigCone_pt' loaded. 95/129\n",
      "branch 'signalNeutrHadrCands_sum_innerSigCone_dEta' loaded. 96/129\n",
      "branch 'signalNeutrHadrCands_sum_innerSigCone_dPhi' loaded. 97/129\n",
      "branch 'signalNeutrHadrCands_sum_innerSigCone_mass' loaded. 98/129\n",
      "branch 'signalNeutrHadrCands_sum_outerSigCone_pt' loaded. 99/129\n",
      "branch 'signalNeutrHadrCands_sum_outerSigCone_dEta' loaded. 100/129\n",
      "branch 'signalNeutrHadrCands_sum_outerSigCone_dPhi' loaded. 101/129\n",
      "branch 'signalNeutrHadrCands_sum_outerSigCone_mass' loaded. 102/129\n",
      "branch 'signalNeutrHadrCands_nTotal_innerSigCone' loaded. 103/129\n",
      "branch 'signalNeutrHadrCands_nTotal_outerSigCone' loaded. 104/129\n",
      "branch 'signalGammaCands_sum_innerSigCone_pt' loaded. 105/129\n",
      "branch 'signalGammaCands_sum_innerSigCone_dEta' loaded. 106/129\n",
      "branch 'signalGammaCands_sum_innerSigCone_dPhi' loaded. 107/129\n",
      "branch 'signalGammaCands_sum_innerSigCone_mass' loaded. 108/129\n",
      "branch 'signalGammaCands_sum_outerSigCone_pt' loaded. 109/129\n",
      "branch 'signalGammaCands_sum_outerSigCone_dEta' loaded. 110/129\n",
      "branch 'signalGammaCands_sum_outerSigCone_dPhi' loaded. 111/129\n",
      "branch 'signalGammaCands_sum_outerSigCone_mass' loaded. 112/129\n",
      "branch 'signalGammaCands_nTotal_innerSigCone' loaded. 113/129\n",
      "branch 'signalGammaCands_nTotal_outerSigCone' loaded. 114/129\n",
      "branch 'isolationChargedHadrCands_sum_pt' loaded. 115/129\n",
      "branch 'isolationChargedHadrCands_sum_dEta' loaded. 116/129\n",
      "branch 'isolationChargedHadrCands_sum_dPhi' loaded. 117/129\n",
      "branch 'isolationChargedHadrCands_sum_mass' loaded. 118/129\n",
      "branch 'isolationChargedHadrCands_nTotal' loaded. 119/129\n",
      "branch 'isolationNeutrHadrCands_sum_pt' loaded. 120/129\n",
      "branch 'isolationNeutrHadrCands_sum_dEta' loaded. 121/129\n",
      "branch 'isolationNeutrHadrCands_sum_dPhi' loaded. 122/129\n",
      "branch 'isolationNeutrHadrCands_sum_mass' loaded. 123/129\n",
      "branch 'isolationNeutrHadrCands_nTotal' loaded. 124/129\n",
      "branch 'isolationGammaCands_sum_pt' loaded. 125/129\n",
      "branch 'isolationGammaCands_sum_dEta' loaded. 126/129\n",
      "branch 'isolationGammaCands_sum_dPhi' loaded. 127/129\n",
      "branch 'isolationGammaCands_sum_mass' loaded. 128/129\n",
      "branch 'isolationGammaCands_nTotal' loaded. 129/129\n"
     ]
    },
    {
     "data": {
      "text/plain": [
       "(16385533, 129)"
      ]
     },
     "execution_count": 30,
     "metadata": {},
     "output_type": "execute_result"
    }
   ],
   "source": [
    "X_mu = ReadBranchesFromFile('../../tuples/TTTo2L2Nu_TuneCP5_PSweights_13TeV-powheg-pythia8/testing/taus_mu.root',\n",
    "                           'taus', input_branches, np.float32)\n",
    "X_mu.shape"
   ]
  },
  {
   "cell_type": "code",
   "execution_count": 31,
   "metadata": {},
   "outputs": [
    {
     "name": "stdout",
     "output_type": "stream",
     "text": [
      "branch 'gen_match' loaded. 1/1\n"
     ]
    },
    {
     "data": {
      "text/plain": [
       "(16385533, 4)"
      ]
     },
     "execution_count": 31,
     "metadata": {},
     "output_type": "execute_result"
    }
   ],
   "source": [
    "Y_raw = ReadBranchesFromFile('../../tuples/TTTo2L2Nu_TuneCP5_PSweights_13TeV-powheg-pythia8/testing/taus_mu.root',\n",
    "                             'taus', truth_branches, int)\n",
    "Y_mu = VectorizeGenMatch(Y_raw, int)\n",
    "Y_mu.shape"
   ]
  },
  {
   "cell_type": "code",
   "execution_count": 32,
   "metadata": {},
   "outputs": [],
   "source": [
    "def ExtractMuonDiscriminators(id_flags):\n",
    "    mu_disc = np.zeros([id_flags.shape[0], 2], dtype=int)\n",
    "    mu_disc[:, 0] = np.bitwise_and(np.right_shift(id_flags[:, 0], 5), 1)\n",
    "    mu_disc[:, 1] = np.bitwise_and(np.right_shift(id_flags[:, 0], 6), 1)\n",
    "    return mu_disc"
   ]
  },
  {
   "cell_type": "code",
   "execution_count": 33,
   "metadata": {},
   "outputs": [
    {
     "name": "stdout",
     "output_type": "stream",
     "text": [
      "branch 'id_flags' loaded. 1/1\n"
     ]
    },
    {
     "data": {
      "text/plain": [
       "(16385533, 2)"
      ]
     },
     "execution_count": 33,
     "metadata": {},
     "output_type": "execute_result"
    }
   ],
   "source": [
    "pred_mu_pog_raw = ReadBranchesFromFile('../../tuples/TTTo2L2Nu_TuneCP5_PSweights_13TeV-powheg-pythia8/testing/taus_mu.root',\n",
    "                                  'taus', ['id_flags'], np.int64)\n",
    "pred_mu_pog = ExtractMuonDiscriminators(pred_mu_pog_raw)\n",
    "pred_mu_pog.shape"
   ]
  },
  {
   "cell_type": "code",
   "execution_count": 34,
   "metadata": {},
   "outputs": [
    {
     "name": "stdout",
     "output_type": "stream",
     "text": [
      "branch 'id_flags' loaded. 1/1\n"
     ]
    },
    {
     "data": {
      "text/plain": [
       "(5466964, 2)"
      ]
     },
     "execution_count": 34,
     "metadata": {},
     "output_type": "execute_result"
    }
   ],
   "source": [
    "pred_tau_mu_pog_raw = ReadBranchesFromFile('../../tuples/TTTo2L2Nu_TuneCP5_PSweights_13TeV-powheg-pythia8/testing/taus_tau.root',\n",
    "                                  'taus', ['id_flags'], np.int64)\n",
    "pred_tau_mu_pog = ExtractMuonDiscriminators(pred_tau_mu_pog_raw)\n",
    "pred_tau_mu_pog.shape"
   ]
  },
  {
   "cell_type": "code",
   "execution_count": 35,
   "metadata": {},
   "outputs": [
    {
     "name": "stdout",
     "output_type": "stream",
     "text": [
      "16385533/16385533 [==============================] - 130s 8us/step\n"
     ]
    }
   ],
   "source": [
    "pred_mu = model.predict(X_mu, batch_size = 250000, verbose=1)"
   ]
  },
  {
   "cell_type": "code",
   "execution_count": 36,
   "metadata": {},
   "outputs": [
    {
     "name": "stdout",
     "output_type": "stream",
     "text": [
      "(21852497,) (21852497,) (21852497,) (21852497,)\n"
     ]
    }
   ],
   "source": [
    "Y = np.append(Y_tau[:, 2], Y_mu[:, 2])\n",
    "pred = np.append(pred_tau[:, 2]/(pred_tau[:, 2] + pred_tau[:, 1]),\n",
    "                 pred_mu[:, 2]/(pred_mu[:, 2] + pred_mu[:, 1]))\n",
    "pred_pog_loose = np.append(pred_tau_mu_pog[:, 0], pred_mu_pog[:, 0])\n",
    "pred_pog_tight = np.append(pred_tau_mu_pog[:, 1], pred_mu_pog[:, 1])\n",
    "print(Y.shape, pred.shape, pred_pog_loose.shape, pred_pog_tight.shape)"
   ]
  },
  {
   "cell_type": "code",
   "execution_count": 44,
   "metadata": {},
   "outputs": [
    {
     "data": {
      "image/png": "[encoded data removed]",
      "text/plain": [
       "<Figure size 432x288 with 1 Axes>"
      ]
     },
     "metadata": {},
     "output_type": "display_data"
    }
   ],
   "source": [
    "fpr_ref, tpr_ref, thresholds_ref = metrics.roc_curve(Y, pred_pog_loose)\n",
    "fpr_ref_2, tpr_ref_2, thresholds_ref_2 = metrics.roc_curve(Y, pred_pog_tight)\n",
    "fpr, tpr, thresholds = metrics.roc_curve(Y, pred)\n",
    "plt.semilogy(tpr_ref[1:2], fpr_ref[1:2], 'bo', tpr_ref_2[1:2], fpr_ref_2[1:2], 'mo', tpr, fpr, 'red')\n",
    "plt.ylim([1e-8, 0.04])\n",
    "plt.xlim([.0, 1])\n",
    "plt.xlabel('Tau ID efficiency', fontsize=16)\n",
    "plt.ylabel('Muon mis-id probability', fontsize=16)\n",
    "plt.xticks(fontsize=14, rotation=45)\n",
    "plt.yticks(fontsize=14)\n",
    "plt.savefig('tau_vs_mu.pdf', bbox_inches='tight')"
   ]
  },
  {
   "cell_type": "code",
   "execution_count": 47,
   "metadata": {},
   "outputs": [
    {
     "data": {
      "text/plain": [
       "<tensorflow.python.client.session.Session at 0x1e82f6c0358>"
      ]
     },
     "execution_count": 47,
     "metadata": {},
     "output_type": "execute_result"
    }
   ],
   "source": [
    "keras.backend.get_session()"
   ]
  },
  {
   "cell_type": "code",
   "execution_count": 49,
   "metadata": {},
   "outputs": [],
   "source": [
    "def load_graph(graph_filename):\n",
    "    with tf.gfile.GFile(graph_filename, 'rb') as f:\n",
    "        graph_def = tf.GraphDef()\n",
    "        graph_def.ParseFromString(f.read())\n",
    "    \n",
    "    with tf.Graph().as_default() as graph:\n",
    "        tf.import_graph_def(graph_def, name=\"deepTau\")\n",
    "    return graph"
   ]
  },
  {
   "cell_type": "code",
   "execution_count": 50,
   "metadata": {},
   "outputs": [],
   "source": [
    "graph = load_graph('10L1024N_0604_v3_s2_acc_full.pb')"
   ]
  },
  {
   "cell_type": "code",
   "execution_count": 51,
   "metadata": {},
   "outputs": [
    {
     "name": "stdout",
     "output_type": "stream",
     "text": [
      "deepTau/dense_94_input\n",
      "deepTau/dense_94/kernel\n",
      "deepTau/dense_94/kernel/read\n",
      "deepTau/dense_94/bias\n",
      "deepTau/dense_94/bias/read\n",
      "deepTau/dense_94/MatMul\n",
      "deepTau/dense_94/BiasAdd\n",
      "deepTau/batch_normalization_60/gamma\n",
      "deepTau/batch_normalization_60/gamma/read\n",
      "deepTau/batch_normalization_60/beta\n",
      "deepTau/batch_normalization_60/beta/read\n",
      "deepTau/batch_normalization_60/moving_mean\n",
      "deepTau/batch_normalization_60/moving_mean/read\n",
      "deepTau/batch_normalization_60/moving_variance\n",
      "deepTau/batch_normalization_60/moving_variance/read\n",
      "deepTau/batch_normalization_60/batchnorm_1/add/y\n",
      "deepTau/batch_normalization_60/batchnorm_1/add\n",
      "deepTau/batch_normalization_60/batchnorm_1/Rsqrt\n",
      "deepTau/batch_normalization_60/batchnorm_1/mul\n",
      "deepTau/batch_normalization_60/batchnorm_1/mul_1\n",
      "deepTau/batch_normalization_60/batchnorm_1/mul_2\n",
      "deepTau/batch_normalization_60/batchnorm_1/sub\n",
      "deepTau/batch_normalization_60/batchnorm_1/add_1\n",
      "deepTau/activation_94/Relu\n",
      "deepTau/dropout_87/Identity\n",
      "deepTau/dense_95/kernel\n",
      "deepTau/dense_95/kernel/read\n",
      "deepTau/dense_95/bias\n",
      "deepTau/dense_95/bias/read\n",
      "deepTau/dense_95/MatMul\n",
      "deepTau/dense_95/BiasAdd\n",
      "deepTau/batch_normalization_61/gamma\n",
      "deepTau/batch_normalization_61/gamma/read\n",
      "deepTau/batch_normalization_61/beta\n",
      "deepTau/batch_normalization_61/beta/read\n",
      "deepTau/batch_normalization_61/moving_mean\n",
      "deepTau/batch_normalization_61/moving_mean/read\n",
      "deepTau/batch_normalization_61/moving_variance\n",
      "deepTau/batch_normalization_61/moving_variance/read\n",
      "deepTau/batch_normalization_61/batchnorm_1/add/y\n",
      "deepTau/batch_normalization_61/batchnorm_1/add\n",
      "deepTau/batch_normalization_61/batchnorm_1/Rsqrt\n",
      "deepTau/batch_normalization_61/batchnorm_1/mul\n",
      "deepTau/batch_normalization_61/batchnorm_1/mul_1\n",
      "deepTau/batch_normalization_61/batchnorm_1/mul_2\n",
      "deepTau/batch_normalization_61/batchnorm_1/sub\n",
      "deepTau/batch_normalization_61/batchnorm_1/add_1\n",
      "deepTau/activation_95/Relu\n",
      "deepTau/dropout_88/Identity\n",
      "deepTau/dense_96/kernel\n",
      "deepTau/dense_96/kernel/read\n",
      "deepTau/dense_96/bias\n",
      "deepTau/dense_96/bias/read\n",
      "deepTau/dense_96/MatMul\n",
      "deepTau/dense_96/BiasAdd\n",
      "deepTau/batch_normalization_62/gamma\n",
      "deepTau/batch_normalization_62/gamma/read\n",
      "deepTau/batch_normalization_62/beta\n",
      "deepTau/batch_normalization_62/beta/read\n",
      "deepTau/batch_normalization_62/moving_mean\n",
      "deepTau/batch_normalization_62/moving_mean/read\n",
      "deepTau/batch_normalization_62/moving_variance\n",
      "deepTau/batch_normalization_62/moving_variance/read\n",
      "deepTau/batch_normalization_62/batchnorm_1/add/y\n",
      "deepTau/batch_normalization_62/batchnorm_1/add\n",
      "deepTau/batch_normalization_62/batchnorm_1/Rsqrt\n",
      "deepTau/batch_normalization_62/batchnorm_1/mul\n",
      "deepTau/batch_normalization_62/batchnorm_1/mul_1\n",
      "deepTau/batch_normalization_62/batchnorm_1/mul_2\n",
      "deepTau/batch_normalization_62/batchnorm_1/sub\n",
      "deepTau/batch_normalization_62/batchnorm_1/add_1\n",
      "deepTau/activation_96/Relu\n",
      "deepTau/dropout_89/Identity\n",
      "deepTau/dense_97/kernel\n",
      "deepTau/dense_97/kernel/read\n",
      "deepTau/dense_97/bias\n",
      "deepTau/dense_97/bias/read\n",
      "deepTau/dense_97/MatMul\n",
      "deepTau/dense_97/BiasAdd\n",
      "deepTau/batch_normalization_63/gamma\n",
      "deepTau/batch_normalization_63/gamma/read\n",
      "deepTau/batch_normalization_63/beta\n",
      "deepTau/batch_normalization_63/beta/read\n",
      "deepTau/batch_normalization_63/moving_mean\n",
      "deepTau/batch_normalization_63/moving_mean/read\n",
      "deepTau/batch_normalization_63/moving_variance\n",
      "deepTau/batch_normalization_63/moving_variance/read\n",
      "deepTau/batch_normalization_63/batchnorm_1/add/y\n",
      "deepTau/batch_normalization_63/batchnorm_1/add\n",
      "deepTau/batch_normalization_63/batchnorm_1/Rsqrt\n",
      "deepTau/batch_normalization_63/batchnorm_1/mul\n",
      "deepTau/batch_normalization_63/batchnorm_1/mul_1\n",
      "deepTau/batch_normalization_63/batchnorm_1/mul_2\n",
      "deepTau/batch_normalization_63/batchnorm_1/sub\n",
      "deepTau/batch_normalization_63/batchnorm_1/add_1\n",
      "deepTau/activation_97/Relu\n",
      "deepTau/dropout_90/Identity\n",
      "deepTau/dense_98/kernel\n",
      "deepTau/dense_98/kernel/read\n",
      "deepTau/dense_98/bias\n",
      "deepTau/dense_98/bias/read\n",
      "deepTau/dense_98/MatMul\n",
      "deepTau/dense_98/BiasAdd\n",
      "deepTau/batch_normalization_64/gamma\n",
      "deepTau/batch_normalization_64/gamma/read\n",
      "deepTau/batch_normalization_64/beta\n",
      "deepTau/batch_normalization_64/beta/read\n",
      "deepTau/batch_normalization_64/moving_mean\n",
      "deepTau/batch_normalization_64/moving_mean/read\n",
      "deepTau/batch_normalization_64/moving_variance\n",
      "deepTau/batch_normalization_64/moving_variance/read\n",
      "deepTau/batch_normalization_64/batchnorm_1/add/y\n",
      "deepTau/batch_normalization_64/batchnorm_1/add\n",
      "deepTau/batch_normalization_64/batchnorm_1/Rsqrt\n",
      "deepTau/batch_normalization_64/batchnorm_1/mul\n",
      "deepTau/batch_normalization_64/batchnorm_1/mul_1\n",
      "deepTau/batch_normalization_64/batchnorm_1/mul_2\n",
      "deepTau/batch_normalization_64/batchnorm_1/sub\n",
      "deepTau/batch_normalization_64/batchnorm_1/add_1\n",
      "deepTau/activation_98/Relu\n",
      "deepTau/dropout_91/Identity\n",
      "deepTau/dense_99/kernel\n",
      "deepTau/dense_99/kernel/read\n",
      "deepTau/dense_99/bias\n",
      "deepTau/dense_99/bias/read\n",
      "deepTau/dense_99/MatMul\n",
      "deepTau/dense_99/BiasAdd\n",
      "deepTau/batch_normalization_65/gamma\n",
      "deepTau/batch_normalization_65/gamma/read\n",
      "deepTau/batch_normalization_65/beta\n",
      "deepTau/batch_normalization_65/beta/read\n",
      "deepTau/batch_normalization_65/moving_mean\n",
      "deepTau/batch_normalization_65/moving_mean/read\n",
      "deepTau/batch_normalization_65/moving_variance\n",
      "deepTau/batch_normalization_65/moving_variance/read\n",
      "deepTau/batch_normalization_65/batchnorm_1/add/y\n",
      "deepTau/batch_normalization_65/batchnorm_1/add\n",
      "deepTau/batch_normalization_65/batchnorm_1/Rsqrt\n",
      "deepTau/batch_normalization_65/batchnorm_1/mul\n",
      "deepTau/batch_normalization_65/batchnorm_1/mul_1\n",
      "deepTau/batch_normalization_65/batchnorm_1/mul_2\n",
      "deepTau/batch_normalization_65/batchnorm_1/sub\n",
      "deepTau/batch_normalization_65/batchnorm_1/add_1\n",
      "deepTau/activation_99/Relu\n",
      "deepTau/dropout_92/Identity\n",
      "deepTau/dense_100/kernel\n",
      "deepTau/dense_100/kernel/read\n",
      "deepTau/dense_100/bias\n",
      "deepTau/dense_100/bias/read\n",
      "deepTau/dense_100/MatMul\n",
      "deepTau/dense_100/BiasAdd\n",
      "deepTau/batch_normalization_66/gamma\n",
      "deepTau/batch_normalization_66/gamma/read\n",
      "deepTau/batch_normalization_66/beta\n",
      "deepTau/batch_normalization_66/beta/read\n",
      "deepTau/batch_normalization_66/moving_mean\n",
      "deepTau/batch_normalization_66/moving_mean/read\n",
      "deepTau/batch_normalization_66/moving_variance\n",
      "deepTau/batch_normalization_66/moving_variance/read\n",
      "deepTau/batch_normalization_66/batchnorm_1/add/y\n",
      "deepTau/batch_normalization_66/batchnorm_1/add\n",
      "deepTau/batch_normalization_66/batchnorm_1/Rsqrt\n",
      "deepTau/batch_normalization_66/batchnorm_1/mul\n",
      "deepTau/batch_normalization_66/batchnorm_1/mul_1\n",
      "deepTau/batch_normalization_66/batchnorm_1/mul_2\n",
      "deepTau/batch_normalization_66/batchnorm_1/sub\n",
      "deepTau/batch_normalization_66/batchnorm_1/add_1\n",
      "deepTau/activation_100/Relu\n",
      "deepTau/dropout_93/Identity\n",
      "deepTau/dense_101/kernel\n",
      "deepTau/dense_101/kernel/read\n",
      "deepTau/dense_101/bias\n",
      "deepTau/dense_101/bias/read\n",
      "deepTau/dense_101/MatMul\n",
      "deepTau/dense_101/BiasAdd\n",
      "deepTau/batch_normalization_67/gamma\n",
      "deepTau/batch_normalization_67/gamma/read\n",
      "deepTau/batch_normalization_67/beta\n",
      "deepTau/batch_normalization_67/beta/read\n",
      "deepTau/batch_normalization_67/moving_mean\n",
      "deepTau/batch_normalization_67/moving_mean/read\n",
      "deepTau/batch_normalization_67/moving_variance\n",
      "deepTau/batch_normalization_67/moving_variance/read\n",
      "deepTau/batch_normalization_67/batchnorm_1/add/y\n",
      "deepTau/batch_normalization_67/batchnorm_1/add\n",
      "deepTau/batch_normalization_67/batchnorm_1/Rsqrt\n",
      "deepTau/batch_normalization_67/batchnorm_1/mul\n",
      "deepTau/batch_normalization_67/batchnorm_1/mul_1\n",
      "deepTau/batch_normalization_67/batchnorm_1/mul_2\n",
      "deepTau/batch_normalization_67/batchnorm_1/sub\n",
      "deepTau/batch_normalization_67/batchnorm_1/add_1\n",
      "deepTau/activation_101/Relu\n",
      "deepTau/dropout_94/Identity\n",
      "deepTau/dense_102/kernel\n",
      "deepTau/dense_102/kernel/read\n",
      "deepTau/dense_102/bias\n",
      "deepTau/dense_102/bias/read\n",
      "deepTau/dense_102/MatMul\n",
      "deepTau/dense_102/BiasAdd\n",
      "deepTau/batch_normalization_68/gamma\n",
      "deepTau/batch_normalization_68/gamma/read\n",
      "deepTau/batch_normalization_68/beta\n",
      "deepTau/batch_normalization_68/beta/read\n",
      "deepTau/batch_normalization_68/moving_mean\n",
      "deepTau/batch_normalization_68/moving_mean/read\n",
      "deepTau/batch_normalization_68/moving_variance\n",
      "deepTau/batch_normalization_68/moving_variance/read\n",
      "deepTau/batch_normalization_68/batchnorm_1/add/y\n",
      "deepTau/batch_normalization_68/batchnorm_1/add\n",
      "deepTau/batch_normalization_68/batchnorm_1/Rsqrt\n",
      "deepTau/batch_normalization_68/batchnorm_1/mul\n",
      "deepTau/batch_normalization_68/batchnorm_1/mul_1\n",
      "deepTau/batch_normalization_68/batchnorm_1/mul_2\n",
      "deepTau/batch_normalization_68/batchnorm_1/sub\n",
      "deepTau/batch_normalization_68/batchnorm_1/add_1\n",
      "deepTau/activation_102/Relu\n",
      "deepTau/dropout_95/Identity\n",
      "deepTau/dense_103/kernel\n",
      "deepTau/dense_103/kernel/read\n",
      "deepTau/dense_103/bias\n",
      "deepTau/dense_103/bias/read\n",
      "deepTau/dense_103/MatMul\n",
      "deepTau/dense_103/BiasAdd\n",
      "deepTau/batch_normalization_69/gamma\n",
      "deepTau/batch_normalization_69/gamma/read\n",
      "deepTau/batch_normalization_69/beta\n",
      "deepTau/batch_normalization_69/beta/read\n",
      "deepTau/batch_normalization_69/moving_mean\n",
      "deepTau/batch_normalization_69/moving_mean/read\n",
      "deepTau/batch_normalization_69/moving_variance\n",
      "deepTau/batch_normalization_69/moving_variance/read\n",
      "deepTau/batch_normalization_69/batchnorm_1/add/y\n",
      "deepTau/batch_normalization_69/batchnorm_1/add\n",
      "deepTau/batch_normalization_69/batchnorm_1/Rsqrt\n",
      "deepTau/batch_normalization_69/batchnorm_1/mul\n",
      "deepTau/batch_normalization_69/batchnorm_1/mul_1\n",
      "deepTau/batch_normalization_69/batchnorm_1/mul_2\n",
      "deepTau/batch_normalization_69/batchnorm_1/sub\n",
      "deepTau/batch_normalization_69/batchnorm_1/add_1\n",
      "deepTau/activation_103/Relu\n",
      "deepTau/dropout_96/Identity\n",
      "deepTau/dense_104/kernel\n",
      "deepTau/dense_104/kernel/read\n",
      "deepTau/dense_104/bias\n",
      "deepTau/dense_104/bias/read\n",
      "deepTau/dense_104/MatMul\n",
      "deepTau/dense_104/BiasAdd\n",
      "deepTau/batch_normalization_70/gamma\n",
      "deepTau/batch_normalization_70/gamma/read\n",
      "deepTau/batch_normalization_70/beta\n",
      "deepTau/batch_normalization_70/beta/read\n",
      "deepTau/batch_normalization_70/moving_mean\n",
      "deepTau/batch_normalization_70/moving_mean/read\n",
      "deepTau/batch_normalization_70/moving_variance\n",
      "deepTau/batch_normalization_70/moving_variance/read\n",
      "deepTau/batch_normalization_70/batchnorm_1/add/y\n",
      "deepTau/batch_normalization_70/batchnorm_1/add\n",
      "deepTau/batch_normalization_70/batchnorm_1/Rsqrt\n",
      "deepTau/batch_normalization_70/batchnorm_1/mul\n",
      "deepTau/batch_normalization_70/batchnorm_1/mul_1\n",
      "deepTau/batch_normalization_70/batchnorm_1/mul_2\n",
      "deepTau/batch_normalization_70/batchnorm_1/sub\n",
      "deepTau/batch_normalization_70/batchnorm_1/add_1\n",
      "deepTau/activation_104/Relu\n",
      "deepTau/dropout_97/Identity\n",
      "deepTau/dense_105/kernel\n",
      "deepTau/dense_105/kernel/read\n",
      "deepTau/dense_105/bias\n",
      "deepTau/dense_105/bias/read\n",
      "deepTau/dense_105/MatMul\n",
      "deepTau/dense_105/BiasAdd\n",
      "deepTau/activation_105/Softmax\n",
      "deepTau/output_node0\n"
     ]
    }
   ],
   "source": [
    "for op in graph.get_operations():\n",
    "    print(op.name)"
   ]
  },
  {
   "cell_type": "code",
   "execution_count": 56,
   "metadata": {},
   "outputs": [],
   "source": [
    "x_gr = graph.get_tensor_by_name('deepTau/dense_94_input:0')\n",
    "y_gr = graph.get_tensor_by_name('deepTau/output_node0:0')"
   ]
  },
  {
   "cell_type": "code",
   "execution_count": 59,
   "metadata": {},
   "outputs": [],
   "source": [
    "sess = tf.Session(graph=graph)"
   ]
  },
  {
   "cell_type": "code",
   "execution_count": 73,
   "metadata": {},
   "outputs": [],
   "source": [
    "N=10000\n",
    "diff = np.zeros([N, 4])\n",
    "for n in range(N):\n",
    "    y_out = sess.run(y_gr, feed_dict={x_gr: X_tau_jet[n:n+1, :] })\n",
    "    diff[n, :] = (pred_tau[n, :] - y_out) / pred_tau[n, :]"
   ]
  },
  {
   "cell_type": "code",
   "execution_count": 77,
   "metadata": {},
   "outputs": [
    {
     "data": {
      "text/plain": [
       "[<matplotlib.lines.Line2D at 0x1e87dc2e3c8>]"
      ]
     },
     "execution_count": 77,
     "metadata": {},
     "output_type": "execute_result"
    },
    {
     "data": {
      "image/png": "[encoded data removed]",
      "text/plain": [
       "<Figure size 432x288 with 1 Axes>"
      ]
     },
     "metadata": {},
     "output_type": "display_data"
    }
   ],
   "source": [
    "plt.plot(diff[:, 3])"
   ]
  },
  {
   "cell_type": "code",
   "execution_count": 66,
   "metadata": {},
   "outputs": [
    {
     "data": {
      "text/plain": [
       "array([[1.3476193e-02, 1.4143132e-04, 9.7120380e-01, 1.5178562e-02]],\n",
       "      dtype=float32)"
      ]
     },
     "execution_count": 66,
     "metadata": {},
     "output_type": "execute_result"
    }
   ],
   "source": [
    "y_out"
   ]
  },
  {
   "cell_type": "code",
   "execution_count": 64,
   "metadata": {},
   "outputs": [
    {
     "data": {
      "text/plain": [
       "array([1.3476225e-02, 1.4143159e-04, 9.7120380e-01, 1.5178562e-02],\n",
       "      dtype=float32)"
      ]
     },
     "execution_count": 64,
     "metadata": {},
     "output_type": "execute_result"
    }
   ],
   "source": [
    "pred_tau[234, :]"
   ]
  },
  {
   "cell_type": "code",
   "execution_count": null,
   "metadata": {},
   "outputs": [],
   "source": []
  }
 ],
 "metadata": {
  "kernelspec": {
   "display_name": "Python 3",
   "language": "python",
   "name": "python3"
  },
  "language_info": {
   "codemirror_mode": {
    "name": "ipython",
    "version": 3
   },
   "file_extension": ".py",
   "mimetype": "text/x-python",
   "name": "python",
   "nbconvert_exporter": "python",
   "pygments_lexer": "ipython3",
   "version": "3.6.5"
  }
 },
 "nbformat": 4,
 "nbformat_minor": 2
}
