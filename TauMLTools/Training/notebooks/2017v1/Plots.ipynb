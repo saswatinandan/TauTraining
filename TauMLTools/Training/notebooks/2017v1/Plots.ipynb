{
 "cells": [
  {
   "cell_type": "code",
   "execution_count": 1,
   "metadata": {},
   "outputs": [],
   "source": [
    "import pandas\n",
    "import numpy as np\n",
    "import uproot\n",
    "from sklearn import metrics\n",
    "%matplotlib inline\n",
    "import matplotlib.pyplot as plt\n",
    "from statsmodels.stats.proportion import proportion_confint\n",
    "import gc\n",
    "import seaborn as sns"
   ]
  },
  {
   "cell_type": "code",
   "execution_count": 2,
   "metadata": {},
   "outputs": [],
   "source": [
    "def ReadBrancesToDataFrame(file_name, tree_name, branches, nentries=None):\n",
    "    with uproot.open(file_name) as file:\n",
    "        tree = file[tree_name]\n",
    "        df = tree.arrays(branches, entrystop=nentries, outputtype=pandas.DataFrame)\n",
    "        df.columns = [ c.decode('utf-8') for c in df.columns ]\n",
    "    return df"
   ]
  },
  {
   "cell_type": "code",
   "execution_count": 7,
   "metadata": {},
   "outputs": [],
   "source": [
    "def VectorizeGenMatch(data):\n",
    "    e = (data[\"gen_match\"] == 1) | (data[\"gen_match\"] == 3)\n",
    "    data['gen_e'] = pandas.Series(e.astype(int), data.index)\n",
    "    mu = (data[\"gen_match\"] == 2) | (data[\"gen_match\"] == 4)\n",
    "    data['gen_mu'] = pandas.Series(mu.astype(int), data.index)\n",
    "    tau = data[\"gen_match\"] == 5\n",
    "    data['gen_tau'] = pandas.Series(tau.astype(int), data.index)\n",
    "    jet = data[\"gen_match\"] == 6\n",
    "    data['gen_jet'] = pandas.Series(jet.astype(int), data.index)"
   ]
  },
  {
   "cell_type": "code",
   "execution_count": 3,
   "metadata": {},
   "outputs": [],
   "source": [
    "df = ReadBrancesToDataFrame('../../tuples/mixed_training/shuffled.root', 'taus', ['gen_match', 'pt'])"
   ]
  },
  {
   "cell_type": "code",
   "execution_count": 8,
   "metadata": {},
   "outputs": [],
   "source": [
    "VectorizeGenMatch(df)"
   ]
  },
  {
   "cell_type": "code",
   "execution_count": 12,
   "metadata": {},
   "outputs": [
    {
     "data": {
      "image/png": "[encoded data removed]",
      "text/plain": [
       "<Figure size 540x504 with 1 Axes>"
      ]
     },
     "metadata": {},
     "output_type": "display_data"
    }
   ],
   "source": [
    "pt = np.array([20, 30, 40, 50, 60, 70, 80, 90, 100, 120, 140, 160, 180, 200, 250, 300, 350, 400])\n",
    "bins = pt\n",
    "fig = plt.figure(figsize=(7.5,7))\n",
    "plt.hist(df[(df['gen_tau'] == 1)]['pt'], bins=bins, histtype='step', stacked=True, fill=False, density=True)\n",
    "plt.xlim([bins[0], bins[-1]])\n",
    "plt.xlabel('$P_T$ (GeV)', fontsize=16)\n",
    "plt.ylabel('a.u.', fontsize=16)\n",
    "plt.xticks(fontsize=14)\n",
    "plt.yticks(fontsize=14)\n",
    "\n",
    "plt.savefig('DY_tau_pt.pdf', bbox_inches='tight')"
   ]
  },
  {
   "cell_type": "code",
   "execution_count": null,
   "metadata": {},
   "outputs": [],
   "source": []
  }
 ],
 "metadata": {
  "kernelspec": {
   "display_name": "Python 3",
   "language": "python",
   "name": "python3"
  },
  "language_info": {
   "codemirror_mode": {
    "name": "ipython",
    "version": 3
   },
   "file_extension": ".py",
   "mimetype": "text/x-python",
   "name": "python",
   "nbconvert_exporter": "python",
   "pygments_lexer": "ipython3",
   "version": "3.6.5"
  }
 },
 "nbformat": 4,
 "nbformat_minor": 2
}
